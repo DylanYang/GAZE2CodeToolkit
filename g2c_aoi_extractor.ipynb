{
 "cells": [
  {
   "cell_type": "markdown",
   "metadata": {},
   "source": [
    "# Getting started with gaze dataset "
   ]
  },
  {
   "cell_type": "markdown",
   "metadata": {},
   "source": [
    "In this example, we will show examples of the main functionalities included in the emtk.\n",
    "\n",
    "This includes:\n",
    "- Parsing raw data from the gaze dataset to pandas dataframe.\n",
    "- Visualizing raw data, filtered fixation, saccades, and AOIs visualization.\n",
    "- Applying fixation correction through setting offset.\n",
    "- Generating AOIs for any gaze stimuli.\n",
    "- Adding text tokens to generated AOIs.\n",
    "- Adding srcML tags to AOIs and tokens.\n",
    "- Performing hit test between fixations and AOIs. "
   ]
  },
  {
   "cell_type": "code",
   "execution_count": 1,
   "metadata": {},
   "outputs": [],
   "source": [
    "%load_ext autoreload\n",
    "%autoreload 2  "
   ]
  },
  {
   "cell_type": "markdown",
   "metadata": {},
   "source": [
    "# Importing the tool"
   ]
  },
  {
   "cell_type": "code",
   "execution_count": 2,
   "metadata": {},
   "outputs": [],
   "source": [
    "import pandas as pd\n",
    "from g2c import parsers, visualization, util, aoi\n",
    "\n",
    "# ignore warnings\n",
    "import warnings\n",
    "warnings.filterwarnings('ignore')"
   ]
  },
  {
   "cell_type": "markdown",
   "metadata": {},
   "source": [
    "# Parsing raw data from the UNL dataset"
   ]
  },
  {
   "cell_type": "code",
   "execution_count": 4,
   "metadata": {},
   "outputs": [
    {
     "name": "stderr",
     "output_type": "stream",
     "text": [
      "Processing files:   1%|\u001b[32m          \u001b[0m| 1/83 [00:00<01:19,  1.03file/s]"
     ]
    },
    {
     "name": "stdout",
     "output_type": "stream",
     "text": [
      "Processed file: YMU-UM Recording10.tsv\n"
     ]
    },
    {
     "name": "stderr",
     "output_type": "stream",
     "text": [
      "Processing files:   2%|\u001b[32m▏         \u001b[0m| 2/83 [00:02<01:46,  1.31s/file]"
     ]
    },
    {
     "name": "stdout",
     "output_type": "stream",
     "text": [
      "Processed file: YMU-UM Recording11.tsv\n"
     ]
    },
    {
     "name": "stderr",
     "output_type": "stream",
     "text": [
      "Processing files:   4%|\u001b[32m▎         \u001b[0m| 3/83 [00:04<02:25,  1.81s/file]"
     ]
    },
    {
     "name": "stdout",
     "output_type": "stream",
     "text": [
      "Processed file: YMU-UM Recording12.tsv\n"
     ]
    },
    {
     "name": "stderr",
     "output_type": "stream",
     "text": [
      "Processing files:   5%|\u001b[32m▍         \u001b[0m| 4/83 [00:07<02:50,  2.16s/file]"
     ]
    },
    {
     "name": "stdout",
     "output_type": "stream",
     "text": [
      "Processed file: YMU-UM Recording13.tsv\n"
     ]
    },
    {
     "name": "stderr",
     "output_type": "stream",
     "text": [
      "Processing files:   6%|\u001b[32m▌         \u001b[0m| 5/83 [00:10<03:12,  2.47s/file]"
     ]
    },
    {
     "name": "stdout",
     "output_type": "stream",
     "text": [
      "Processed file: YMU-UM Recording14.tsv\n"
     ]
    },
    {
     "name": "stderr",
     "output_type": "stream",
     "text": [
      "Processing files:   7%|\u001b[32m▋         \u001b[0m| 6/83 [00:14<03:37,  2.82s/file]"
     ]
    },
    {
     "name": "stdout",
     "output_type": "stream",
     "text": [
      "Processed file: YMU-UM Recording15.tsv\n"
     ]
    },
    {
     "name": "stderr",
     "output_type": "stream",
     "text": [
      "Processing files:   8%|\u001b[32m▊         \u001b[0m| 7/83 [00:18<04:00,  3.17s/file]"
     ]
    },
    {
     "name": "stdout",
     "output_type": "stream",
     "text": [
      "Processed file: YMU-UM Recording16.tsv\n"
     ]
    },
    {
     "name": "stderr",
     "output_type": "stream",
     "text": [
      "Processing files:  10%|\u001b[32m▉         \u001b[0m| 8/83 [00:22<04:17,  3.44s/file]"
     ]
    },
    {
     "name": "stdout",
     "output_type": "stream",
     "text": [
      "Processed file: YMU-UM Recording17.tsv\n"
     ]
    },
    {
     "name": "stderr",
     "output_type": "stream",
     "text": [
      "Processing files:  11%|\u001b[32m█         \u001b[0m| 9/83 [00:26<04:28,  3.63s/file]"
     ]
    },
    {
     "name": "stdout",
     "output_type": "stream",
     "text": [
      "Processed file: YMU-UM Recording18.tsv\n"
     ]
    },
    {
     "name": "stderr",
     "output_type": "stream",
     "text": [
      "Processing files:  12%|\u001b[32m█▏        \u001b[0m| 10/83 [00:30<04:33,  3.75s/file]"
     ]
    },
    {
     "name": "stdout",
     "output_type": "stream",
     "text": [
      "Processed file: YMU-UM Recording19.tsv\n"
     ]
    },
    {
     "name": "stderr",
     "output_type": "stream",
     "text": [
      "Processing files:  13%|\u001b[32m█▎        \u001b[0m| 11/83 [00:34<04:50,  4.04s/file]"
     ]
    },
    {
     "name": "stdout",
     "output_type": "stream",
     "text": [
      "Processed file: YMU-UM Recording2.tsv\n"
     ]
    },
    {
     "name": "stderr",
     "output_type": "stream",
     "text": [
      "Processing files:  14%|\u001b[32m█▍        \u001b[0m| 12/83 [00:40<05:14,  4.43s/file]"
     ]
    },
    {
     "name": "stdout",
     "output_type": "stream",
     "text": [
      "Processed file: YMU-UM Recording20.tsv\n"
     ]
    },
    {
     "name": "stderr",
     "output_type": "stream",
     "text": [
      "Processing files:  16%|\u001b[32m█▌        \u001b[0m| 13/83 [00:46<05:51,  5.02s/file]"
     ]
    },
    {
     "name": "stdout",
     "output_type": "stream",
     "text": [
      "Processed file: YMU-UM Recording21.tsv\n"
     ]
    },
    {
     "name": "stderr",
     "output_type": "stream",
     "text": [
      "Processing files:  17%|\u001b[32m█▋        \u001b[0m| 14/83 [00:53<06:21,  5.53s/file]"
     ]
    },
    {
     "name": "stdout",
     "output_type": "stream",
     "text": [
      "Processed file: YMU-UM Recording22.tsv\n"
     ]
    },
    {
     "name": "stderr",
     "output_type": "stream",
     "text": [
      "Processing files:  18%|\u001b[32m█▊        \u001b[0m| 15/83 [00:59<06:33,  5.78s/file]"
     ]
    },
    {
     "name": "stdout",
     "output_type": "stream",
     "text": [
      "Processed file: YMU-UM Recording23.tsv\n"
     ]
    },
    {
     "name": "stderr",
     "output_type": "stream",
     "text": [
      "Processing files:  19%|\u001b[32m█▉        \u001b[0m| 16/83 [01:06<06:45,  6.05s/file]"
     ]
    },
    {
     "name": "stdout",
     "output_type": "stream",
     "text": [
      "Processed file: YMU-UM Recording24.tsv\n"
     ]
    },
    {
     "name": "stderr",
     "output_type": "stream",
     "text": [
      "Processing files:  20%|\u001b[32m██        \u001b[0m| 17/83 [01:14<07:25,  6.75s/file]"
     ]
    },
    {
     "name": "stdout",
     "output_type": "stream",
     "text": [
      "Processed file: YMU-UM Recording25.tsv\n"
     ]
    },
    {
     "name": "stderr",
     "output_type": "stream",
     "text": [
      "Processing files:  22%|\u001b[32m██▏       \u001b[0m| 18/83 [01:22<07:40,  7.08s/file]"
     ]
    },
    {
     "name": "stdout",
     "output_type": "stream",
     "text": [
      "Processed file: YMU-UM Recording26.tsv\n"
     ]
    },
    {
     "name": "stderr",
     "output_type": "stream",
     "text": [
      "Processing files:  23%|\u001b[32m██▎       \u001b[0m| 19/83 [01:31<08:00,  7.51s/file]"
     ]
    },
    {
     "name": "stdout",
     "output_type": "stream",
     "text": [
      "Processed file: YMU-UM Recording27.tsv\n"
     ]
    },
    {
     "name": "stderr",
     "output_type": "stream",
     "text": [
      "Processing files:  24%|\u001b[32m██▍       \u001b[0m| 20/83 [01:39<08:05,  7.71s/file]"
     ]
    },
    {
     "name": "stdout",
     "output_type": "stream",
     "text": [
      "Processed file: YMU-UM Recording28.tsv\n"
     ]
    },
    {
     "name": "stderr",
     "output_type": "stream",
     "text": [
      "Processing files:  25%|\u001b[32m██▌       \u001b[0m| 21/83 [01:47<08:15,  7.99s/file]"
     ]
    },
    {
     "name": "stdout",
     "output_type": "stream",
     "text": [
      "Processed file: YMU-UM Recording29.tsv\n"
     ]
    },
    {
     "name": "stderr",
     "output_type": "stream",
     "text": [
      "Processing files:  27%|\u001b[32m██▋       \u001b[0m| 22/83 [01:56<08:17,  8.15s/file]"
     ]
    },
    {
     "name": "stdout",
     "output_type": "stream",
     "text": [
      "Processed file: YMU-UM Recording3.tsv\n"
     ]
    },
    {
     "name": "stderr",
     "output_type": "stream",
     "text": [
      "Processing files:  28%|\u001b[32m██▊       \u001b[0m| 23/83 [02:05<08:28,  8.48s/file]"
     ]
    },
    {
     "name": "stdout",
     "output_type": "stream",
     "text": [
      "Processed file: YMU-UM Recording30.tsv\n"
     ]
    },
    {
     "name": "stderr",
     "output_type": "stream",
     "text": [
      "Processing files:  29%|\u001b[32m██▉       \u001b[0m| 24/83 [02:15<08:43,  8.88s/file]"
     ]
    },
    {
     "name": "stdout",
     "output_type": "stream",
     "text": [
      "Processed file: YMU-UM Recording31.tsv\n"
     ]
    },
    {
     "name": "stderr",
     "output_type": "stream",
     "text": [
      "Processing files:  30%|\u001b[32m███       \u001b[0m| 25/83 [02:25<08:48,  9.12s/file]"
     ]
    },
    {
     "name": "stdout",
     "output_type": "stream",
     "text": [
      "Processed file: YMU-UM Recording32.tsv\n"
     ]
    },
    {
     "name": "stderr",
     "output_type": "stream",
     "text": [
      "Processing files:  31%|\u001b[32m███▏      \u001b[0m| 26/83 [02:35<09:07,  9.61s/file]"
     ]
    },
    {
     "name": "stdout",
     "output_type": "stream",
     "text": [
      "Processed file: YMU-UM Recording33.tsv\n"
     ]
    },
    {
     "name": "stderr",
     "output_type": "stream",
     "text": [
      "Processing files:  33%|\u001b[32m███▎      \u001b[0m| 27/83 [02:46<09:10,  9.84s/file]"
     ]
    },
    {
     "name": "stdout",
     "output_type": "stream",
     "text": [
      "Processed file: YMU-UM Recording34.tsv\n"
     ]
    },
    {
     "name": "stderr",
     "output_type": "stream",
     "text": [
      "Processing files:  34%|\u001b[32m███▎      \u001b[0m| 28/83 [02:56<09:13, 10.06s/file]"
     ]
    },
    {
     "name": "stdout",
     "output_type": "stream",
     "text": [
      "Processed file: YMU-UM Recording35.tsv\n"
     ]
    },
    {
     "name": "stderr",
     "output_type": "stream",
     "text": [
      "Processing files:  35%|\u001b[32m███▍      \u001b[0m| 29/83 [03:07<09:21, 10.39s/file]"
     ]
    },
    {
     "name": "stdout",
     "output_type": "stream",
     "text": [
      "Processed file: YMU-UM Recording36.tsv\n"
     ]
    },
    {
     "name": "stderr",
     "output_type": "stream",
     "text": [
      "Processing files:  36%|\u001b[32m███▌      \u001b[0m| 30/83 [03:19<09:34, 10.84s/file]"
     ]
    },
    {
     "name": "stdout",
     "output_type": "stream",
     "text": [
      "Processed file: YMU-UM Recording37.tsv\n"
     ]
    },
    {
     "name": "stderr",
     "output_type": "stream",
     "text": [
      "Processing files:  37%|\u001b[32m███▋      \u001b[0m| 31/83 [03:32<09:49, 11.34s/file]"
     ]
    },
    {
     "name": "stdout",
     "output_type": "stream",
     "text": [
      "Processed file: YMU-UM Recording38.tsv\n"
     ]
    },
    {
     "name": "stderr",
     "output_type": "stream",
     "text": [
      "Processing files:  39%|\u001b[32m███▊      \u001b[0m| 32/83 [03:45<10:01, 11.79s/file]"
     ]
    },
    {
     "name": "stdout",
     "output_type": "stream",
     "text": [
      "Processed file: YMU-UM Recording39.tsv\n"
     ]
    },
    {
     "name": "stderr",
     "output_type": "stream",
     "text": [
      "Processing files:  40%|\u001b[32m███▉      \u001b[0m| 33/83 [03:58<10:06, 12.13s/file]"
     ]
    },
    {
     "name": "stdout",
     "output_type": "stream",
     "text": [
      "Processed file: YMU-UM Recording4.tsv\n"
     ]
    },
    {
     "name": "stderr",
     "output_type": "stream",
     "text": [
      "Processing files:  41%|\u001b[32m████      \u001b[0m| 34/83 [04:11<10:06, 12.37s/file]"
     ]
    },
    {
     "name": "stdout",
     "output_type": "stream",
     "text": [
      "Processed file: YMU-UM Recording40.tsv\n"
     ]
    },
    {
     "name": "stderr",
     "output_type": "stream",
     "text": [
      "Processing files:  42%|\u001b[32m████▏     \u001b[0m| 35/83 [04:24<10:07, 12.65s/file]"
     ]
    },
    {
     "name": "stdout",
     "output_type": "stream",
     "text": [
      "Processed file: YMU-UM Recording41.tsv\n"
     ]
    },
    {
     "name": "stderr",
     "output_type": "stream",
     "text": [
      "Processing files:  43%|\u001b[32m████▎     \u001b[0m| 36/83 [04:37<10:01, 12.81s/file]"
     ]
    },
    {
     "name": "stdout",
     "output_type": "stream",
     "text": [
      "Processed file: YMU-UM Recording42.tsv\n"
     ]
    },
    {
     "name": "stderr",
     "output_type": "stream",
     "text": [
      "Processing files:  45%|\u001b[32m████▍     \u001b[0m| 37/83 [04:52<10:14, 13.36s/file]"
     ]
    },
    {
     "name": "stdout",
     "output_type": "stream",
     "text": [
      "Processed file: YMU-UM Recording43.tsv\n"
     ]
    },
    {
     "name": "stderr",
     "output_type": "stream",
     "text": [
      "Processing files:  46%|\u001b[32m████▌     \u001b[0m| 38/83 [05:06<10:16, 13.70s/file]"
     ]
    },
    {
     "name": "stdout",
     "output_type": "stream",
     "text": [
      "Processed file: YMU-UM Recording44.tsv\n"
     ]
    },
    {
     "name": "stderr",
     "output_type": "stream",
     "text": [
      "Processing files:  47%|\u001b[32m████▋     \u001b[0m| 39/83 [05:21<10:15, 13.99s/file]"
     ]
    },
    {
     "name": "stdout",
     "output_type": "stream",
     "text": [
      "Processed file: YMU-UM Recording45.tsv\n"
     ]
    },
    {
     "name": "stderr",
     "output_type": "stream",
     "text": [
      "Processing files:  48%|\u001b[32m████▊     \u001b[0m| 40/83 [05:36<10:14, 14.30s/file]"
     ]
    },
    {
     "name": "stdout",
     "output_type": "stream",
     "text": [
      "Processed file: YMU-UM Recording46.tsv\n"
     ]
    },
    {
     "name": "stderr",
     "output_type": "stream",
     "text": [
      "Processing files:  49%|\u001b[32m████▉     \u001b[0m| 41/83 [05:51<10:11, 14.57s/file]"
     ]
    },
    {
     "name": "stdout",
     "output_type": "stream",
     "text": [
      "Processed file: YMU-UM Recording47.tsv\n"
     ]
    },
    {
     "name": "stderr",
     "output_type": "stream",
     "text": [
      "Processing files:  51%|\u001b[32m█████     \u001b[0m| 42/83 [06:06<10:05, 14.76s/file]"
     ]
    },
    {
     "name": "stdout",
     "output_type": "stream",
     "text": [
      "Processed file: YMU-UM Recording48.tsv\n"
     ]
    },
    {
     "name": "stderr",
     "output_type": "stream",
     "text": [
      "Processing files:  52%|\u001b[32m█████▏    \u001b[0m| 43/83 [06:21<09:55, 14.88s/file]"
     ]
    },
    {
     "name": "stdout",
     "output_type": "stream",
     "text": [
      "Processed file: YMU-UM Recording49.tsv\n"
     ]
    },
    {
     "name": "stderr",
     "output_type": "stream",
     "text": [
      "Processing files:  53%|\u001b[32m█████▎    \u001b[0m| 44/83 [06:37<09:48, 15.08s/file]"
     ]
    },
    {
     "name": "stdout",
     "output_type": "stream",
     "text": [
      "Processed file: YMU-UM Recording5.tsv\n"
     ]
    },
    {
     "name": "stderr",
     "output_type": "stream",
     "text": [
      "Processing files:  54%|\u001b[32m█████▍    \u001b[0m| 45/83 [06:54<09:50, 15.54s/file]"
     ]
    },
    {
     "name": "stdout",
     "output_type": "stream",
     "text": [
      "Processed file: YMU-UM Recording50.tsv\n"
     ]
    },
    {
     "name": "stderr",
     "output_type": "stream",
     "text": [
      "Processing files:  55%|\u001b[32m█████▌    \u001b[0m| 46/83 [07:10<09:49, 15.94s/file]"
     ]
    },
    {
     "name": "stdout",
     "output_type": "stream",
     "text": [
      "Processed file: YMU-UM Recording51.tsv\n"
     ]
    },
    {
     "name": "stderr",
     "output_type": "stream",
     "text": [
      "Processing files:  57%|\u001b[32m█████▋    \u001b[0m| 47/83 [07:28<09:49, 16.37s/file]"
     ]
    },
    {
     "name": "stdout",
     "output_type": "stream",
     "text": [
      "Processed file: YMU-UM Recording52.tsv\n"
     ]
    },
    {
     "name": "stderr",
     "output_type": "stream",
     "text": [
      "Processing files:  58%|\u001b[32m█████▊    \u001b[0m| 48/83 [07:45<09:37, 16.50s/file]"
     ]
    },
    {
     "name": "stdout",
     "output_type": "stream",
     "text": [
      "Processed file: YMU-UM Recording53.tsv\n"
     ]
    },
    {
     "name": "stderr",
     "output_type": "stream",
     "text": [
      "Processing files:  59%|\u001b[32m█████▉    \u001b[0m| 49/83 [08:02<09:30, 16.77s/file]"
     ]
    },
    {
     "name": "stdout",
     "output_type": "stream",
     "text": [
      "Processed file: YMU-UM Recording54.tsv\n"
     ]
    },
    {
     "name": "stderr",
     "output_type": "stream",
     "text": [
      "Processing files:  60%|\u001b[32m██████    \u001b[0m| 50/83 [08:19<09:18, 16.93s/file]"
     ]
    },
    {
     "name": "stdout",
     "output_type": "stream",
     "text": [
      "Processed file: YMU-UM Recording55.tsv\n"
     ]
    },
    {
     "name": "stderr",
     "output_type": "stream",
     "text": [
      "Processing files:  61%|\u001b[32m██████▏   \u001b[0m| 51/83 [08:37<09:07, 17.11s/file]"
     ]
    },
    {
     "name": "stdout",
     "output_type": "stream",
     "text": [
      "Processed file: YMU-UM Recording56.tsv\n"
     ]
    },
    {
     "name": "stderr",
     "output_type": "stream",
     "text": [
      "Processing files:  63%|\u001b[32m██████▎   \u001b[0m| 52/83 [08:55<09:02, 17.49s/file]"
     ]
    },
    {
     "name": "stdout",
     "output_type": "stream",
     "text": [
      "Processed file: YMU-UM Recording57.tsv\n"
     ]
    },
    {
     "name": "stderr",
     "output_type": "stream",
     "text": [
      "Processing files:  64%|\u001b[32m██████▍   \u001b[0m| 53/83 [09:14<08:59, 17.97s/file]"
     ]
    },
    {
     "name": "stdout",
     "output_type": "stream",
     "text": [
      "Processed file: YMU-UM Recording58.tsv\n"
     ]
    },
    {
     "name": "stderr",
     "output_type": "stream",
     "text": [
      "Processing files:  65%|\u001b[32m██████▌   \u001b[0m| 54/83 [09:33<08:50, 18.30s/file]"
     ]
    },
    {
     "name": "stdout",
     "output_type": "stream",
     "text": [
      "Processed file: YMU-UM Recording59.tsv\n"
     ]
    },
    {
     "name": "stderr",
     "output_type": "stream",
     "text": [
      "Processing files:  66%|\u001b[32m██████▋   \u001b[0m| 55/83 [09:54<08:51, 18.99s/file]"
     ]
    },
    {
     "name": "stdout",
     "output_type": "stream",
     "text": [
      "Processed file: YMU-UM Recording6.tsv\n"
     ]
    },
    {
     "name": "stderr",
     "output_type": "stream",
     "text": [
      "Processing files:  67%|\u001b[32m██████▋   \u001b[0m| 56/83 [10:15<08:47, 19.53s/file]"
     ]
    },
    {
     "name": "stdout",
     "output_type": "stream",
     "text": [
      "Processed file: YMU-UM Recording60.tsv\n"
     ]
    },
    {
     "name": "stderr",
     "output_type": "stream",
     "text": [
      "Processing files:  69%|\u001b[32m██████▊   \u001b[0m| 57/83 [10:37<08:45, 20.21s/file]"
     ]
    },
    {
     "name": "stdout",
     "output_type": "stream",
     "text": [
      "Processed file: YMU-UM Recording61.tsv\n"
     ]
    },
    {
     "name": "stderr",
     "output_type": "stream",
     "text": [
      "Processing files:  70%|\u001b[32m██████▉   \u001b[0m| 58/83 [10:59<08:38, 20.76s/file]"
     ]
    },
    {
     "name": "stdout",
     "output_type": "stream",
     "text": [
      "Processed file: YMU-UM Recording62.tsv\n"
     ]
    },
    {
     "name": "stderr",
     "output_type": "stream",
     "text": [
      "Processing files:  71%|\u001b[32m███████   \u001b[0m| 59/83 [10:59<05:51, 14.63s/file]"
     ]
    },
    {
     "name": "stdout",
     "output_type": "stream",
     "text": [
      "Stimuli not found or error in file: YMU-UM Recording63.tsv | Error: Expected 7 unique stimuli, found 6\n"
     ]
    },
    {
     "name": "stderr",
     "output_type": "stream",
     "text": [
      "Processing files:  72%|\u001b[32m███████▏  \u001b[0m| 60/83 [11:21<06:30, 16.99s/file]"
     ]
    },
    {
     "name": "stdout",
     "output_type": "stream",
     "text": [
      "Processed file: YMU-UM Recording64.tsv\n"
     ]
    },
    {
     "name": "stderr",
     "output_type": "stream",
     "text": [
      "Processing files:  73%|\u001b[32m███████▎  \u001b[0m| 61/83 [11:44<06:48, 18.55s/file]"
     ]
    },
    {
     "name": "stdout",
     "output_type": "stream",
     "text": [
      "Processed file: YMU-UM Recording65.tsv\n"
     ]
    },
    {
     "name": "stderr",
     "output_type": "stream",
     "text": [
      "Processing files:  75%|\u001b[32m███████▍  \u001b[0m| 62/83 [12:06<06:52, 19.65s/file]"
     ]
    },
    {
     "name": "stdout",
     "output_type": "stream",
     "text": [
      "Processed file: YMU-UM Recording66.tsv\n"
     ]
    },
    {
     "name": "stderr",
     "output_type": "stream",
     "text": [
      "Processing files:  76%|\u001b[32m███████▌  \u001b[0m| 63/83 [12:29<06:51, 20.58s/file]"
     ]
    },
    {
     "name": "stdout",
     "output_type": "stream",
     "text": [
      "Processed file: YMU-UM Recording67.tsv\n"
     ]
    },
    {
     "name": "stderr",
     "output_type": "stream",
     "text": [
      "Processing files:  77%|\u001b[32m███████▋  \u001b[0m| 64/83 [12:52<06:45, 21.32s/file]"
     ]
    },
    {
     "name": "stdout",
     "output_type": "stream",
     "text": [
      "Processed file: YMU-UM Recording68.tsv\n"
     ]
    },
    {
     "name": "stderr",
     "output_type": "stream",
     "text": [
      "Processing files:  78%|\u001b[32m███████▊  \u001b[0m| 65/83 [13:15<06:36, 22.03s/file]"
     ]
    },
    {
     "name": "stdout",
     "output_type": "stream",
     "text": [
      "Processed file: YMU-UM Recording69.tsv\n"
     ]
    },
    {
     "name": "stderr",
     "output_type": "stream",
     "text": [
      "Processing files:  80%|\u001b[32m███████▉  \u001b[0m| 66/83 [13:39<06:22, 22.47s/file]"
     ]
    },
    {
     "name": "stdout",
     "output_type": "stream",
     "text": [
      "Processed file: YMU-UM Recording7.tsv\n"
     ]
    },
    {
     "name": "stderr",
     "output_type": "stream",
     "text": [
      "Processing files:  81%|\u001b[32m████████  \u001b[0m| 67/83 [14:02<06:03, 22.74s/file]"
     ]
    },
    {
     "name": "stdout",
     "output_type": "stream",
     "text": [
      "Processed file: YMU-UM Recording70.tsv\n"
     ]
    },
    {
     "name": "stderr",
     "output_type": "stream",
     "text": [
      "Processing files:  82%|\u001b[32m████████▏ \u001b[0m| 68/83 [14:26<05:46, 23.11s/file]"
     ]
    },
    {
     "name": "stdout",
     "output_type": "stream",
     "text": [
      "Processed file: YMU-UM Recording71.tsv\n"
     ]
    },
    {
     "name": "stderr",
     "output_type": "stream",
     "text": [
      "Processing files:  83%|\u001b[32m████████▎ \u001b[0m| 69/83 [14:51<05:29, 23.57s/file]"
     ]
    },
    {
     "name": "stdout",
     "output_type": "stream",
     "text": [
      "Processed file: YMU-UM Recording72.tsv\n"
     ]
    },
    {
     "name": "stderr",
     "output_type": "stream",
     "text": [
      "Processing files:  84%|\u001b[32m████████▍ \u001b[0m| 70/83 [15:16<05:11, 23.96s/file]"
     ]
    },
    {
     "name": "stdout",
     "output_type": "stream",
     "text": [
      "Processed file: YMU-UM Recording73.tsv\n"
     ]
    },
    {
     "name": "stderr",
     "output_type": "stream",
     "text": [
      "Processing files:  86%|\u001b[32m████████▌ \u001b[0m| 71/83 [15:40<04:48, 24.07s/file]"
     ]
    },
    {
     "name": "stdout",
     "output_type": "stream",
     "text": [
      "Processed file: YMU-UM Recording74.tsv\n"
     ]
    },
    {
     "name": "stderr",
     "output_type": "stream",
     "text": [
      "Processing files:  87%|\u001b[32m████████▋ \u001b[0m| 72/83 [16:05<04:28, 24.44s/file]"
     ]
    },
    {
     "name": "stdout",
     "output_type": "stream",
     "text": [
      "Processed file: YMU-UM Recording75.tsv\n"
     ]
    },
    {
     "name": "stderr",
     "output_type": "stream",
     "text": [
      "Processing files:  88%|\u001b[32m████████▊ \u001b[0m| 73/83 [16:31<04:08, 24.87s/file]"
     ]
    },
    {
     "name": "stdout",
     "output_type": "stream",
     "text": [
      "Processed file: YMU-UM Recording76.tsv\n"
     ]
    },
    {
     "name": "stderr",
     "output_type": "stream",
     "text": [
      "Processing files:  89%|\u001b[32m████████▉ \u001b[0m| 74/83 [16:57<03:45, 25.02s/file]"
     ]
    },
    {
     "name": "stdout",
     "output_type": "stream",
     "text": [
      "Processed file: YMU-UM Recording77.tsv\n"
     ]
    },
    {
     "name": "stderr",
     "output_type": "stream",
     "text": [
      "Processing files:  90%|\u001b[32m█████████ \u001b[0m| 75/83 [17:22<03:21, 25.15s/file]"
     ]
    },
    {
     "name": "stdout",
     "output_type": "stream",
     "text": [
      "Processed file: YMU-UM Recording78.tsv\n"
     ]
    },
    {
     "name": "stderr",
     "output_type": "stream",
     "text": [
      "Processing files:  92%|\u001b[32m█████████▏\u001b[0m| 76/83 [17:47<02:56, 25.19s/file]"
     ]
    },
    {
     "name": "stdout",
     "output_type": "stream",
     "text": [
      "Processed file: YMU-UM Recording79.tsv\n"
     ]
    },
    {
     "name": "stderr",
     "output_type": "stream",
     "text": [
      "Processing files:  93%|\u001b[32m█████████▎\u001b[0m| 77/83 [18:13<02:31, 25.30s/file]"
     ]
    },
    {
     "name": "stdout",
     "output_type": "stream",
     "text": [
      "Processed file: YMU-UM Recording8.tsv\n"
     ]
    },
    {
     "name": "stderr",
     "output_type": "stream",
     "text": [
      "Processing files:  94%|\u001b[32m█████████▍\u001b[0m| 78/83 [18:39<02:07, 25.45s/file]"
     ]
    },
    {
     "name": "stdout",
     "output_type": "stream",
     "text": [
      "Processed file: YMU-UM Recording80.tsv\n"
     ]
    },
    {
     "name": "stderr",
     "output_type": "stream",
     "text": [
      "Processing files:  95%|\u001b[32m█████████▌\u001b[0m| 79/83 [19:05<01:42, 25.70s/file]"
     ]
    },
    {
     "name": "stdout",
     "output_type": "stream",
     "text": [
      "Processed file: YMU-UM Recording81.tsv\n"
     ]
    },
    {
     "name": "stderr",
     "output_type": "stream",
     "text": [
      "Processing files:  96%|\u001b[32m█████████▋\u001b[0m| 80/83 [19:32<01:17, 25.96s/file]"
     ]
    },
    {
     "name": "stdout",
     "output_type": "stream",
     "text": [
      "Processed file: YMU-UM Recording82.tsv\n"
     ]
    },
    {
     "name": "stderr",
     "output_type": "stream",
     "text": [
      "Processing files:  98%|\u001b[32m█████████▊\u001b[0m| 81/83 [19:58<00:52, 26.25s/file]"
     ]
    },
    {
     "name": "stdout",
     "output_type": "stream",
     "text": [
      "Processed file: YMU-UM Recording83.tsv\n"
     ]
    },
    {
     "name": "stderr",
     "output_type": "stream",
     "text": [
      "Processing files:  99%|\u001b[32m█████████▉\u001b[0m| 82/83 [20:26<00:26, 26.73s/file]"
     ]
    },
    {
     "name": "stdout",
     "output_type": "stream",
     "text": [
      "Processed file: YMU-UM Recording84.tsv\n"
     ]
    },
    {
     "name": "stderr",
     "output_type": "stream",
     "text": [
      "Processing files: 100%|\u001b[32m██████████\u001b[0m| 83/83 [20:54<00:00, 15.12s/file]"
     ]
    },
    {
     "name": "stdout",
     "output_type": "stream",
     "text": [
      "Processed file: YMU-UM Recording9.tsv\n"
     ]
    },
    {
     "name": "stderr",
     "output_type": "stream",
     "text": [
      "\n"
     ]
    }
   ],
   "source": [
    "# eye_events, samples = parsers.UNL_UM(sample_size = 50)\n",
    "eye_events, samples = parsers.YMU_UM(sample_size = 100)"
   ]
  },
  {
   "cell_type": "code",
   "execution_count": 5,
   "metadata": {},
   "outputs": [
    {
     "data": {
      "text/html": [
       "<div>\n",
       "<style scoped>\n",
       "    .dataframe tbody tr th:only-of-type {\n",
       "        vertical-align: middle;\n",
       "    }\n",
       "\n",
       "    .dataframe tbody tr th {\n",
       "        vertical-align: top;\n",
       "    }\n",
       "\n",
       "    .dataframe thead th {\n",
       "        text-align: right;\n",
       "    }\n",
       "</style>\n",
       "<table border=\"1\" class=\"dataframe\">\n",
       "  <thead>\n",
       "    <tr style=\"text-align: right;\">\n",
       "      <th></th>\n",
       "      <th>eye_tracker</th>\n",
       "      <th>experiment_id</th>\n",
       "      <th>participant_id</th>\n",
       "      <th>filename</th>\n",
       "      <th>trial_id</th>\n",
       "      <th>stimuli_module</th>\n",
       "      <th>stimuli_name</th>\n",
       "      <th>Recording timestamp</th>\n",
       "      <th>Project name</th>\n",
       "      <th>Export date</th>\n",
       "      <th>...</th>\n",
       "      <th>Mapped fixation Y [Q3]</th>\n",
       "      <th>Mapped fixation X [Q4A]</th>\n",
       "      <th>Mapped fixation Y [Q4A]</th>\n",
       "      <th>Mapped fixation X [Q4B]</th>\n",
       "      <th>Mapped fixation Y [Q4B]</th>\n",
       "      <th>Mapped fixation X [Q5]</th>\n",
       "      <th>Mapped fixation Y [Q5]</th>\n",
       "      <th>Eye movement type</th>\n",
       "      <th>Gaze event duration</th>\n",
       "      <th>Eye movement type index</th>\n",
       "    </tr>\n",
       "  </thead>\n",
       "  <tbody>\n",
       "    <tr>\n",
       "      <th>0</th>\n",
       "      <td>Tobii I-VT (Fixation)</td>\n",
       "      <td>Participant10</td>\n",
       "      <td>Participant10</td>\n",
       "      <td>YMU-UM Recording10.tsv</td>\n",
       "      <td>introduction-Q3</td>\n",
       "      <td>datasets/YMU_UM/stimuli</td>\n",
       "      <td>introduction-Q3.png</td>\n",
       "      <td>122982715</td>\n",
       "      <td>YMU-UM</td>\n",
       "      <td>2025/7/24</td>\n",
       "      <td>...</td>\n",
       "      <td>NaN</td>\n",
       "      <td>NaN</td>\n",
       "      <td>NaN</td>\n",
       "      <td>NaN</td>\n",
       "      <td>NaN</td>\n",
       "      <td>NaN</td>\n",
       "      <td>NaN</td>\n",
       "      <td>Fixation</td>\n",
       "      <td>550.0</td>\n",
       "      <td>237.0</td>\n",
       "    </tr>\n",
       "    <tr>\n",
       "      <th>1</th>\n",
       "      <td>Tobii I-VT (Fixation)</td>\n",
       "      <td>Participant10</td>\n",
       "      <td>Participant10</td>\n",
       "      <td>YMU-UM Recording10.tsv</td>\n",
       "      <td>introduction-Q3</td>\n",
       "      <td>datasets/YMU_UM/stimuli</td>\n",
       "      <td>introduction-Q3.png</td>\n",
       "      <td>122991536</td>\n",
       "      <td>YMU-UM</td>\n",
       "      <td>2025/7/24</td>\n",
       "      <td>...</td>\n",
       "      <td>NaN</td>\n",
       "      <td>NaN</td>\n",
       "      <td>NaN</td>\n",
       "      <td>NaN</td>\n",
       "      <td>NaN</td>\n",
       "      <td>NaN</td>\n",
       "      <td>NaN</td>\n",
       "      <td>Fixation</td>\n",
       "      <td>550.0</td>\n",
       "      <td>237.0</td>\n",
       "    </tr>\n",
       "    <tr>\n",
       "      <th>2</th>\n",
       "      <td>Tobii I-VT (Fixation)</td>\n",
       "      <td>Participant10</td>\n",
       "      <td>Participant10</td>\n",
       "      <td>YMU-UM Recording10.tsv</td>\n",
       "      <td>introduction-Q3</td>\n",
       "      <td>datasets/YMU_UM/stimuli</td>\n",
       "      <td>introduction-Q3.png</td>\n",
       "      <td>123008192</td>\n",
       "      <td>YMU-UM</td>\n",
       "      <td>2025/7/24</td>\n",
       "      <td>...</td>\n",
       "      <td>NaN</td>\n",
       "      <td>NaN</td>\n",
       "      <td>NaN</td>\n",
       "      <td>NaN</td>\n",
       "      <td>NaN</td>\n",
       "      <td>NaN</td>\n",
       "      <td>NaN</td>\n",
       "      <td>Fixation</td>\n",
       "      <td>550.0</td>\n",
       "      <td>237.0</td>\n",
       "    </tr>\n",
       "    <tr>\n",
       "      <th>3</th>\n",
       "      <td>Tobii I-VT (Fixation)</td>\n",
       "      <td>Participant10</td>\n",
       "      <td>Participant10</td>\n",
       "      <td>YMU-UM Recording10.tsv</td>\n",
       "      <td>introduction-Q3</td>\n",
       "      <td>datasets/YMU_UM/stimuli</td>\n",
       "      <td>introduction-Q3.png</td>\n",
       "      <td>123024846</td>\n",
       "      <td>YMU-UM</td>\n",
       "      <td>2025/7/24</td>\n",
       "      <td>...</td>\n",
       "      <td>NaN</td>\n",
       "      <td>NaN</td>\n",
       "      <td>NaN</td>\n",
       "      <td>NaN</td>\n",
       "      <td>NaN</td>\n",
       "      <td>NaN</td>\n",
       "      <td>NaN</td>\n",
       "      <td>Fixation</td>\n",
       "      <td>550.0</td>\n",
       "      <td>237.0</td>\n",
       "    </tr>\n",
       "    <tr>\n",
       "      <th>4</th>\n",
       "      <td>Tobii I-VT (Fixation)</td>\n",
       "      <td>Participant10</td>\n",
       "      <td>Participant10</td>\n",
       "      <td>YMU-UM Recording10.tsv</td>\n",
       "      <td>introduction-Q3</td>\n",
       "      <td>datasets/YMU_UM/stimuli</td>\n",
       "      <td>introduction-Q3.png</td>\n",
       "      <td>123041501</td>\n",
       "      <td>YMU-UM</td>\n",
       "      <td>2025/7/24</td>\n",
       "      <td>...</td>\n",
       "      <td>NaN</td>\n",
       "      <td>NaN</td>\n",
       "      <td>NaN</td>\n",
       "      <td>NaN</td>\n",
       "      <td>NaN</td>\n",
       "      <td>NaN</td>\n",
       "      <td>NaN</td>\n",
       "      <td>Fixation</td>\n",
       "      <td>550.0</td>\n",
       "      <td>237.0</td>\n",
       "    </tr>\n",
       "  </tbody>\n",
       "</table>\n",
       "<p>5 rows × 171 columns</p>\n",
       "</div>"
      ],
      "text/plain": [
       "             eye_tracker  experiment_id participant_id  \\\n",
       "0  Tobii I-VT (Fixation)  Participant10  Participant10   \n",
       "1  Tobii I-VT (Fixation)  Participant10  Participant10   \n",
       "2  Tobii I-VT (Fixation)  Participant10  Participant10   \n",
       "3  Tobii I-VT (Fixation)  Participant10  Participant10   \n",
       "4  Tobii I-VT (Fixation)  Participant10  Participant10   \n",
       "\n",
       "                 filename         trial_id           stimuli_module  \\\n",
       "0  YMU-UM Recording10.tsv  introduction-Q3  datasets/YMU_UM/stimuli   \n",
       "1  YMU-UM Recording10.tsv  introduction-Q3  datasets/YMU_UM/stimuli   \n",
       "2  YMU-UM Recording10.tsv  introduction-Q3  datasets/YMU_UM/stimuli   \n",
       "3  YMU-UM Recording10.tsv  introduction-Q3  datasets/YMU_UM/stimuli   \n",
       "4  YMU-UM Recording10.tsv  introduction-Q3  datasets/YMU_UM/stimuli   \n",
       "\n",
       "          stimuli_name  Recording timestamp Project name Export date  ...  \\\n",
       "0  introduction-Q3.png            122982715       YMU-UM   2025/7/24  ...   \n",
       "1  introduction-Q3.png            122991536       YMU-UM   2025/7/24  ...   \n",
       "2  introduction-Q3.png            123008192       YMU-UM   2025/7/24  ...   \n",
       "3  introduction-Q3.png            123024846       YMU-UM   2025/7/24  ...   \n",
       "4  introduction-Q3.png            123041501       YMU-UM   2025/7/24  ...   \n",
       "\n",
       "  Mapped fixation Y [Q3]  Mapped fixation X [Q4A] Mapped fixation Y [Q4A]  \\\n",
       "0                    NaN                      NaN                     NaN   \n",
       "1                    NaN                      NaN                     NaN   \n",
       "2                    NaN                      NaN                     NaN   \n",
       "3                    NaN                      NaN                     NaN   \n",
       "4                    NaN                      NaN                     NaN   \n",
       "\n",
       "  Mapped fixation X [Q4B] Mapped fixation Y [Q4B] Mapped fixation X [Q5]  \\\n",
       "0                     NaN                     NaN                    NaN   \n",
       "1                     NaN                     NaN                    NaN   \n",
       "2                     NaN                     NaN                    NaN   \n",
       "3                     NaN                     NaN                    NaN   \n",
       "4                     NaN                     NaN                    NaN   \n",
       "\n",
       "  Mapped fixation Y [Q5] Eye movement type  Gaze event duration  \\\n",
       "0                    NaN          Fixation                550.0   \n",
       "1                    NaN          Fixation                550.0   \n",
       "2                    NaN          Fixation                550.0   \n",
       "3                    NaN          Fixation                550.0   \n",
       "4                    NaN          Fixation                550.0   \n",
       "\n",
       "  Eye movement type index  \n",
       "0                   237.0  \n",
       "1                   237.0  \n",
       "2                   237.0  \n",
       "3                   237.0  \n",
       "4                   237.0  \n",
       "\n",
       "[5 rows x 171 columns]"
      ]
     },
     "execution_count": 5,
     "metadata": {},
     "output_type": "execute_result"
    }
   ],
   "source": [
    "samples.head()"
   ]
  },
  {
   "cell_type": "code",
   "execution_count": 6,
   "metadata": {},
   "outputs": [
    {
     "data": {
      "text/html": [
       "<div>\n",
       "<style scoped>\n",
       "    .dataframe tbody tr th:only-of-type {\n",
       "        vertical-align: middle;\n",
       "    }\n",
       "\n",
       "    .dataframe tbody tr th {\n",
       "        vertical-align: top;\n",
       "    }\n",
       "\n",
       "    .dataframe thead th {\n",
       "        text-align: right;\n",
       "    }\n",
       "</style>\n",
       "<table border=\"1\" class=\"dataframe\">\n",
       "  <thead>\n",
       "    <tr style=\"text-align: right;\">\n",
       "      <th></th>\n",
       "      <th>eye_tracker</th>\n",
       "      <th>experiment_id</th>\n",
       "      <th>participant_id</th>\n",
       "      <th>filename</th>\n",
       "      <th>trial_id</th>\n",
       "      <th>stimuli_module</th>\n",
       "      <th>stimuli_name</th>\n",
       "      <th>timestamp</th>\n",
       "      <th>duration</th>\n",
       "      <th>x0</th>\n",
       "      <th>y0</th>\n",
       "      <th>x1</th>\n",
       "      <th>y1</th>\n",
       "      <th>token</th>\n",
       "      <th>pupil_l</th>\n",
       "      <th>pupil_r</th>\n",
       "      <th>amplitude</th>\n",
       "      <th>peak_velocity</th>\n",
       "      <th>eye_event_type</th>\n",
       "    </tr>\n",
       "  </thead>\n",
       "  <tbody>\n",
       "    <tr>\n",
       "      <th>0</th>\n",
       "      <td>Tobii I-VT (Fixation)</td>\n",
       "      <td>Participant10</td>\n",
       "      <td>Participant10</td>\n",
       "      <td>YMU-UM Recording10.tsv</td>\n",
       "      <td>introduction-Q3</td>\n",
       "      <td>datasets/YMU_UM/stimuli</td>\n",
       "      <td>introduction-Q3.png</td>\n",
       "      <td>122982715</td>\n",
       "      <td>550.0</td>\n",
       "      <td>975.0</td>\n",
       "      <td>271.0</td>\n",
       "      <td>NaN</td>\n",
       "      <td>NaN</td>\n",
       "      <td>None</td>\n",
       "      <td>NaN</td>\n",
       "      <td>NaN</td>\n",
       "      <td>NaN</td>\n",
       "      <td>NaN</td>\n",
       "      <td>fixation</td>\n",
       "    </tr>\n",
       "    <tr>\n",
       "      <th>1</th>\n",
       "      <td>Tobii I-VT (Fixation)</td>\n",
       "      <td>Participant10</td>\n",
       "      <td>Participant10</td>\n",
       "      <td>YMU-UM Recording10.tsv</td>\n",
       "      <td>introduction-Q3</td>\n",
       "      <td>datasets/YMU_UM/stimuli</td>\n",
       "      <td>introduction-Q3.png</td>\n",
       "      <td>122991536</td>\n",
       "      <td>550.0</td>\n",
       "      <td>975.0</td>\n",
       "      <td>271.0</td>\n",
       "      <td>NaN</td>\n",
       "      <td>NaN</td>\n",
       "      <td>None</td>\n",
       "      <td>3.255</td>\n",
       "      <td>3.164</td>\n",
       "      <td>NaN</td>\n",
       "      <td>NaN</td>\n",
       "      <td>fixation</td>\n",
       "    </tr>\n",
       "    <tr>\n",
       "      <th>2</th>\n",
       "      <td>Tobii I-VT (Fixation)</td>\n",
       "      <td>Participant10</td>\n",
       "      <td>Participant10</td>\n",
       "      <td>YMU-UM Recording10.tsv</td>\n",
       "      <td>introduction-Q3</td>\n",
       "      <td>datasets/YMU_UM/stimuli</td>\n",
       "      <td>introduction-Q3.png</td>\n",
       "      <td>123008192</td>\n",
       "      <td>550.0</td>\n",
       "      <td>975.0</td>\n",
       "      <td>271.0</td>\n",
       "      <td>NaN</td>\n",
       "      <td>NaN</td>\n",
       "      <td>None</td>\n",
       "      <td>3.250</td>\n",
       "      <td>3.144</td>\n",
       "      <td>NaN</td>\n",
       "      <td>NaN</td>\n",
       "      <td>fixation</td>\n",
       "    </tr>\n",
       "    <tr>\n",
       "      <th>3</th>\n",
       "      <td>Tobii I-VT (Fixation)</td>\n",
       "      <td>Participant10</td>\n",
       "      <td>Participant10</td>\n",
       "      <td>YMU-UM Recording10.tsv</td>\n",
       "      <td>introduction-Q3</td>\n",
       "      <td>datasets/YMU_UM/stimuli</td>\n",
       "      <td>introduction-Q3.png</td>\n",
       "      <td>123024846</td>\n",
       "      <td>550.0</td>\n",
       "      <td>975.0</td>\n",
       "      <td>271.0</td>\n",
       "      <td>NaN</td>\n",
       "      <td>NaN</td>\n",
       "      <td>None</td>\n",
       "      <td>3.251</td>\n",
       "      <td>3.140</td>\n",
       "      <td>NaN</td>\n",
       "      <td>NaN</td>\n",
       "      <td>fixation</td>\n",
       "    </tr>\n",
       "    <tr>\n",
       "      <th>4</th>\n",
       "      <td>Tobii I-VT (Fixation)</td>\n",
       "      <td>Participant10</td>\n",
       "      <td>Participant10</td>\n",
       "      <td>YMU-UM Recording10.tsv</td>\n",
       "      <td>introduction-Q3</td>\n",
       "      <td>datasets/YMU_UM/stimuli</td>\n",
       "      <td>introduction-Q3.png</td>\n",
       "      <td>123041501</td>\n",
       "      <td>550.0</td>\n",
       "      <td>975.0</td>\n",
       "      <td>271.0</td>\n",
       "      <td>NaN</td>\n",
       "      <td>NaN</td>\n",
       "      <td>None</td>\n",
       "      <td>3.250</td>\n",
       "      <td>3.130</td>\n",
       "      <td>NaN</td>\n",
       "      <td>NaN</td>\n",
       "      <td>fixation</td>\n",
       "    </tr>\n",
       "  </tbody>\n",
       "</table>\n",
       "</div>"
      ],
      "text/plain": [
       "             eye_tracker  experiment_id participant_id  \\\n",
       "0  Tobii I-VT (Fixation)  Participant10  Participant10   \n",
       "1  Tobii I-VT (Fixation)  Participant10  Participant10   \n",
       "2  Tobii I-VT (Fixation)  Participant10  Participant10   \n",
       "3  Tobii I-VT (Fixation)  Participant10  Participant10   \n",
       "4  Tobii I-VT (Fixation)  Participant10  Participant10   \n",
       "\n",
       "                 filename         trial_id           stimuli_module  \\\n",
       "0  YMU-UM Recording10.tsv  introduction-Q3  datasets/YMU_UM/stimuli   \n",
       "1  YMU-UM Recording10.tsv  introduction-Q3  datasets/YMU_UM/stimuli   \n",
       "2  YMU-UM Recording10.tsv  introduction-Q3  datasets/YMU_UM/stimuli   \n",
       "3  YMU-UM Recording10.tsv  introduction-Q3  datasets/YMU_UM/stimuli   \n",
       "4  YMU-UM Recording10.tsv  introduction-Q3  datasets/YMU_UM/stimuli   \n",
       "\n",
       "          stimuli_name  timestamp  duration     x0     y0  x1  y1 token  \\\n",
       "0  introduction-Q3.png  122982715     550.0  975.0  271.0 NaN NaN  None   \n",
       "1  introduction-Q3.png  122991536     550.0  975.0  271.0 NaN NaN  None   \n",
       "2  introduction-Q3.png  123008192     550.0  975.0  271.0 NaN NaN  None   \n",
       "3  introduction-Q3.png  123024846     550.0  975.0  271.0 NaN NaN  None   \n",
       "4  introduction-Q3.png  123041501     550.0  975.0  271.0 NaN NaN  None   \n",
       "\n",
       "   pupil_l  pupil_r  amplitude  peak_velocity eye_event_type  \n",
       "0      NaN      NaN        NaN            NaN       fixation  \n",
       "1    3.255    3.164        NaN            NaN       fixation  \n",
       "2    3.250    3.144        NaN            NaN       fixation  \n",
       "3    3.251    3.140        NaN            NaN       fixation  \n",
       "4    3.250    3.130        NaN            NaN       fixation  "
      ]
     },
     "execution_count": 6,
     "metadata": {},
     "output_type": "execute_result"
    }
   ],
   "source": [
    "eye_events.head()"
   ]
  },
  {
   "cell_type": "code",
   "execution_count": 7,
   "metadata": {},
   "outputs": [
    {
     "data": {
      "text/plain": [
       "array(['Participant10', 'Participant11', 'Participant12', 'Participant13',\n",
       "       'Participant14', 'Participant15', 'Participant16', 'Participant17',\n",
       "       'Participant18', 'Participant19', 'Participant2', 'Participant20',\n",
       "       'Participant21', 'Participant22', 'Participant23', 'Participant24',\n",
       "       'Participant25', 'Participant26', 'Participant27', 'Participant28',\n",
       "       'Participant29', 'Participant3', 'Participant30', 'Participant31',\n",
       "       'Participant32', 'Participant33', 'Participant34', 'Participant35',\n",
       "       'Participant36', 'Participant37', 'Participant38', 'Participant39',\n",
       "       'Participant4', 'Participant40', 'Participant41', 'Participant42',\n",
       "       'Participant43', 'Participant44', 'Participant45', 'Participant46',\n",
       "       'Participant47', 'Participant48', 'Participant49', 'Participant5',\n",
       "       'Participant50', 'Participant51', 'Participant52', 'Participant53',\n",
       "       'Participant54', 'Participant55', 'Participant56', 'Participant57',\n",
       "       'Participant58', 'Participant59', 'Participant6', 'Participant60',\n",
       "       'Participant61', 'Participant62', 'Participant64', 'Participant65',\n",
       "       'Participant66', 'Participant67', 'Participant68', 'Participant69',\n",
       "       'Participant7', 'Participant70', 'Participant71', 'Participant72',\n",
       "       'Participant73', 'Participant74', 'Participant75', 'Participant76',\n",
       "       'Participant77', 'Participant78', 'Participant79', 'Participant8',\n",
       "       'Participant80', 'Participant81', 'Participant82', 'Participant83',\n",
       "       'Participant84', 'Participant9'], dtype=object)"
      ]
     },
     "execution_count": 7,
     "metadata": {},
     "output_type": "execute_result"
    }
   ],
   "source": [
    "unique_experiment_ids_samples = samples['experiment_id'].unique()\n",
    "unique_experiment_ids_samples"
   ]
  },
  {
   "cell_type": "code",
   "execution_count": 8,
   "metadata": {},
   "outputs": [
    {
     "data": {
      "text/plain": [
       "array(['Participant10', 'Participant11', 'Participant12', 'Participant13',\n",
       "       'Participant14', 'Participant15', 'Participant16', 'Participant17',\n",
       "       'Participant18', 'Participant19', 'Participant2', 'Participant20',\n",
       "       'Participant21', 'Participant22', 'Participant23', 'Participant24',\n",
       "       'Participant25', 'Participant26', 'Participant27', 'Participant28',\n",
       "       'Participant29', 'Participant3', 'Participant30', 'Participant31',\n",
       "       'Participant32', 'Participant33', 'Participant34', 'Participant35',\n",
       "       'Participant36', 'Participant37', 'Participant38', 'Participant39',\n",
       "       'Participant4', 'Participant40', 'Participant41', 'Participant42',\n",
       "       'Participant43', 'Participant44', 'Participant45', 'Participant46',\n",
       "       'Participant47', 'Participant48', 'Participant49', 'Participant5',\n",
       "       'Participant50', 'Participant51', 'Participant52', 'Participant53',\n",
       "       'Participant54', 'Participant55', 'Participant56', 'Participant57',\n",
       "       'Participant58', 'Participant59', 'Participant6', 'Participant60',\n",
       "       'Participant61', 'Participant62', 'Participant64', 'Participant65',\n",
       "       'Participant66', 'Participant67', 'Participant68', 'Participant69',\n",
       "       'Participant7', 'Participant70', 'Participant71', 'Participant72',\n",
       "       'Participant73', 'Participant74', 'Participant75', 'Participant76',\n",
       "       'Participant77', 'Participant78', 'Participant79', 'Participant8',\n",
       "       'Participant80', 'Participant81', 'Participant82', 'Participant83',\n",
       "       'Participant84', 'Participant9'], dtype=object)"
      ]
     },
     "execution_count": 8,
     "metadata": {},
     "output_type": "execute_result"
    }
   ],
   "source": [
    "unique_experiment_ids_eye_events = eye_events[\"experiment_id\"].unique()\n",
    "unique_experiment_ids_eye_events            "
   ]
  },
  {
   "cell_type": "markdown",
   "metadata": {},
   "source": [
    "# AOI Detector"
   ]
  },
  {
   "cell_type": "code",
   "execution_count": 9,
   "metadata": {},
   "outputs": [],
   "source": [
    "dir = \"datasets/YMU_UM/stimuli/\"\n",
    "trial_id = 'Quiz - introduction-Q5'"
   ]
  },
  {
   "cell_type": "code",
   "execution_count": 10,
   "metadata": {},
   "outputs": [],
   "source": [
    "image_path = dir + trial_id + \" (localhost).png\""
   ]
  },
  {
   "cell_type": "code",
   "execution_count": 11,
   "metadata": {},
   "outputs": [
    {
     "data": {
      "image/png": "[encoded data removed]",
      "text/plain": [
       "<Figure size 1200x1200 with 1 Axes>"
      ]
     },
     "metadata": {},
     "output_type": "display_data"
    },
    {
     "name": "stdout",
     "output_type": "stream",
     "text": [
      "        kind             name         trial_id     x    y  width  height  \\\n",
      "0   sub-line    line 2 part 1  introduction-Q5   602   90     41      20   \n",
      "1   sub-line    line 2 part 2  introduction-Q5  1065   69     48      65   \n",
      "2   sub-line    line 2 part 3  introduction-Q5  1127   69     34      65   \n",
      "3   sub-line    line 3 part 1  introduction-Q5   504  160     41      20   \n",
      "4   sub-line    line 3 part 2  introduction-Q5   576  137     60      65   \n",
      "5   sub-line    line 3 part 3  introduction-Q5  1000  137     48      65   \n",
      "6   sub-line    line 3 part 4  introduction-Q5  1062  160    320      20   \n",
      "7   sub-line    line 4 part 1  introduction-Q5   486  225     30      13   \n",
      "8   sub-line    line 4 part 2  introduction-Q5   527  225    118      16   \n",
      "9   sub-line    line 5 part 1  introduction-Q5   527  267     79      13   \n",
      "10  sub-line    line 5 part 2  introduction-Q5   618  269     79      16   \n",
      "11  sub-line    line 5 part 3  introduction-Q5  1069  300     48      65   \n",
      "12  sub-line    line 6 part 1  introduction-Q5   486  381     30       9   \n",
      "13  sub-line    line 6 part 2  introduction-Q5  1020  369     86      13   \n",
      "14  sub-line    line 6 part 3  introduction-Q5  1097  346     11      65   \n",
      "15  sub-line    line 6 part 4  introduction-Q5  1123  369     74      13   \n",
      "16  sub-line    line 6 part 5  introduction-Q5  1232  369     34      13   \n",
      "17  sub-line    line 7 part 1  introduction-Q5   486  402     30      11   \n",
      "18  sub-line    line 7 part 2  introduction-Q5  1127  400    137      16   \n",
      "19  sub-line    line 7 part 3  introduction-Q5  1279  402     37      11   \n",
      "20  sub-line    line 7 part 4  introduction-Q5  1330  402      9       6   \n",
      "21  sub-line    line 7 part 5  introduction-Q5  1358  397     32      16   \n",
      "22  sub-line    line 8 part 1  introduction-Q5   486  423     39      13   \n",
      "23  sub-line    line 8 part 2  introduction-Q5   539  427      6       4   \n",
      "24  sub-line    line 8 part 3  introduction-Q5  1046  427     34      13   \n",
      "25  sub-line    line 8 part 4  introduction-Q5  1127  427    137      18   \n",
      "26  sub-line    line 8 part 5  introduction-Q5  1279  430     37      11   \n",
      "27  sub-line    line 9 part 1  introduction-Q5  1330  432      9       4   \n",
      "28  sub-line    line 9 part 2  introduction-Q5  1355  427     34      13   \n",
      "29  sub-line   line 10 part 1  introduction-Q5   588  467     18      11   \n",
      "30  sub-line   line 10 part 2  introduction-Q5  1023  455     44      16   \n",
      "31  sub-line   line 10 part 3  introduction-Q5  1127  458    134      16   \n",
      "32  sub-line   line 10 part 4  introduction-Q5  1279  460     37      11   \n",
      "33  sub-line   line 10 part 5  introduction-Q5  1330  460      9       6   \n",
      "34  sub-line   line 10 part 6  introduction-Q5  1358  455     32      16   \n",
      "35  sub-line   line 11 part 1  introduction-Q5   527  574     37      13   \n",
      "36  sub-line   line 11 part 2  introduction-Q5   579  579      6       6   \n",
      "37  sub-line   line 12 part 1  introduction-Q5   527  660    213      18   \n",
      "38  sub-line   line 12 part 2  introduction-Q5   753  665     27      11   \n",
      "39  sub-line   line 13 part 1  introduction-Q5   793  667      9       4   \n",
      "40  sub-line   line 13 part 2  introduction-Q5   813  660     48      18   \n",
      "41  sub-line   line 13 part 3  introduction-Q5   876  662     16      16   \n",
      "42  sub-line   line 14 part 1  introduction-Q5   672  790     16      13   \n",
      "43  sub-line   line 14 part 2  introduction-Q5   700  795      9       9   \n",
      "44  sub-line   line 14 part 3  introduction-Q5   723  793     58      16   \n",
      "45  sub-line   line 14 part 4  introduction-Q5   793  790     79      16   \n",
      "46  sub-line   line 15 part 1  introduction-Q5   467  823    118       4   \n",
      "47  sub-line   line 15 part 2  introduction-Q5   588  834     69      16   \n",
      "48  sub-line   line 15 part 3  introduction-Q5   672  834     16      13   \n",
      "49  sub-line   line 15 part 4  introduction-Q5   700  837     30      11   \n",
      "50  sub-line   line 15 part 5  introduction-Q5   741  837      9      11   \n",
      "51  sub-line   line 15 part 6  introduction-Q5   762  834     60      16   \n",
      "52  sub-line   line 15 part 7  introduction-Q5   676  911     16      65   \n",
      "53  sub-line   line 15 part 8  introduction-Q5   839  911     23      65   \n",
      "54  sub-line   line 15 part 9  introduction-Q5   881  911     18      65   \n",
      "55  sub-line  line 15 part 10  introduction-Q5  1120  911     67      65   \n",
      "56  sub-line   line 16 part 1  introduction-Q5  1202  941     34      16   \n",
      "57  sub-line   line 16 part 2  introduction-Q5  1246  941     27      13   \n",
      "\n",
      "                 token                                              image  \n",
      "0                  25:  datasets/YMU_UM/stimuli/Quiz - introduction-Q5...  \n",
      "1                  NLS  datasets/YMU_UM/stimuli/Quiz - introduction-Q5...  \n",
      "2                  LER  datasets/YMU_UM/stimuli/Quiz - introduction-Q5...  \n",
      "3                  OM:  datasets/YMU_UM/stimuli/Quiz - introduction-Q5...  \n",
      "4                   RR  datasets/YMU_UM/stimuli/Quiz - introduction-Q5...  \n",
      "5                  RM,  datasets/YMU_UM/stimuli/Quiz - introduction-Q5...  \n",
      "6              REINER,  datasets/YMU_UM/stimuli/Quiz - introduction-Q5...  \n",
      "7                  GeF  datasets/YMU_UM/stimuli/Quiz - introduction-Q5...  \n",
      "8           Factorial)  datasets/YMU_UM/stimuli/Quiz - introduction-Q5...  \n",
      "9                 Tees  datasets/YMU_UM/stimuli/Quiz - introduction-Q5...  \n",
      "10              tonto,  datasets/YMU_UM/stimuli/Quiz - introduction-Q5...  \n",
      "11                oso:  datasets/YMU_UM/stimuli/Quiz - introduction-Q5...  \n",
      "12                 fun  datasets/YMU_UM/stimuli/Quiz - introduction-Q5...  \n",
      "13               Enter  datasets/YMU_UM/stimuli/Quiz - introduction-Q5...  \n",
      "14                   @  datasets/YMU_UM/stimuli/Quiz - introduction-Q5...  \n",
      "15             number:  datasets/YMU_UM/stimuli/Quiz - introduction-Q5...  \n",
      "16                 145  datasets/YMU_UM/stimuli/Quiz - introduction-Q5...  \n",
      "17                  Py  datasets/YMU_UM/stimuli/Quiz - introduction-Q5...  \n",
      "18         Progressive  datasets/YMU_UM/stimuli/Quiz - introduction-Q5...  \n",
      "19                 sun  datasets/YMU_UM/stimuli/Quiz - introduction-Q5...  \n",
      "20                   =  datasets/YMU_UM/stimuli/Quiz - introduction-Q5...  \n",
      "21                 120  datasets/YMU_UM/stimuli/Quiz - introduction-Q5...  \n",
      "22                 ‘ep  datasets/YMU_UM/stimuli/Quiz - introduction-Q5...  \n",
      "23                   =  datasets/YMU_UM/stimuli/Quiz - introduction-Q5...  \n",
      "24                  24  datasets/YMU_UM/stimuli/Quiz - introduction-Q5...  \n",
      "25         Progressive  datasets/YMU_UM/stimuli/Quiz - introduction-Q5...  \n",
      "26                 sum  datasets/YMU_UM/stimuli/Quiz - introduction-Q5...  \n",
      "27                   =  datasets/YMU_UM/stimuli/Quiz - introduction-Q5...  \n",
      "28                 164  datasets/YMU_UM/stimuli/Quiz - introduction-Q5...  \n",
      "29                   a  datasets/YMU_UM/stimuli/Quiz - introduction-Q5...  \n",
      "30                List  datasets/YMU_UM/stimuli/Quiz - introduction-Q5...  \n",
      "31         Progressive  datasets/YMU_UM/stimuli/Quiz - introduction-Q5...  \n",
      "32                 sun  datasets/YMU_UM/stimuli/Quiz - introduction-Q5...  \n",
      "33                   =  datasets/YMU_UM/stimuli/Quiz - introduction-Q5...  \n",
      "34                145,  datasets/YMU_UM/stimuli/Quiz - introduction-Q5...  \n",
      "35                fact  datasets/YMU_UM/stimuli/Quiz - introduction-Q5...  \n",
      "36                   =  datasets/YMU_UM/stimuli/Quiz - introduction-Q5...  \n",
      "37  PrineVeProgressive  datasets/YMU_UM/stimuli/Quiz - introduction-Q5...  \n",
      "38                 sum  datasets/YMU_UM/stimuli/Quiz - introduction-Q5...  \n",
      "39                   =  datasets/YMU_UM/stimuli/Quiz - introduction-Q5...  \n",
      "40               (208)  datasets/YMU_UM/stimuli/Quiz - introduction-Q5...  \n",
      "41                  °)  datasets/YMU_UM/stimuli/Quiz - introduction-Q5...  \n",
      "42                  1s  datasets/YMU_UM/stimuli/Quiz - introduction-Q5...  \n",
      "43                   a  datasets/YMU_UM/stimuli/Quiz - introduction-Q5...  \n",
      "44              strong  datasets/YMU_UM/stimuli/Quiz - introduction-Q5...  \n",
      "45            musber\")  datasets/YMU_UM/stimuli/Quiz - introduction-Q5...  \n",
      "46               Grime  datasets/YMU_UM/stimuli/Quiz - introduction-Q5...  \n",
      "47               (oun)  datasets/YMU_UM/stimuli/Quiz - introduction-Q5...  \n",
      "48                   8  datasets/YMU_UM/stimuli/Quiz - introduction-Q5...  \n",
      "49                 908  datasets/YMU_UM/stimuli/Quiz - introduction-Q5...  \n",
      "50                   8  datasets/YMU_UM/stimuli/Quiz - introduction-Q5...  \n",
      "51              strong  datasets/YMU_UM/stimuli/Quiz - introduction-Q5...  \n",
      "52                   o  datasets/YMU_UM/stimuli/Quiz - introduction-Q5...  \n",
      "53                  19  datasets/YMU_UM/stimuli/Quiz - introduction-Q5...  \n",
      "54                   ©  datasets/YMU_UM/stimuli/Quiz - introduction-Q5...  \n",
      "55                 tmp  datasets/YMU_UM/stimuli/Quiz - introduction-Q5...  \n",
      "56                  tn  datasets/YMU_UM/stimuli/Quiz - introduction-Q5...  \n",
      "57                 /10  datasets/YMU_UM/stimuli/Quiz - introduction-Q5...  \n"
     ]
    }
   ],
   "source": [
    "# Example Usage\n",
    "# Run OCR detection with debugging enabled\n",
    "aoi_result_df =aoi.aoi_detector(image_path, \n",
    "                                scale_factor=.43, debug=True, \n",
    "                                use_preprocessing=False, min_confidence=5,\n",
    "                                psm=1, oem=3)\n",
    "# Display detected text results\n",
    "print(aoi_result_df)"
   ]
  },
  {
   "cell_type": "markdown",
   "metadata": {},
   "source": [
    "# Save aoi tokens structure"
   ]
  },
  {
   "cell_type": "code",
   "execution_count": 12,
   "metadata": {},
   "outputs": [],
   "source": [
    "# file path\n",
    "file_path = \"output/ymu_um/aoi_tokens_structure/\""
   ]
  },
  {
   "cell_type": "code",
   "execution_count": 13,
   "metadata": {},
   "outputs": [
    {
     "name": "stderr",
     "output_type": "stream",
     "text": [
      "Saving AOI tokens structure: 100%|\u001b[32m██████████\u001b[0m| 58/58 [00:00<00:00, 38352.46it/s]"
     ]
    },
    {
     "name": "stdout",
     "output_type": "stream",
     "text": [
      "Completed! AOI tokens saved to ./output/ymu_um/aoi_tokens_structure//aoi_introduction-Q5_tokens_structrue.csv\n"
     ]
    },
    {
     "name": "stderr",
     "output_type": "stream",
     "text": [
      "\n"
     ]
    }
   ],
   "source": [
    "aoi.aoi_save_tokens_structure(aoi_result_df, file_path)"
   ]
  },
  {
   "cell_type": "markdown",
   "metadata": {},
   "source": [
    "# Maching aoi to trial_data"
   ]
  },
  {
   "cell_type": "markdown",
   "metadata": {},
   "source": [
    "### for individual partcipant"
   ]
  },
  {
   "cell_type": "code",
   "execution_count": 14,
   "metadata": {},
   "outputs": [
    {
     "data": {
      "text/plain": [
       "'output/ymu_um/aoi_tokens_structure/aoi_introduction-Q5_tokens_structure.csv'"
      ]
     },
     "execution_count": 14,
     "metadata": {},
     "output_type": "execute_result"
    }
   ],
   "source": [
    "experiment_id = 'Participant55'\n",
    "trial_id = 'introduction-Q5'\n",
    "aoi_file_path = f\"output/ymu_um/aoi_tokens_structure/aoi_{trial_id}_tokens_structure.csv\"\n",
    "aoi_file_path"
   ]
  },
  {
   "cell_type": "code",
   "execution_count": 15,
   "metadata": {},
   "outputs": [
    {
     "data": {
      "text/html": [
       "<div>\n",
       "<style scoped>\n",
       "    .dataframe tbody tr th:only-of-type {\n",
       "        vertical-align: middle;\n",
       "    }\n",
       "\n",
       "    .dataframe tbody tr th {\n",
       "        vertical-align: top;\n",
       "    }\n",
       "\n",
       "    .dataframe thead th {\n",
       "        text-align: right;\n",
       "    }\n",
       "</style>\n",
       "<table border=\"1\" class=\"dataframe\">\n",
       "  <thead>\n",
       "    <tr style=\"text-align: right;\">\n",
       "      <th></th>\n",
       "      <th>eye_tracker</th>\n",
       "      <th>experiment_id</th>\n",
       "      <th>participant_id</th>\n",
       "      <th>filename</th>\n",
       "      <th>trial_id</th>\n",
       "      <th>stimuli_module</th>\n",
       "      <th>stimuli_name</th>\n",
       "      <th>timestamp</th>\n",
       "      <th>duration</th>\n",
       "      <th>x0</th>\n",
       "      <th>y0</th>\n",
       "      <th>x1</th>\n",
       "      <th>y1</th>\n",
       "      <th>token</th>\n",
       "      <th>pupil_l</th>\n",
       "      <th>pupil_r</th>\n",
       "      <th>amplitude</th>\n",
       "      <th>peak_velocity</th>\n",
       "      <th>eye_event_type</th>\n",
       "    </tr>\n",
       "  </thead>\n",
       "  <tbody>\n",
       "    <tr>\n",
       "      <th>1833955</th>\n",
       "      <td>Tobii I-VT (Fixation)</td>\n",
       "      <td>Participant55</td>\n",
       "      <td>Participant55</td>\n",
       "      <td>YMU-UM Recording55.tsv</td>\n",
       "      <td>introduction-Q5</td>\n",
       "      <td>datasets/YMU_UM/stimuli</td>\n",
       "      <td>introduction-Q5.png</td>\n",
       "      <td>570343608</td>\n",
       "      <td>233.0</td>\n",
       "      <td>856.0</td>\n",
       "      <td>201.0</td>\n",
       "      <td>NaN</td>\n",
       "      <td>NaN</td>\n",
       "      <td>None</td>\n",
       "      <td>3.180</td>\n",
       "      <td>2.962</td>\n",
       "      <td>NaN</td>\n",
       "      <td>NaN</td>\n",
       "      <td>fixation</td>\n",
       "    </tr>\n",
       "    <tr>\n",
       "      <th>1833956</th>\n",
       "      <td>Tobii I-VT (Fixation)</td>\n",
       "      <td>Participant55</td>\n",
       "      <td>Participant55</td>\n",
       "      <td>YMU-UM Recording55.tsv</td>\n",
       "      <td>introduction-Q5</td>\n",
       "      <td>datasets/YMU_UM/stimuli</td>\n",
       "      <td>introduction-Q5.png</td>\n",
       "      <td>570353548</td>\n",
       "      <td>233.0</td>\n",
       "      <td>856.0</td>\n",
       "      <td>201.0</td>\n",
       "      <td>NaN</td>\n",
       "      <td>NaN</td>\n",
       "      <td>None</td>\n",
       "      <td>NaN</td>\n",
       "      <td>NaN</td>\n",
       "      <td>NaN</td>\n",
       "      <td>NaN</td>\n",
       "      <td>fixation</td>\n",
       "    </tr>\n",
       "    <tr>\n",
       "      <th>1833957</th>\n",
       "      <td>Tobii I-VT (Fixation)</td>\n",
       "      <td>Participant55</td>\n",
       "      <td>Participant55</td>\n",
       "      <td>YMU-UM Recording55.tsv</td>\n",
       "      <td>introduction-Q5</td>\n",
       "      <td>datasets/YMU_UM/stimuli</td>\n",
       "      <td>introduction-Q5.png</td>\n",
       "      <td>570360263</td>\n",
       "      <td>233.0</td>\n",
       "      <td>856.0</td>\n",
       "      <td>201.0</td>\n",
       "      <td>NaN</td>\n",
       "      <td>NaN</td>\n",
       "      <td>None</td>\n",
       "      <td>3.256</td>\n",
       "      <td>2.979</td>\n",
       "      <td>NaN</td>\n",
       "      <td>NaN</td>\n",
       "      <td>fixation</td>\n",
       "    </tr>\n",
       "    <tr>\n",
       "      <th>1833958</th>\n",
       "      <td>Tobii I-VT (Fixation)</td>\n",
       "      <td>Participant55</td>\n",
       "      <td>Participant55</td>\n",
       "      <td>YMU-UM Recording55.tsv</td>\n",
       "      <td>introduction-Q5</td>\n",
       "      <td>datasets/YMU_UM/stimuli</td>\n",
       "      <td>introduction-Q5.png</td>\n",
       "      <td>570376918</td>\n",
       "      <td>233.0</td>\n",
       "      <td>856.0</td>\n",
       "      <td>201.0</td>\n",
       "      <td>NaN</td>\n",
       "      <td>NaN</td>\n",
       "      <td>None</td>\n",
       "      <td>3.244</td>\n",
       "      <td>2.996</td>\n",
       "      <td>NaN</td>\n",
       "      <td>NaN</td>\n",
       "      <td>fixation</td>\n",
       "    </tr>\n",
       "    <tr>\n",
       "      <th>1833959</th>\n",
       "      <td>Tobii I-VT (Fixation)</td>\n",
       "      <td>Participant55</td>\n",
       "      <td>Participant55</td>\n",
       "      <td>YMU-UM Recording55.tsv</td>\n",
       "      <td>introduction-Q5</td>\n",
       "      <td>datasets/YMU_UM/stimuli</td>\n",
       "      <td>introduction-Q5.png</td>\n",
       "      <td>570393572</td>\n",
       "      <td>233.0</td>\n",
       "      <td>856.0</td>\n",
       "      <td>201.0</td>\n",
       "      <td>NaN</td>\n",
       "      <td>NaN</td>\n",
       "      <td>None</td>\n",
       "      <td>3.253</td>\n",
       "      <td>3.002</td>\n",
       "      <td>NaN</td>\n",
       "      <td>NaN</td>\n",
       "      <td>fixation</td>\n",
       "    </tr>\n",
       "  </tbody>\n",
       "</table>\n",
       "</div>"
      ],
      "text/plain": [
       "                   eye_tracker  experiment_id participant_id  \\\n",
       "1833955  Tobii I-VT (Fixation)  Participant55  Participant55   \n",
       "1833956  Tobii I-VT (Fixation)  Participant55  Participant55   \n",
       "1833957  Tobii I-VT (Fixation)  Participant55  Participant55   \n",
       "1833958  Tobii I-VT (Fixation)  Participant55  Participant55   \n",
       "1833959  Tobii I-VT (Fixation)  Participant55  Participant55   \n",
       "\n",
       "                       filename         trial_id           stimuli_module  \\\n",
       "1833955  YMU-UM Recording55.tsv  introduction-Q5  datasets/YMU_UM/stimuli   \n",
       "1833956  YMU-UM Recording55.tsv  introduction-Q5  datasets/YMU_UM/stimuli   \n",
       "1833957  YMU-UM Recording55.tsv  introduction-Q5  datasets/YMU_UM/stimuli   \n",
       "1833958  YMU-UM Recording55.tsv  introduction-Q5  datasets/YMU_UM/stimuli   \n",
       "1833959  YMU-UM Recording55.tsv  introduction-Q5  datasets/YMU_UM/stimuli   \n",
       "\n",
       "                stimuli_name  timestamp  duration     x0     y0  x1  y1 token  \\\n",
       "1833955  introduction-Q5.png  570343608     233.0  856.0  201.0 NaN NaN  None   \n",
       "1833956  introduction-Q5.png  570353548     233.0  856.0  201.0 NaN NaN  None   \n",
       "1833957  introduction-Q5.png  570360263     233.0  856.0  201.0 NaN NaN  None   \n",
       "1833958  introduction-Q5.png  570376918     233.0  856.0  201.0 NaN NaN  None   \n",
       "1833959  introduction-Q5.png  570393572     233.0  856.0  201.0 NaN NaN  None   \n",
       "\n",
       "         pupil_l  pupil_r  amplitude  peak_velocity eye_event_type  \n",
       "1833955    3.180    2.962        NaN            NaN       fixation  \n",
       "1833956      NaN      NaN        NaN            NaN       fixation  \n",
       "1833957    3.256    2.979        NaN            NaN       fixation  \n",
       "1833958    3.244    2.996        NaN            NaN       fixation  \n",
       "1833959    3.253    3.002        NaN            NaN       fixation  "
      ]
     },
     "execution_count": 15,
     "metadata": {},
     "output_type": "execute_result"
    }
   ],
   "source": [
    "trial_data = eye_events[(eye_events['experiment_id'] == experiment_id) &\n",
    "                        (eye_events['trial_id'] == trial_id)]\n",
    "\n",
    "trial_data.head()"
   ]
  },
  {
   "cell_type": "code",
   "execution_count": 16,
   "metadata": {},
   "outputs": [
    {
     "name": "stderr",
     "output_type": "stream",
     "text": [
      "Matching fixations to AOIs: 100%|\u001b[32m██████████\u001b[0m| 6360/6360 [00:10<00:00, 591.39fixation/s]\n"
     ]
    },
    {
     "data": {
      "text/html": [
       "<div>\n",
       "<style scoped>\n",
       "    .dataframe tbody tr th:only-of-type {\n",
       "        vertical-align: middle;\n",
       "    }\n",
       "\n",
       "    .dataframe tbody tr th {\n",
       "        vertical-align: top;\n",
       "    }\n",
       "\n",
       "    .dataframe thead th {\n",
       "        text-align: right;\n",
       "    }\n",
       "</style>\n",
       "<table border=\"1\" class=\"dataframe\">\n",
       "  <thead>\n",
       "    <tr style=\"text-align: right;\">\n",
       "      <th></th>\n",
       "      <th>eye_tracker</th>\n",
       "      <th>experiment_id</th>\n",
       "      <th>participant_id</th>\n",
       "      <th>filename</th>\n",
       "      <th>trial_id</th>\n",
       "      <th>stimuli_module</th>\n",
       "      <th>stimuli_name</th>\n",
       "      <th>timestamp</th>\n",
       "      <th>duration</th>\n",
       "      <th>x0</th>\n",
       "      <th>...</th>\n",
       "      <th>pupil_right</th>\n",
       "      <th>aoi_kind</th>\n",
       "      <th>aoi_name</th>\n",
       "      <th>aoi_token</th>\n",
       "      <th>aoi_x</th>\n",
       "      <th>aoi_y</th>\n",
       "      <th>aoi_width</th>\n",
       "      <th>aoi_height</th>\n",
       "      <th>image</th>\n",
       "      <th>eye_event_type</th>\n",
       "    </tr>\n",
       "  </thead>\n",
       "  <tbody>\n",
       "    <tr>\n",
       "      <th>0</th>\n",
       "      <td>Tobii I-VT (Fixation)</td>\n",
       "      <td>Participant55</td>\n",
       "      <td>Participant55</td>\n",
       "      <td>YMU-UM Recording55.tsv</td>\n",
       "      <td>introduction-Q5</td>\n",
       "      <td>datasets/YMU_UM/stimuli</td>\n",
       "      <td>introduction-Q5.png</td>\n",
       "      <td>574903202</td>\n",
       "      <td>167.0</td>\n",
       "      <td>1139.0</td>\n",
       "      <td>...</td>\n",
       "      <td>NaN</td>\n",
       "      <td>sub-line</td>\n",
       "      <td>line 3 part 4</td>\n",
       "      <td>REINER,</td>\n",
       "      <td>1062</td>\n",
       "      <td>160</td>\n",
       "      <td>320</td>\n",
       "      <td>20</td>\n",
       "      <td>datasets/YMU_UM/stimuli/Quiz - introduction-Q5...</td>\n",
       "      <td>fixation</td>\n",
       "    </tr>\n",
       "    <tr>\n",
       "      <th>1</th>\n",
       "      <td>Tobii I-VT (Fixation)</td>\n",
       "      <td>Participant55</td>\n",
       "      <td>Participant55</td>\n",
       "      <td>YMU-UM Recording55.tsv</td>\n",
       "      <td>introduction-Q5</td>\n",
       "      <td>datasets/YMU_UM/stimuli</td>\n",
       "      <td>introduction-Q5.png</td>\n",
       "      <td>574907008</td>\n",
       "      <td>167.0</td>\n",
       "      <td>1139.0</td>\n",
       "      <td>...</td>\n",
       "      <td>2.932</td>\n",
       "      <td>sub-line</td>\n",
       "      <td>line 3 part 4</td>\n",
       "      <td>REINER,</td>\n",
       "      <td>1062</td>\n",
       "      <td>160</td>\n",
       "      <td>320</td>\n",
       "      <td>20</td>\n",
       "      <td>datasets/YMU_UM/stimuli/Quiz - introduction-Q5...</td>\n",
       "      <td>fixation</td>\n",
       "    </tr>\n",
       "    <tr>\n",
       "      <th>2</th>\n",
       "      <td>Tobii I-VT (Fixation)</td>\n",
       "      <td>Participant55</td>\n",
       "      <td>Participant55</td>\n",
       "      <td>YMU-UM Recording55.tsv</td>\n",
       "      <td>introduction-Q5</td>\n",
       "      <td>datasets/YMU_UM/stimuli</td>\n",
       "      <td>introduction-Q5.png</td>\n",
       "      <td>574919201</td>\n",
       "      <td>167.0</td>\n",
       "      <td>1139.0</td>\n",
       "      <td>...</td>\n",
       "      <td>NaN</td>\n",
       "      <td>sub-line</td>\n",
       "      <td>line 3 part 4</td>\n",
       "      <td>REINER,</td>\n",
       "      <td>1062</td>\n",
       "      <td>160</td>\n",
       "      <td>320</td>\n",
       "      <td>20</td>\n",
       "      <td>datasets/YMU_UM/stimuli/Quiz - introduction-Q5...</td>\n",
       "      <td>fixation</td>\n",
       "    </tr>\n",
       "    <tr>\n",
       "      <th>3</th>\n",
       "      <td>Tobii I-VT (Fixation)</td>\n",
       "      <td>Participant55</td>\n",
       "      <td>Participant55</td>\n",
       "      <td>YMU-UM Recording55.tsv</td>\n",
       "      <td>introduction-Q5</td>\n",
       "      <td>datasets/YMU_UM/stimuli</td>\n",
       "      <td>introduction-Q5.png</td>\n",
       "      <td>574923662</td>\n",
       "      <td>167.0</td>\n",
       "      <td>1139.0</td>\n",
       "      <td>...</td>\n",
       "      <td>2.937</td>\n",
       "      <td>sub-line</td>\n",
       "      <td>line 3 part 4</td>\n",
       "      <td>REINER,</td>\n",
       "      <td>1062</td>\n",
       "      <td>160</td>\n",
       "      <td>320</td>\n",
       "      <td>20</td>\n",
       "      <td>datasets/YMU_UM/stimuli/Quiz - introduction-Q5...</td>\n",
       "      <td>fixation</td>\n",
       "    </tr>\n",
       "    <tr>\n",
       "      <th>4</th>\n",
       "      <td>Tobii I-VT (Fixation)</td>\n",
       "      <td>Participant55</td>\n",
       "      <td>Participant55</td>\n",
       "      <td>YMU-UM Recording55.tsv</td>\n",
       "      <td>introduction-Q5</td>\n",
       "      <td>datasets/YMU_UM/stimuli</td>\n",
       "      <td>introduction-Q5.png</td>\n",
       "      <td>574935602</td>\n",
       "      <td>167.0</td>\n",
       "      <td>1139.0</td>\n",
       "      <td>...</td>\n",
       "      <td>NaN</td>\n",
       "      <td>sub-line</td>\n",
       "      <td>line 3 part 4</td>\n",
       "      <td>REINER,</td>\n",
       "      <td>1062</td>\n",
       "      <td>160</td>\n",
       "      <td>320</td>\n",
       "      <td>20</td>\n",
       "      <td>datasets/YMU_UM/stimuli/Quiz - introduction-Q5...</td>\n",
       "      <td>fixation</td>\n",
       "    </tr>\n",
       "  </tbody>\n",
       "</table>\n",
       "<p>5 rows × 22 columns</p>\n",
       "</div>"
      ],
      "text/plain": [
       "             eye_tracker  experiment_id participant_id  \\\n",
       "0  Tobii I-VT (Fixation)  Participant55  Participant55   \n",
       "1  Tobii I-VT (Fixation)  Participant55  Participant55   \n",
       "2  Tobii I-VT (Fixation)  Participant55  Participant55   \n",
       "3  Tobii I-VT (Fixation)  Participant55  Participant55   \n",
       "4  Tobii I-VT (Fixation)  Participant55  Participant55   \n",
       "\n",
       "                 filename         trial_id           stimuli_module  \\\n",
       "0  YMU-UM Recording55.tsv  introduction-Q5  datasets/YMU_UM/stimuli   \n",
       "1  YMU-UM Recording55.tsv  introduction-Q5  datasets/YMU_UM/stimuli   \n",
       "2  YMU-UM Recording55.tsv  introduction-Q5  datasets/YMU_UM/stimuli   \n",
       "3  YMU-UM Recording55.tsv  introduction-Q5  datasets/YMU_UM/stimuli   \n",
       "4  YMU-UM Recording55.tsv  introduction-Q5  datasets/YMU_UM/stimuli   \n",
       "\n",
       "          stimuli_name  timestamp  duration      x0  ...  pupil_right  \\\n",
       "0  introduction-Q5.png  574903202     167.0  1139.0  ...          NaN   \n",
       "1  introduction-Q5.png  574907008     167.0  1139.0  ...        2.932   \n",
       "2  introduction-Q5.png  574919201     167.0  1139.0  ...          NaN   \n",
       "3  introduction-Q5.png  574923662     167.0  1139.0  ...        2.937   \n",
       "4  introduction-Q5.png  574935602     167.0  1139.0  ...          NaN   \n",
       "\n",
       "   aoi_kind       aoi_name aoi_token aoi_x aoi_y  aoi_width  aoi_height  \\\n",
       "0  sub-line  line 3 part 4   REINER,  1062   160        320          20   \n",
       "1  sub-line  line 3 part 4   REINER,  1062   160        320          20   \n",
       "2  sub-line  line 3 part 4   REINER,  1062   160        320          20   \n",
       "3  sub-line  line 3 part 4   REINER,  1062   160        320          20   \n",
       "4  sub-line  line 3 part 4   REINER,  1062   160        320          20   \n",
       "\n",
       "                                               image  eye_event_type  \n",
       "0  datasets/YMU_UM/stimuli/Quiz - introduction-Q5...        fixation  \n",
       "1  datasets/YMU_UM/stimuli/Quiz - introduction-Q5...        fixation  \n",
       "2  datasets/YMU_UM/stimuli/Quiz - introduction-Q5...        fixation  \n",
       "3  datasets/YMU_UM/stimuli/Quiz - introduction-Q5...        fixation  \n",
       "4  datasets/YMU_UM/stimuli/Quiz - introduction-Q5...        fixation  \n",
       "\n",
       "[5 rows x 22 columns]"
      ]
     },
     "execution_count": 16,
     "metadata": {},
     "output_type": "execute_result"
    }
   ],
   "source": [
    "aoi_fixations = aoi.aoi_tokens_matcher(aoi_file_path, trial_data, trial_id, redius=25)\n",
    "\n",
    "aoi_fixations.head()\n"
   ]
  },
  {
   "cell_type": "markdown",
   "metadata": {},
   "source": [
    "### save aoi_df"
   ]
  },
  {
   "cell_type": "code",
   "execution_count": 159,
   "metadata": {},
   "outputs": [],
   "source": [
    "file_path = \"output/ymu_um/\"\n",
    "# save the aoi fixations to a CSV file\n",
    "aoi_fixations.to_csv(f\"{file_path}individual/aoi/aoi_fixations_{trial_id}.csv\", index=False)"
   ]
  },
  {
   "cell_type": "markdown",
   "metadata": {},
   "source": [
    "### for task"
   ]
  },
  {
   "cell_type": "code",
   "execution_count": 126,
   "metadata": {},
   "outputs": [
    {
     "data": {
      "text/plain": [
       "'output/ymu_um/aoi_tokens_structure/aoi_introduction-Q5_tokens_structure.csv'"
      ]
     },
     "execution_count": 126,
     "metadata": {},
     "output_type": "execute_result"
    }
   ],
   "source": [
    "# trial_id = 'Q5' # for UNL_UM\n",
    "trial_id = 'introduction-Q5' # for YMU-UM\n",
    "aoi_file_path = f\"output/ymu_um/aoi_tokens_structure/aoi_{trial_id}_tokens_structure.csv\"\n",
    "aoi_file_path"
   ]
  },
  {
   "cell_type": "code",
   "execution_count": 127,
   "metadata": {},
   "outputs": [
    {
     "data": {
      "text/html": [
       "<div>\n",
       "<style scoped>\n",
       "    .dataframe tbody tr th:only-of-type {\n",
       "        vertical-align: middle;\n",
       "    }\n",
       "\n",
       "    .dataframe tbody tr th {\n",
       "        vertical-align: top;\n",
       "    }\n",
       "\n",
       "    .dataframe thead th {\n",
       "        text-align: right;\n",
       "    }\n",
       "</style>\n",
       "<table border=\"1\" class=\"dataframe\">\n",
       "  <thead>\n",
       "    <tr style=\"text-align: right;\">\n",
       "      <th></th>\n",
       "      <th>eye_tracker</th>\n",
       "      <th>experiment_id</th>\n",
       "      <th>participant_id</th>\n",
       "      <th>filename</th>\n",
       "      <th>trial_id</th>\n",
       "      <th>stimuli_module</th>\n",
       "      <th>stimuli_name</th>\n",
       "      <th>timestamp</th>\n",
       "      <th>duration</th>\n",
       "      <th>x0</th>\n",
       "      <th>y0</th>\n",
       "      <th>x1</th>\n",
       "      <th>y1</th>\n",
       "      <th>token</th>\n",
       "      <th>pupil_l</th>\n",
       "      <th>pupil_r</th>\n",
       "      <th>amplitude</th>\n",
       "      <th>peak_velocity</th>\n",
       "      <th>eye_event_type</th>\n",
       "    </tr>\n",
       "  </thead>\n",
       "  <tbody>\n",
       "    <tr>\n",
       "      <th>30007</th>\n",
       "      <td>Tobii I-VT (Fixation)</td>\n",
       "      <td>Participant10</td>\n",
       "      <td>Participant10</td>\n",
       "      <td>YMU-UM Recording10.tsv</td>\n",
       "      <td>introduction-Q5</td>\n",
       "      <td>datasets/YMU_UM/stimuli</td>\n",
       "      <td>introduction-Q5.png</td>\n",
       "      <td>534273776</td>\n",
       "      <td>700.0</td>\n",
       "      <td>933.0</td>\n",
       "      <td>274.0</td>\n",
       "      <td>NaN</td>\n",
       "      <td>NaN</td>\n",
       "      <td>None</td>\n",
       "      <td>NaN</td>\n",
       "      <td>NaN</td>\n",
       "      <td>NaN</td>\n",
       "      <td>NaN</td>\n",
       "      <td>fixation</td>\n",
       "    </tr>\n",
       "    <tr>\n",
       "      <th>30008</th>\n",
       "      <td>Tobii I-VT (Fixation)</td>\n",
       "      <td>Participant10</td>\n",
       "      <td>Participant10</td>\n",
       "      <td>YMU-UM Recording10.tsv</td>\n",
       "      <td>introduction-Q5</td>\n",
       "      <td>datasets/YMU_UM/stimuli</td>\n",
       "      <td>introduction-Q5.png</td>\n",
       "      <td>534280287</td>\n",
       "      <td>700.0</td>\n",
       "      <td>933.0</td>\n",
       "      <td>274.0</td>\n",
       "      <td>NaN</td>\n",
       "      <td>NaN</td>\n",
       "      <td>None</td>\n",
       "      <td>3.037</td>\n",
       "      <td>2.933</td>\n",
       "      <td>NaN</td>\n",
       "      <td>NaN</td>\n",
       "      <td>fixation</td>\n",
       "    </tr>\n",
       "    <tr>\n",
       "      <th>30009</th>\n",
       "      <td>Tobii I-VT (Fixation)</td>\n",
       "      <td>Participant10</td>\n",
       "      <td>Participant10</td>\n",
       "      <td>YMU-UM Recording10.tsv</td>\n",
       "      <td>introduction-Q5</td>\n",
       "      <td>datasets/YMU_UM/stimuli</td>\n",
       "      <td>introduction-Q5.png</td>\n",
       "      <td>534293118</td>\n",
       "      <td>700.0</td>\n",
       "      <td>933.0</td>\n",
       "      <td>274.0</td>\n",
       "      <td>NaN</td>\n",
       "      <td>NaN</td>\n",
       "      <td>None</td>\n",
       "      <td>NaN</td>\n",
       "      <td>NaN</td>\n",
       "      <td>NaN</td>\n",
       "      <td>NaN</td>\n",
       "      <td>fixation</td>\n",
       "    </tr>\n",
       "    <tr>\n",
       "      <th>30010</th>\n",
       "      <td>Tobii I-VT (Fixation)</td>\n",
       "      <td>Participant10</td>\n",
       "      <td>Participant10</td>\n",
       "      <td>YMU-UM Recording10.tsv</td>\n",
       "      <td>introduction-Q5</td>\n",
       "      <td>datasets/YMU_UM/stimuli</td>\n",
       "      <td>introduction-Q5.png</td>\n",
       "      <td>534296941</td>\n",
       "      <td>700.0</td>\n",
       "      <td>933.0</td>\n",
       "      <td>274.0</td>\n",
       "      <td>NaN</td>\n",
       "      <td>NaN</td>\n",
       "      <td>None</td>\n",
       "      <td>3.047</td>\n",
       "      <td>2.949</td>\n",
       "      <td>NaN</td>\n",
       "      <td>NaN</td>\n",
       "      <td>fixation</td>\n",
       "    </tr>\n",
       "    <tr>\n",
       "      <th>30011</th>\n",
       "      <td>Tobii I-VT (Fixation)</td>\n",
       "      <td>Participant10</td>\n",
       "      <td>Participant10</td>\n",
       "      <td>YMU-UM Recording10.tsv</td>\n",
       "      <td>introduction-Q5</td>\n",
       "      <td>datasets/YMU_UM/stimuli</td>\n",
       "      <td>introduction-Q5.png</td>\n",
       "      <td>534313596</td>\n",
       "      <td>700.0</td>\n",
       "      <td>933.0</td>\n",
       "      <td>274.0</td>\n",
       "      <td>NaN</td>\n",
       "      <td>NaN</td>\n",
       "      <td>None</td>\n",
       "      <td>3.051</td>\n",
       "      <td>2.955</td>\n",
       "      <td>NaN</td>\n",
       "      <td>NaN</td>\n",
       "      <td>fixation</td>\n",
       "    </tr>\n",
       "  </tbody>\n",
       "</table>\n",
       "</div>"
      ],
      "text/plain": [
       "                 eye_tracker  experiment_id participant_id  \\\n",
       "30007  Tobii I-VT (Fixation)  Participant10  Participant10   \n",
       "30008  Tobii I-VT (Fixation)  Participant10  Participant10   \n",
       "30009  Tobii I-VT (Fixation)  Participant10  Participant10   \n",
       "30010  Tobii I-VT (Fixation)  Participant10  Participant10   \n",
       "30011  Tobii I-VT (Fixation)  Participant10  Participant10   \n",
       "\n",
       "                     filename         trial_id           stimuli_module  \\\n",
       "30007  YMU-UM Recording10.tsv  introduction-Q5  datasets/YMU_UM/stimuli   \n",
       "30008  YMU-UM Recording10.tsv  introduction-Q5  datasets/YMU_UM/stimuli   \n",
       "30009  YMU-UM Recording10.tsv  introduction-Q5  datasets/YMU_UM/stimuli   \n",
       "30010  YMU-UM Recording10.tsv  introduction-Q5  datasets/YMU_UM/stimuli   \n",
       "30011  YMU-UM Recording10.tsv  introduction-Q5  datasets/YMU_UM/stimuli   \n",
       "\n",
       "              stimuli_name  timestamp  duration     x0     y0  x1  y1 token  \\\n",
       "30007  introduction-Q5.png  534273776     700.0  933.0  274.0 NaN NaN  None   \n",
       "30008  introduction-Q5.png  534280287     700.0  933.0  274.0 NaN NaN  None   \n",
       "30009  introduction-Q5.png  534293118     700.0  933.0  274.0 NaN NaN  None   \n",
       "30010  introduction-Q5.png  534296941     700.0  933.0  274.0 NaN NaN  None   \n",
       "30011  introduction-Q5.png  534313596     700.0  933.0  274.0 NaN NaN  None   \n",
       "\n",
       "       pupil_l  pupil_r  amplitude  peak_velocity eye_event_type  \n",
       "30007      NaN      NaN        NaN            NaN       fixation  \n",
       "30008    3.037    2.933        NaN            NaN       fixation  \n",
       "30009      NaN      NaN        NaN            NaN       fixation  \n",
       "30010    3.047    2.949        NaN            NaN       fixation  \n",
       "30011    3.051    2.955        NaN            NaN       fixation  "
      ]
     },
     "execution_count": 127,
     "metadata": {},
     "output_type": "execute_result"
    }
   ],
   "source": [
    "trial_data = eye_events[eye_events['trial_id'] == trial_id]\n",
    "\n",
    "trial_data.head()"
   ]
  },
  {
   "cell_type": "code",
   "execution_count": 128,
   "metadata": {},
   "outputs": [
    {
     "data": {
      "text/html": [
       "<div>\n",
       "<style scoped>\n",
       "    .dataframe tbody tr th:only-of-type {\n",
       "        vertical-align: middle;\n",
       "    }\n",
       "\n",
       "    .dataframe tbody tr th {\n",
       "        vertical-align: top;\n",
       "    }\n",
       "\n",
       "    .dataframe thead th {\n",
       "        text-align: right;\n",
       "    }\n",
       "</style>\n",
       "<table border=\"1\" class=\"dataframe\">\n",
       "  <thead>\n",
       "    <tr style=\"text-align: right;\">\n",
       "      <th></th>\n",
       "      <th>eye_tracker</th>\n",
       "      <th>experiment_id</th>\n",
       "      <th>participant_id</th>\n",
       "      <th>filename</th>\n",
       "      <th>trial_id</th>\n",
       "      <th>stimuli_module</th>\n",
       "      <th>stimuli_name</th>\n",
       "      <th>timestamp</th>\n",
       "      <th>duration</th>\n",
       "      <th>x0</th>\n",
       "      <th>y0</th>\n",
       "      <th>x1</th>\n",
       "      <th>y1</th>\n",
       "      <th>token</th>\n",
       "      <th>pupil_l</th>\n",
       "      <th>pupil_r</th>\n",
       "      <th>amplitude</th>\n",
       "      <th>peak_velocity</th>\n",
       "      <th>eye_event_type</th>\n",
       "    </tr>\n",
       "  </thead>\n",
       "  <tbody>\n",
       "    <tr>\n",
       "      <th>30007</th>\n",
       "      <td>Tobii I-VT (Fixation)</td>\n",
       "      <td>Participant10</td>\n",
       "      <td>Participant10</td>\n",
       "      <td>YMU-UM Recording10.tsv</td>\n",
       "      <td>introduction-Q5</td>\n",
       "      <td>datasets/YMU_UM/stimuli</td>\n",
       "      <td>introduction-Q5.png</td>\n",
       "      <td>534273776</td>\n",
       "      <td>700.0</td>\n",
       "      <td>933.0</td>\n",
       "      <td>274.0</td>\n",
       "      <td>NaN</td>\n",
       "      <td>NaN</td>\n",
       "      <td>None</td>\n",
       "      <td>NaN</td>\n",
       "      <td>NaN</td>\n",
       "      <td>NaN</td>\n",
       "      <td>NaN</td>\n",
       "      <td>fixation</td>\n",
       "    </tr>\n",
       "    <tr>\n",
       "      <th>30008</th>\n",
       "      <td>Tobii I-VT (Fixation)</td>\n",
       "      <td>Participant10</td>\n",
       "      <td>Participant10</td>\n",
       "      <td>YMU-UM Recording10.tsv</td>\n",
       "      <td>introduction-Q5</td>\n",
       "      <td>datasets/YMU_UM/stimuli</td>\n",
       "      <td>introduction-Q5.png</td>\n",
       "      <td>534280287</td>\n",
       "      <td>700.0</td>\n",
       "      <td>933.0</td>\n",
       "      <td>274.0</td>\n",
       "      <td>NaN</td>\n",
       "      <td>NaN</td>\n",
       "      <td>None</td>\n",
       "      <td>3.037</td>\n",
       "      <td>2.933</td>\n",
       "      <td>NaN</td>\n",
       "      <td>NaN</td>\n",
       "      <td>fixation</td>\n",
       "    </tr>\n",
       "    <tr>\n",
       "      <th>30009</th>\n",
       "      <td>Tobii I-VT (Fixation)</td>\n",
       "      <td>Participant10</td>\n",
       "      <td>Participant10</td>\n",
       "      <td>YMU-UM Recording10.tsv</td>\n",
       "      <td>introduction-Q5</td>\n",
       "      <td>datasets/YMU_UM/stimuli</td>\n",
       "      <td>introduction-Q5.png</td>\n",
       "      <td>534293118</td>\n",
       "      <td>700.0</td>\n",
       "      <td>933.0</td>\n",
       "      <td>274.0</td>\n",
       "      <td>NaN</td>\n",
       "      <td>NaN</td>\n",
       "      <td>None</td>\n",
       "      <td>NaN</td>\n",
       "      <td>NaN</td>\n",
       "      <td>NaN</td>\n",
       "      <td>NaN</td>\n",
       "      <td>fixation</td>\n",
       "    </tr>\n",
       "    <tr>\n",
       "      <th>30010</th>\n",
       "      <td>Tobii I-VT (Fixation)</td>\n",
       "      <td>Participant10</td>\n",
       "      <td>Participant10</td>\n",
       "      <td>YMU-UM Recording10.tsv</td>\n",
       "      <td>introduction-Q5</td>\n",
       "      <td>datasets/YMU_UM/stimuli</td>\n",
       "      <td>introduction-Q5.png</td>\n",
       "      <td>534296941</td>\n",
       "      <td>700.0</td>\n",
       "      <td>933.0</td>\n",
       "      <td>274.0</td>\n",
       "      <td>NaN</td>\n",
       "      <td>NaN</td>\n",
       "      <td>None</td>\n",
       "      <td>3.047</td>\n",
       "      <td>2.949</td>\n",
       "      <td>NaN</td>\n",
       "      <td>NaN</td>\n",
       "      <td>fixation</td>\n",
       "    </tr>\n",
       "    <tr>\n",
       "      <th>30011</th>\n",
       "      <td>Tobii I-VT (Fixation)</td>\n",
       "      <td>Participant10</td>\n",
       "      <td>Participant10</td>\n",
       "      <td>YMU-UM Recording10.tsv</td>\n",
       "      <td>introduction-Q5</td>\n",
       "      <td>datasets/YMU_UM/stimuli</td>\n",
       "      <td>introduction-Q5.png</td>\n",
       "      <td>534313596</td>\n",
       "      <td>700.0</td>\n",
       "      <td>933.0</td>\n",
       "      <td>274.0</td>\n",
       "      <td>NaN</td>\n",
       "      <td>NaN</td>\n",
       "      <td>None</td>\n",
       "      <td>3.051</td>\n",
       "      <td>2.955</td>\n",
       "      <td>NaN</td>\n",
       "      <td>NaN</td>\n",
       "      <td>fixation</td>\n",
       "    </tr>\n",
       "  </tbody>\n",
       "</table>\n",
       "</div>"
      ],
      "text/plain": [
       "                 eye_tracker  experiment_id participant_id  \\\n",
       "30007  Tobii I-VT (Fixation)  Participant10  Participant10   \n",
       "30008  Tobii I-VT (Fixation)  Participant10  Participant10   \n",
       "30009  Tobii I-VT (Fixation)  Participant10  Participant10   \n",
       "30010  Tobii I-VT (Fixation)  Participant10  Participant10   \n",
       "30011  Tobii I-VT (Fixation)  Participant10  Participant10   \n",
       "\n",
       "                     filename         trial_id           stimuli_module  \\\n",
       "30007  YMU-UM Recording10.tsv  introduction-Q5  datasets/YMU_UM/stimuli   \n",
       "30008  YMU-UM Recording10.tsv  introduction-Q5  datasets/YMU_UM/stimuli   \n",
       "30009  YMU-UM Recording10.tsv  introduction-Q5  datasets/YMU_UM/stimuli   \n",
       "30010  YMU-UM Recording10.tsv  introduction-Q5  datasets/YMU_UM/stimuli   \n",
       "30011  YMU-UM Recording10.tsv  introduction-Q5  datasets/YMU_UM/stimuli   \n",
       "\n",
       "              stimuli_name  timestamp  duration     x0     y0  x1  y1 token  \\\n",
       "30007  introduction-Q5.png  534273776     700.0  933.0  274.0 NaN NaN  None   \n",
       "30008  introduction-Q5.png  534280287     700.0  933.0  274.0 NaN NaN  None   \n",
       "30009  introduction-Q5.png  534293118     700.0  933.0  274.0 NaN NaN  None   \n",
       "30010  introduction-Q5.png  534296941     700.0  933.0  274.0 NaN NaN  None   \n",
       "30011  introduction-Q5.png  534313596     700.0  933.0  274.0 NaN NaN  None   \n",
       "\n",
       "       pupil_l  pupil_r  amplitude  peak_velocity eye_event_type  \n",
       "30007      NaN      NaN        NaN            NaN       fixation  \n",
       "30008    3.037    2.933        NaN            NaN       fixation  \n",
       "30009      NaN      NaN        NaN            NaN       fixation  \n",
       "30010    3.047    2.949        NaN            NaN       fixation  \n",
       "30011    3.051    2.955        NaN            NaN       fixation  "
      ]
     },
     "execution_count": 128,
     "metadata": {},
     "output_type": "execute_result"
    }
   ],
   "source": [
    "trial_data = eye_events[eye_events['trial_id'] == trial_id]\n",
    "\n",
    "trial_data.head()"
   ]
  },
  {
   "cell_type": "code",
   "execution_count": 129,
   "metadata": {},
   "outputs": [
    {
     "name": "stderr",
     "output_type": "stream",
     "text": [
      "Matching fixations to AOIs: 100%|\u001b[32m██████████\u001b[0m| 468475/468475 [1:19:19<00:00, 98.42fixation/s]\n"
     ]
    },
    {
     "data": {
      "text/html": [
       "<div>\n",
       "<style scoped>\n",
       "    .dataframe tbody tr th:only-of-type {\n",
       "        vertical-align: middle;\n",
       "    }\n",
       "\n",
       "    .dataframe tbody tr th {\n",
       "        vertical-align: top;\n",
       "    }\n",
       "\n",
       "    .dataframe thead th {\n",
       "        text-align: right;\n",
       "    }\n",
       "</style>\n",
       "<table border=\"1\" class=\"dataframe\">\n",
       "  <thead>\n",
       "    <tr style=\"text-align: right;\">\n",
       "      <th></th>\n",
       "      <th>eye_tracker</th>\n",
       "      <th>experiment_id</th>\n",
       "      <th>participant_id</th>\n",
       "      <th>filename</th>\n",
       "      <th>trial_id</th>\n",
       "      <th>stimuli_module</th>\n",
       "      <th>stimuli_name</th>\n",
       "      <th>timestamp</th>\n",
       "      <th>duration</th>\n",
       "      <th>x0</th>\n",
       "      <th>...</th>\n",
       "      <th>pupil_right</th>\n",
       "      <th>aoi_kind</th>\n",
       "      <th>aoi_name</th>\n",
       "      <th>aoi_token</th>\n",
       "      <th>aoi_x</th>\n",
       "      <th>aoi_y</th>\n",
       "      <th>aoi_width</th>\n",
       "      <th>aoi_height</th>\n",
       "      <th>image</th>\n",
       "      <th>eye_event_type</th>\n",
       "    </tr>\n",
       "  </thead>\n",
       "  <tbody>\n",
       "    <tr>\n",
       "      <th>0</th>\n",
       "      <td>Tobii I-VT (Fixation)</td>\n",
       "      <td>Participant10</td>\n",
       "      <td>Participant10</td>\n",
       "      <td>YMU-UM Recording10.tsv</td>\n",
       "      <td>introduction-Q5</td>\n",
       "      <td>datasets/YMU_UM/stimuli</td>\n",
       "      <td>introduction-Q5.png</td>\n",
       "      <td>535013035</td>\n",
       "      <td>250.0</td>\n",
       "      <td>588.0</td>\n",
       "      <td>...</td>\n",
       "      <td>NaN</td>\n",
       "      <td>sub-line</td>\n",
       "      <td>line 3 part 2</td>\n",
       "      <td>RR</td>\n",
       "      <td>576</td>\n",
       "      <td>137</td>\n",
       "      <td>60</td>\n",
       "      <td>65</td>\n",
       "      <td>datasets/YMU_UM/stimuli/Quiz - introduction-Q5...</td>\n",
       "      <td>fixation</td>\n",
       "    </tr>\n",
       "    <tr>\n",
       "      <th>1</th>\n",
       "      <td>Tobii I-VT (Fixation)</td>\n",
       "      <td>Participant10</td>\n",
       "      <td>Participant10</td>\n",
       "      <td>YMU-UM Recording10.tsv</td>\n",
       "      <td>introduction-Q5</td>\n",
       "      <td>datasets/YMU_UM/stimuli</td>\n",
       "      <td>introduction-Q5.png</td>\n",
       "      <td>535013096</td>\n",
       "      <td>250.0</td>\n",
       "      <td>588.0</td>\n",
       "      <td>...</td>\n",
       "      <td>2.869</td>\n",
       "      <td>sub-line</td>\n",
       "      <td>line 3 part 2</td>\n",
       "      <td>RR</td>\n",
       "      <td>576</td>\n",
       "      <td>137</td>\n",
       "      <td>60</td>\n",
       "      <td>65</td>\n",
       "      <td>datasets/YMU_UM/stimuli/Quiz - introduction-Q5...</td>\n",
       "      <td>fixation</td>\n",
       "    </tr>\n",
       "    <tr>\n",
       "      <th>2</th>\n",
       "      <td>Tobii I-VT (Fixation)</td>\n",
       "      <td>Participant10</td>\n",
       "      <td>Participant10</td>\n",
       "      <td>YMU-UM Recording10.tsv</td>\n",
       "      <td>introduction-Q5</td>\n",
       "      <td>datasets/YMU_UM/stimuli</td>\n",
       "      <td>introduction-Q5.png</td>\n",
       "      <td>535028959</td>\n",
       "      <td>250.0</td>\n",
       "      <td>588.0</td>\n",
       "      <td>...</td>\n",
       "      <td>NaN</td>\n",
       "      <td>sub-line</td>\n",
       "      <td>line 3 part 2</td>\n",
       "      <td>RR</td>\n",
       "      <td>576</td>\n",
       "      <td>137</td>\n",
       "      <td>60</td>\n",
       "      <td>65</td>\n",
       "      <td>datasets/YMU_UM/stimuli/Quiz - introduction-Q5...</td>\n",
       "      <td>fixation</td>\n",
       "    </tr>\n",
       "    <tr>\n",
       "      <th>3</th>\n",
       "      <td>Tobii I-VT (Fixation)</td>\n",
       "      <td>Participant10</td>\n",
       "      <td>Participant10</td>\n",
       "      <td>YMU-UM Recording10.tsv</td>\n",
       "      <td>introduction-Q5</td>\n",
       "      <td>datasets/YMU_UM/stimuli</td>\n",
       "      <td>introduction-Q5.png</td>\n",
       "      <td>535029751</td>\n",
       "      <td>250.0</td>\n",
       "      <td>588.0</td>\n",
       "      <td>...</td>\n",
       "      <td>2.866</td>\n",
       "      <td>sub-line</td>\n",
       "      <td>line 3 part 2</td>\n",
       "      <td>RR</td>\n",
       "      <td>576</td>\n",
       "      <td>137</td>\n",
       "      <td>60</td>\n",
       "      <td>65</td>\n",
       "      <td>datasets/YMU_UM/stimuli/Quiz - introduction-Q5...</td>\n",
       "      <td>fixation</td>\n",
       "    </tr>\n",
       "    <tr>\n",
       "      <th>4</th>\n",
       "      <td>Tobii I-VT (Fixation)</td>\n",
       "      <td>Participant10</td>\n",
       "      <td>Participant10</td>\n",
       "      <td>YMU-UM Recording10.tsv</td>\n",
       "      <td>introduction-Q5</td>\n",
       "      <td>datasets/YMU_UM/stimuli</td>\n",
       "      <td>introduction-Q5.png</td>\n",
       "      <td>535044960</td>\n",
       "      <td>250.0</td>\n",
       "      <td>588.0</td>\n",
       "      <td>...</td>\n",
       "      <td>NaN</td>\n",
       "      <td>sub-line</td>\n",
       "      <td>line 3 part 2</td>\n",
       "      <td>RR</td>\n",
       "      <td>576</td>\n",
       "      <td>137</td>\n",
       "      <td>60</td>\n",
       "      <td>65</td>\n",
       "      <td>datasets/YMU_UM/stimuli/Quiz - introduction-Q5...</td>\n",
       "      <td>fixation</td>\n",
       "    </tr>\n",
       "  </tbody>\n",
       "</table>\n",
       "<p>5 rows × 22 columns</p>\n",
       "</div>"
      ],
      "text/plain": [
       "             eye_tracker  experiment_id participant_id  \\\n",
       "0  Tobii I-VT (Fixation)  Participant10  Participant10   \n",
       "1  Tobii I-VT (Fixation)  Participant10  Participant10   \n",
       "2  Tobii I-VT (Fixation)  Participant10  Participant10   \n",
       "3  Tobii I-VT (Fixation)  Participant10  Participant10   \n",
       "4  Tobii I-VT (Fixation)  Participant10  Participant10   \n",
       "\n",
       "                 filename         trial_id           stimuli_module  \\\n",
       "0  YMU-UM Recording10.tsv  introduction-Q5  datasets/YMU_UM/stimuli   \n",
       "1  YMU-UM Recording10.tsv  introduction-Q5  datasets/YMU_UM/stimuli   \n",
       "2  YMU-UM Recording10.tsv  introduction-Q5  datasets/YMU_UM/stimuli   \n",
       "3  YMU-UM Recording10.tsv  introduction-Q5  datasets/YMU_UM/stimuli   \n",
       "4  YMU-UM Recording10.tsv  introduction-Q5  datasets/YMU_UM/stimuli   \n",
       "\n",
       "          stimuli_name  timestamp  duration     x0  ...  pupil_right  \\\n",
       "0  introduction-Q5.png  535013035     250.0  588.0  ...          NaN   \n",
       "1  introduction-Q5.png  535013096     250.0  588.0  ...        2.869   \n",
       "2  introduction-Q5.png  535028959     250.0  588.0  ...          NaN   \n",
       "3  introduction-Q5.png  535029751     250.0  588.0  ...        2.866   \n",
       "4  introduction-Q5.png  535044960     250.0  588.0  ...          NaN   \n",
       "\n",
       "   aoi_kind       aoi_name aoi_token aoi_x aoi_y  aoi_width  aoi_height  \\\n",
       "0  sub-line  line 3 part 2        RR   576   137         60          65   \n",
       "1  sub-line  line 3 part 2        RR   576   137         60          65   \n",
       "2  sub-line  line 3 part 2        RR   576   137         60          65   \n",
       "3  sub-line  line 3 part 2        RR   576   137         60          65   \n",
       "4  sub-line  line 3 part 2        RR   576   137         60          65   \n",
       "\n",
       "                                               image  eye_event_type  \n",
       "0  datasets/YMU_UM/stimuli/Quiz - introduction-Q5...        fixation  \n",
       "1  datasets/YMU_UM/stimuli/Quiz - introduction-Q5...        fixation  \n",
       "2  datasets/YMU_UM/stimuli/Quiz - introduction-Q5...        fixation  \n",
       "3  datasets/YMU_UM/stimuli/Quiz - introduction-Q5...        fixation  \n",
       "4  datasets/YMU_UM/stimuli/Quiz - introduction-Q5...        fixation  \n",
       "\n",
       "[5 rows x 22 columns]"
      ]
     },
     "execution_count": 129,
     "metadata": {},
     "output_type": "execute_result"
    }
   ],
   "source": [
    "aoi_fixations = aoi.aoi_tokens_matcher(aoi_file_path, trial_data, trial_id, redius=25)\n",
    "\n",
    "aoi_fixations.head()\n"
   ]
  },
  {
   "cell_type": "code",
   "execution_count": 130,
   "metadata": {},
   "outputs": [],
   "source": [
    "file_path = \"output/ymu_um/\""
   ]
  },
  {
   "cell_type": "code",
   "execution_count": 131,
   "metadata": {},
   "outputs": [],
   "source": [
    "# save aoi_fixations\n",
    "aoi_fixations.to_csv(f\"{file_path}/group/aoi/aoi_fixations_{trial_id}_nonopt.csv\", index=False)"
   ]
  }
 ],
 "metadata": {
  "kernelspec": {
   "display_name": "g2c",
   "language": "python",
   "name": "python3"
  },
  "language_info": {
   "codemirror_mode": {
    "name": "ipython",
    "version": 3
   },
   "file_extension": ".py",
   "mimetype": "text/x-python",
   "name": "python",
   "nbconvert_exporter": "python",
   "pygments_lexer": "ipython3",
   "version": "3.10.16"
  }
 },
 "nbformat": 4,
 "nbformat_minor": 2
}
