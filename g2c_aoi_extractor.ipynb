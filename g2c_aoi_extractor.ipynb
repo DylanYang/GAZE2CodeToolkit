{
 "cells": [
  {
   "cell_type": "markdown",
   "metadata": {},
   "source": [
    "# Getting started with gaze dataset "
   ]
  },
  {
   "cell_type": "markdown",
   "metadata": {},
   "source": [
    "In this example, we will show examples of the main functionalities included in the emtk.\n",
    "\n",
    "This includes:\n",
    "- Parsing raw data from the gaze dataset to pandas dataframe.\n",
    "- Visualizing raw data, filtered fixation, saccades, and AOIs visualization.\n",
    "- Applying fixation correction through setting offset.\n",
    "- Generating AOIs for any gaze stimuli.\n",
    "- Adding text tokens to generated AOIs.\n",
    "- Adding srcML tags to AOIs and tokens.\n",
    "- Performing hit test between fixations and AOIs. "
   ]
  },
  {
   "cell_type": "code",
   "execution_count": 6,
   "metadata": {},
   "outputs": [
    {
     "name": "stdout",
     "output_type": "stream",
     "text": [
      "The autoreload extension is already loaded. To reload it, use:\n",
      "  %reload_ext autoreload\n"
     ]
    }
   ],
   "source": [
    "%load_ext autoreload\n",
    "%autoreload 2  "
   ]
  },
  {
   "cell_type": "markdown",
   "metadata": {},
   "source": [
    "# Importing the tool"
   ]
  },
  {
   "cell_type": "code",
   "execution_count": 5,
   "metadata": {},
   "outputs": [],
   "source": [
    "import pandas as pd\n",
    "from g2c import parsers, visualization, util, aoi\n",
    "\n",
    "# ignore warnings\n",
    "import warnings\n",
    "warnings.filterwarnings('ignore')"
   ]
  },
  {
   "cell_type": "markdown",
   "metadata": {},
   "source": [
    "# Parsing raw data from the UNL dataset"
   ]
  },
  {
   "cell_type": "code",
   "execution_count": 26,
   "metadata": {},
   "outputs": [
    {
     "name": "stderr",
     "output_type": "stream",
     "text": [
      "Processing files:   2%|\u001b[32m▏         \u001b[0m| 1/48 [00:02<01:43,  2.21s/file]"
     ]
    },
    {
     "name": "stdout",
     "output_type": "stream",
     "text": [
      "Processed file: UNL-UM_UO P103.tsv\n"
     ]
    },
    {
     "name": "stderr",
     "output_type": "stream",
     "text": [
      "Processing files:   4%|\u001b[32m▍         \u001b[0m| 2/48 [00:04<01:31,  1.99s/file]"
     ]
    },
    {
     "name": "stdout",
     "output_type": "stream",
     "text": [
      "Processed file: UNL-UM_UO P105.tsv\n"
     ]
    },
    {
     "name": "stderr",
     "output_type": "stream",
     "text": [
      "Processing files:   6%|\u001b[32m▋         \u001b[0m| 3/48 [00:07<01:49,  2.44s/file]"
     ]
    },
    {
     "name": "stdout",
     "output_type": "stream",
     "text": [
      "Processed file: UNL-UM_UO P107.tsv\n"
     ]
    },
    {
     "name": "stderr",
     "output_type": "stream",
     "text": [
      "Processing files:   8%|\u001b[32m▊         \u001b[0m| 4/48 [00:10<01:59,  2.72s/file]"
     ]
    },
    {
     "name": "stdout",
     "output_type": "stream",
     "text": [
      "Processed file: UNL-UM_UO P113.tsv\n"
     ]
    },
    {
     "name": "stderr",
     "output_type": "stream",
     "text": [
      "Processing files:  10%|\u001b[32m█         \u001b[0m| 5/48 [00:14<02:20,  3.27s/file]"
     ]
    },
    {
     "name": "stdout",
     "output_type": "stream",
     "text": [
      "Processed file: UNL-UM_UO P124.tsv\n"
     ]
    },
    {
     "name": "stderr",
     "output_type": "stream",
     "text": [
      "Processing files:  12%|\u001b[32m█▎        \u001b[0m| 6/48 [00:19<02:42,  3.87s/file]"
     ]
    },
    {
     "name": "stdout",
     "output_type": "stream",
     "text": [
      "Processed file: UNL-UM_UO P127.tsv\n"
     ]
    },
    {
     "name": "stderr",
     "output_type": "stream",
     "text": [
      "Processing files:  15%|\u001b[32m█▍        \u001b[0m| 7/48 [00:24<02:55,  4.28s/file]"
     ]
    },
    {
     "name": "stdout",
     "output_type": "stream",
     "text": [
      "Processed file: UNL-UM_UO P132.tsv\n"
     ]
    },
    {
     "name": "stderr",
     "output_type": "stream",
     "text": [
      "Processing files:  17%|\u001b[32m█▋        \u001b[0m| 8/48 [00:31<03:27,  5.20s/file]"
     ]
    },
    {
     "name": "stdout",
     "output_type": "stream",
     "text": [
      "Processed file: UNL-UM_UO P135.tsv\n"
     ]
    },
    {
     "name": "stderr",
     "output_type": "stream",
     "text": [
      "Processing files:  19%|\u001b[32m█▉        \u001b[0m| 9/48 [00:39<03:52,  5.96s/file]"
     ]
    },
    {
     "name": "stdout",
     "output_type": "stream",
     "text": [
      "Processed file: UNL-UM_UO P139.tsv\n"
     ]
    },
    {
     "name": "stderr",
     "output_type": "stream",
     "text": [
      "Processing files:  21%|\u001b[32m██        \u001b[0m| 10/48 [00:46<03:56,  6.23s/file]"
     ]
    },
    {
     "name": "stdout",
     "output_type": "stream",
     "text": [
      "Processed file: UNL-UM_UO P140.tsv\n"
     ]
    },
    {
     "name": "stderr",
     "output_type": "stream",
     "text": [
      "Processing files:  23%|\u001b[32m██▎       \u001b[0m| 11/48 [00:54<04:09,  6.74s/file]"
     ]
    },
    {
     "name": "stdout",
     "output_type": "stream",
     "text": [
      "Processed file: UNL-UM_UO P142.tsv\n"
     ]
    },
    {
     "name": "stderr",
     "output_type": "stream",
     "text": [
      "Processing files:  25%|\u001b[32m██▌       \u001b[0m| 12/48 [01:02<04:23,  7.31s/file]"
     ]
    },
    {
     "name": "stdout",
     "output_type": "stream",
     "text": [
      "Processed file: UNL-UM_UO P143.tsv\n"
     ]
    },
    {
     "name": "stderr",
     "output_type": "stream",
     "text": [
      "Processing files:  27%|\u001b[32m██▋       \u001b[0m| 13/48 [01:11<04:32,  7.79s/file]"
     ]
    },
    {
     "name": "stdout",
     "output_type": "stream",
     "text": [
      "Processed file: UNL-UM_UO P147.tsv\n"
     ]
    },
    {
     "name": "stderr",
     "output_type": "stream",
     "text": [
      "Processing files:  29%|\u001b[32m██▉       \u001b[0m| 14/48 [01:22<04:55,  8.69s/file]"
     ]
    },
    {
     "name": "stdout",
     "output_type": "stream",
     "text": [
      "Processed file: UNL-UM_UO P149.tsv\n"
     ]
    },
    {
     "name": "stderr",
     "output_type": "stream",
     "text": [
      "Processing files:  31%|\u001b[32m███▏      \u001b[0m| 15/48 [01:32<05:02,  9.17s/file]"
     ]
    },
    {
     "name": "stdout",
     "output_type": "stream",
     "text": [
      "Processed file: UNL-UM_UO P152.tsv\n"
     ]
    },
    {
     "name": "stderr",
     "output_type": "stream",
     "text": [
      "Processing files:  33%|\u001b[32m███▎      \u001b[0m| 16/48 [01:43<05:06,  9.57s/file]"
     ]
    },
    {
     "name": "stdout",
     "output_type": "stream",
     "text": [
      "Processed file: UNL-UM_UO P154.tsv\n"
     ]
    },
    {
     "name": "stderr",
     "output_type": "stream",
     "text": [
      "Processing files:  35%|\u001b[32m███▌      \u001b[0m| 17/48 [01:54<05:10, 10.02s/file]"
     ]
    },
    {
     "name": "stdout",
     "output_type": "stream",
     "text": [
      "Processed file: UNL-UM_UO P155.tsv\n"
     ]
    },
    {
     "name": "stderr",
     "output_type": "stream",
     "text": [
      "Processing files:  38%|\u001b[32m███▊      \u001b[0m| 18/48 [02:06<05:20, 10.69s/file]"
     ]
    },
    {
     "name": "stdout",
     "output_type": "stream",
     "text": [
      "Processed file: UNL-UM_UO P157.tsv\n"
     ]
    },
    {
     "name": "stderr",
     "output_type": "stream",
     "text": [
      "Processing files:  40%|\u001b[32m███▉      \u001b[0m| 19/48 [02:19<05:30, 11.40s/file]"
     ]
    },
    {
     "name": "stdout",
     "output_type": "stream",
     "text": [
      "Processed file: UNL-UM_UO P160.tsv\n"
     ]
    },
    {
     "name": "stderr",
     "output_type": "stream",
     "text": [
      "Processing files:  42%|\u001b[32m████▏     \u001b[0m| 20/48 [02:32<05:30, 11.80s/file]"
     ]
    },
    {
     "name": "stdout",
     "output_type": "stream",
     "text": [
      "Processed file: UNL-UM_UO P170.tsv\n"
     ]
    },
    {
     "name": "stderr",
     "output_type": "stream",
     "text": [
      "Processing files:  44%|\u001b[32m████▍     \u001b[0m| 21/48 [02:46<05:35, 12.43s/file]"
     ]
    },
    {
     "name": "stdout",
     "output_type": "stream",
     "text": [
      "Processed file: UNL-UM_UO P174.tsv\n"
     ]
    },
    {
     "name": "stderr",
     "output_type": "stream",
     "text": [
      "Processing files:  46%|\u001b[32m████▌     \u001b[0m| 22/48 [02:59<05:29, 12.68s/file]"
     ]
    },
    {
     "name": "stdout",
     "output_type": "stream",
     "text": [
      "Processed file: UNL-UM_UO P181.tsv\n"
     ]
    },
    {
     "name": "stderr",
     "output_type": "stream",
     "text": [
      "Processing files:  48%|\u001b[32m████▊     \u001b[0m| 23/48 [03:13<05:27, 13.09s/file]"
     ]
    },
    {
     "name": "stdout",
     "output_type": "stream",
     "text": [
      "Processed file: UNL-UM_UO P183.tsv\n"
     ]
    },
    {
     "name": "stderr",
     "output_type": "stream",
     "text": [
      "Processing files:  50%|\u001b[32m█████     \u001b[0m| 24/48 [03:28<05:31, 13.81s/file]"
     ]
    },
    {
     "name": "stdout",
     "output_type": "stream",
     "text": [
      "Processed file: UNL-UM_UO P192.tsv\n"
     ]
    },
    {
     "name": "stderr",
     "output_type": "stream",
     "text": [
      "Processing files:  52%|\u001b[32m█████▏    \u001b[0m| 25/48 [03:43<05:24, 14.10s/file]"
     ]
    },
    {
     "name": "stdout",
     "output_type": "stream",
     "text": [
      "Processed file: UNL-UM_UO P194.tsv\n"
     ]
    },
    {
     "name": "stderr",
     "output_type": "stream",
     "text": [
      "Processing files:  54%|\u001b[32m█████▍    \u001b[0m| 26/48 [04:00<05:25, 14.78s/file]"
     ]
    },
    {
     "name": "stdout",
     "output_type": "stream",
     "text": [
      "Processed file: UNL-UM_UO P195.tsv\n"
     ]
    },
    {
     "name": "stderr",
     "output_type": "stream",
     "text": [
      "Processing files:  56%|\u001b[32m█████▋    \u001b[0m| 27/48 [04:16<05:21, 15.33s/file]"
     ]
    },
    {
     "name": "stdout",
     "output_type": "stream",
     "text": [
      "Processed file: UNL-UM_UO P196.tsv\n"
     ]
    },
    {
     "name": "stderr",
     "output_type": "stream",
     "text": [
      "Processing files:  58%|\u001b[32m█████▊    \u001b[0m| 28/48 [04:32<05:10, 15.53s/file]"
     ]
    },
    {
     "name": "stdout",
     "output_type": "stream",
     "text": [
      "Processed file: UNL-UM_UO P198.tsv\n"
     ]
    },
    {
     "name": "stderr",
     "output_type": "stream",
     "text": [
      "Processing files:  60%|\u001b[32m██████    \u001b[0m| 29/48 [04:49<05:00, 15.83s/file]"
     ]
    },
    {
     "name": "stdout",
     "output_type": "stream",
     "text": [
      "Processed file: UNL-UM_UO P202.tsv\n"
     ]
    },
    {
     "name": "stderr",
     "output_type": "stream",
     "text": [
      "Processing files:  62%|\u001b[32m██████▎   \u001b[0m| 30/48 [05:06<04:53, 16.28s/file]"
     ]
    },
    {
     "name": "stdout",
     "output_type": "stream",
     "text": [
      "Processed file: UNL-UM_UO P220.tsv\n"
     ]
    },
    {
     "name": "stderr",
     "output_type": "stream",
     "text": [
      "Processing files:  65%|\u001b[32m██████▍   \u001b[0m| 31/48 [05:24<04:44, 16.73s/file]"
     ]
    },
    {
     "name": "stdout",
     "output_type": "stream",
     "text": [
      "Processed file: UNL-UM_UO P223.tsv\n"
     ]
    },
    {
     "name": "stderr",
     "output_type": "stream",
     "text": [
      "Processing files:  67%|\u001b[32m██████▋   \u001b[0m| 32/48 [05:42<04:33, 17.10s/file]"
     ]
    },
    {
     "name": "stdout",
     "output_type": "stream",
     "text": [
      "Processed file: UNL-UM_UO P224.tsv\n"
     ]
    },
    {
     "name": "stderr",
     "output_type": "stream",
     "text": [
      "Processing files:  69%|\u001b[32m██████▉   \u001b[0m| 33/48 [06:00<04:22, 17.49s/file]"
     ]
    },
    {
     "name": "stdout",
     "output_type": "stream",
     "text": [
      "Processed file: UNL-UM_UO P225.tsv\n"
     ]
    },
    {
     "name": "stderr",
     "output_type": "stream",
     "text": [
      "Processing files:  71%|\u001b[32m███████   \u001b[0m| 34/48 [06:20<04:15, 18.22s/file]"
     ]
    },
    {
     "name": "stdout",
     "output_type": "stream",
     "text": [
      "Processed file: UNL-UM_UO P231.tsv\n"
     ]
    },
    {
     "name": "stderr",
     "output_type": "stream",
     "text": [
      "Processing files:  73%|\u001b[32m███████▎  \u001b[0m| 35/48 [06:40<04:01, 18.58s/file]"
     ]
    },
    {
     "name": "stdout",
     "output_type": "stream",
     "text": [
      "Processed file: UNL-UM_UO P243.tsv\n"
     ]
    },
    {
     "name": "stderr",
     "output_type": "stream",
     "text": [
      "Processing files:  75%|\u001b[32m███████▌  \u001b[0m| 36/48 [07:00<03:50, 19.19s/file]"
     ]
    },
    {
     "name": "stdout",
     "output_type": "stream",
     "text": [
      "Processed file: UNL-UM_UO P246.tsv\n"
     ]
    },
    {
     "name": "stderr",
     "output_type": "stream",
     "text": [
      "Processing files:  77%|\u001b[32m███████▋  \u001b[0m| 37/48 [07:21<03:35, 19.63s/file]"
     ]
    },
    {
     "name": "stdout",
     "output_type": "stream",
     "text": [
      "Processed file: UNL-UM_UO P247.tsv\n"
     ]
    },
    {
     "name": "stderr",
     "output_type": "stream",
     "text": [
      "Processing files:  79%|\u001b[32m███████▉  \u001b[0m| 38/48 [07:43<03:24, 20.49s/file]"
     ]
    },
    {
     "name": "stdout",
     "output_type": "stream",
     "text": [
      "Processed file: UNL-UM_UO P248.tsv\n"
     ]
    },
    {
     "name": "stderr",
     "output_type": "stream",
     "text": [
      "Processing files:  81%|\u001b[32m████████▏ \u001b[0m| 39/48 [08:07<03:12, 21.37s/file]"
     ]
    },
    {
     "name": "stdout",
     "output_type": "stream",
     "text": [
      "Processed file: UNL-UM_UO P250.tsv\n"
     ]
    },
    {
     "name": "stderr",
     "output_type": "stream",
     "text": [
      "Processing files:  83%|\u001b[32m████████▎ \u001b[0m| 40/48 [08:30<02:55, 21.90s/file]"
     ]
    },
    {
     "name": "stdout",
     "output_type": "stream",
     "text": [
      "Processed file: UNL-UM_UO P252.tsv\n"
     ]
    },
    {
     "name": "stderr",
     "output_type": "stream",
     "text": [
      "Processing files:  85%|\u001b[32m████████▌ \u001b[0m| 41/48 [08:53<02:36, 22.30s/file]"
     ]
    },
    {
     "name": "stdout",
     "output_type": "stream",
     "text": [
      "Processed file: UNL-UM_UO P253.tsv\n"
     ]
    },
    {
     "name": "stderr",
     "output_type": "stream",
     "text": [
      "Processing files:  88%|\u001b[32m████████▊ \u001b[0m| 42/48 [09:18<02:17, 22.97s/file]"
     ]
    },
    {
     "name": "stdout",
     "output_type": "stream",
     "text": [
      "Processed file: UNL-UM_UO P254.tsv\n"
     ]
    },
    {
     "name": "stderr",
     "output_type": "stream",
     "text": [
      "Processing files:  90%|\u001b[32m████████▉ \u001b[0m| 43/48 [09:42<01:56, 23.32s/file]"
     ]
    },
    {
     "name": "stdout",
     "output_type": "stream",
     "text": [
      "Processed file: UNL-UM_UO P255.tsv\n"
     ]
    },
    {
     "name": "stderr",
     "output_type": "stream",
     "text": [
      "Processing files:  92%|\u001b[32m█████████▏\u001b[0m| 44/48 [10:07<01:35, 23.76s/file]"
     ]
    },
    {
     "name": "stdout",
     "output_type": "stream",
     "text": [
      "Processed file: UNL-UM_UO P256.tsv\n"
     ]
    },
    {
     "name": "stderr",
     "output_type": "stream",
     "text": [
      "Processing files:  94%|\u001b[32m█████████▍\u001b[0m| 45/48 [10:32<01:12, 24.28s/file]"
     ]
    },
    {
     "name": "stdout",
     "output_type": "stream",
     "text": [
      "Processed file: UNL-UM_UO P257.tsv\n"
     ]
    },
    {
     "name": "stderr",
     "output_type": "stream",
     "text": [
      "Processing files:  96%|\u001b[32m█████████▌\u001b[0m| 46/48 [10:58<00:49, 24.91s/file]"
     ]
    },
    {
     "name": "stdout",
     "output_type": "stream",
     "text": [
      "Processed file: UNL-UM_UO P260.tsv\n"
     ]
    },
    {
     "name": "stderr",
     "output_type": "stream",
     "text": [
      "Processing files:  98%|\u001b[32m█████████▊\u001b[0m| 47/48 [11:26<00:25, 25.68s/file]"
     ]
    },
    {
     "name": "stdout",
     "output_type": "stream",
     "text": [
      "Processed file: UNL-UM_UO P262.tsv\n"
     ]
    },
    {
     "name": "stderr",
     "output_type": "stream",
     "text": [
      "Processing files: 100%|\u001b[32m██████████\u001b[0m| 48/48 [11:54<00:00, 14.89s/file]"
     ]
    },
    {
     "name": "stdout",
     "output_type": "stream",
     "text": [
      "Processed file: UNL-UM_UO P266.tsv\n"
     ]
    },
    {
     "name": "stderr",
     "output_type": "stream",
     "text": [
      "\n"
     ]
    }
   ],
   "source": [
    "eye_events, samples = parsers.UNL_UM(sample_size = 50)"
   ]
  },
  {
   "cell_type": "code",
   "execution_count": 27,
   "metadata": {},
   "outputs": [
    {
     "data": {
      "text/html": [
       "<div>\n",
       "<style scoped>\n",
       "    .dataframe tbody tr th:only-of-type {\n",
       "        vertical-align: middle;\n",
       "    }\n",
       "\n",
       "    .dataframe tbody tr th {\n",
       "        vertical-align: top;\n",
       "    }\n",
       "\n",
       "    .dataframe thead th {\n",
       "        text-align: right;\n",
       "    }\n",
       "</style>\n",
       "<table border=\"1\" class=\"dataframe\">\n",
       "  <thead>\n",
       "    <tr style=\"text-align: right;\">\n",
       "      <th></th>\n",
       "      <th>eye_tracker</th>\n",
       "      <th>experiment_id</th>\n",
       "      <th>participant_id</th>\n",
       "      <th>filename</th>\n",
       "      <th>trial_id</th>\n",
       "      <th>stimuli_module</th>\n",
       "      <th>stimuli_name</th>\n",
       "      <th>Recording timestamp</th>\n",
       "      <th>Project name</th>\n",
       "      <th>Export date</th>\n",
       "      <th>...</th>\n",
       "      <th>Presented Media name</th>\n",
       "      <th>Presented Media width</th>\n",
       "      <th>Presented Media height</th>\n",
       "      <th>Presented Media position X (DACSpx)</th>\n",
       "      <th>Presented Media position Y (DACSpx)</th>\n",
       "      <th>Original Media width</th>\n",
       "      <th>Original Media height</th>\n",
       "      <th>Eye movement type</th>\n",
       "      <th>Gaze event duration</th>\n",
       "      <th>Eye movement type index</th>\n",
       "    </tr>\n",
       "  </thead>\n",
       "  <tbody>\n",
       "    <tr>\n",
       "      <th>0</th>\n",
       "      <td>Tobii I-VT (Fixation)</td>\n",
       "      <td>17623623_P103</td>\n",
       "      <td>17623623_P103</td>\n",
       "      <td>UNL-UM_UO P103.tsv</td>\n",
       "      <td>Q5</td>\n",
       "      <td>datasets/UNL_UM24_30July/stimuli</td>\n",
       "      <td>Q5 (localhost).png</td>\n",
       "      <td>237868</td>\n",
       "      <td>UNL-UM_UO</td>\n",
       "      <td>2025/3/7</td>\n",
       "      <td>...</td>\n",
       "      <td>NaN</td>\n",
       "      <td>NaN</td>\n",
       "      <td>NaN</td>\n",
       "      <td>NaN</td>\n",
       "      <td>NaN</td>\n",
       "      <td>NaN</td>\n",
       "      <td>NaN</td>\n",
       "      <td>Fixation</td>\n",
       "      <td>567.0</td>\n",
       "      <td>413.0</td>\n",
       "    </tr>\n",
       "    <tr>\n",
       "      <th>1</th>\n",
       "      <td>Tobii I-VT (Fixation)</td>\n",
       "      <td>17623623_P103</td>\n",
       "      <td>17623623_P103</td>\n",
       "      <td>UNL-UM_UO P103.tsv</td>\n",
       "      <td>Q5</td>\n",
       "      <td>datasets/UNL_UM24_30July/stimuli</td>\n",
       "      <td>Q5 (localhost).png</td>\n",
       "      <td>237875</td>\n",
       "      <td>UNL-UM_UO</td>\n",
       "      <td>2025/3/7</td>\n",
       "      <td>...</td>\n",
       "      <td>ProLabQs Recording40.mp4</td>\n",
       "      <td>1920.0</td>\n",
       "      <td>1080.0</td>\n",
       "      <td>0.0</td>\n",
       "      <td>0.0</td>\n",
       "      <td>1920.0</td>\n",
       "      <td>1080.0</td>\n",
       "      <td>Saccade</td>\n",
       "      <td>42.0</td>\n",
       "      <td>655.0</td>\n",
       "    </tr>\n",
       "    <tr>\n",
       "      <th>2</th>\n",
       "      <td>Tobii I-VT (Fixation)</td>\n",
       "      <td>17623623_P103</td>\n",
       "      <td>17623623_P103</td>\n",
       "      <td>UNL-UM_UO P103.tsv</td>\n",
       "      <td>Q5</td>\n",
       "      <td>datasets/UNL_UM24_30July/stimuli</td>\n",
       "      <td>Q5 (localhost).png</td>\n",
       "      <td>237882</td>\n",
       "      <td>UNL-UM_UO</td>\n",
       "      <td>2025/3/7</td>\n",
       "      <td>...</td>\n",
       "      <td>NaN</td>\n",
       "      <td>NaN</td>\n",
       "      <td>NaN</td>\n",
       "      <td>NaN</td>\n",
       "      <td>NaN</td>\n",
       "      <td>NaN</td>\n",
       "      <td>NaN</td>\n",
       "      <td>Saccade</td>\n",
       "      <td>42.0</td>\n",
       "      <td>655.0</td>\n",
       "    </tr>\n",
       "    <tr>\n",
       "      <th>3</th>\n",
       "      <td>Tobii I-VT (Fixation)</td>\n",
       "      <td>17623623_P103</td>\n",
       "      <td>17623623_P103</td>\n",
       "      <td>UNL-UM_UO P103.tsv</td>\n",
       "      <td>Q5</td>\n",
       "      <td>datasets/UNL_UM24_30July/stimuli</td>\n",
       "      <td>Q5 (localhost).png</td>\n",
       "      <td>237883</td>\n",
       "      <td>UNL-UM_UO</td>\n",
       "      <td>2025/3/7</td>\n",
       "      <td>...</td>\n",
       "      <td>ProLabQs Recording40.mp4</td>\n",
       "      <td>1920.0</td>\n",
       "      <td>1080.0</td>\n",
       "      <td>0.0</td>\n",
       "      <td>0.0</td>\n",
       "      <td>1920.0</td>\n",
       "      <td>1080.0</td>\n",
       "      <td>Saccade</td>\n",
       "      <td>42.0</td>\n",
       "      <td>655.0</td>\n",
       "    </tr>\n",
       "    <tr>\n",
       "      <th>4</th>\n",
       "      <td>Tobii I-VT (Fixation)</td>\n",
       "      <td>17623623_P103</td>\n",
       "      <td>17623623_P103</td>\n",
       "      <td>UNL-UM_UO P103.tsv</td>\n",
       "      <td>Q5</td>\n",
       "      <td>datasets/UNL_UM24_30July/stimuli</td>\n",
       "      <td>Q5 (localhost).png</td>\n",
       "      <td>237891</td>\n",
       "      <td>UNL-UM_UO</td>\n",
       "      <td>2025/3/7</td>\n",
       "      <td>...</td>\n",
       "      <td>ProLabQs Recording40.mp4</td>\n",
       "      <td>1920.0</td>\n",
       "      <td>1080.0</td>\n",
       "      <td>0.0</td>\n",
       "      <td>0.0</td>\n",
       "      <td>1920.0</td>\n",
       "      <td>1080.0</td>\n",
       "      <td>Saccade</td>\n",
       "      <td>42.0</td>\n",
       "      <td>655.0</td>\n",
       "    </tr>\n",
       "  </tbody>\n",
       "</table>\n",
       "<p>5 rows × 79 columns</p>\n",
       "</div>"
      ],
      "text/plain": [
       "             eye_tracker  experiment_id participant_id            filename  \\\n",
       "0  Tobii I-VT (Fixation)  17623623_P103  17623623_P103  UNL-UM_UO P103.tsv   \n",
       "1  Tobii I-VT (Fixation)  17623623_P103  17623623_P103  UNL-UM_UO P103.tsv   \n",
       "2  Tobii I-VT (Fixation)  17623623_P103  17623623_P103  UNL-UM_UO P103.tsv   \n",
       "3  Tobii I-VT (Fixation)  17623623_P103  17623623_P103  UNL-UM_UO P103.tsv   \n",
       "4  Tobii I-VT (Fixation)  17623623_P103  17623623_P103  UNL-UM_UO P103.tsv   \n",
       "\n",
       "  trial_id                    stimuli_module        stimuli_name  \\\n",
       "0       Q5  datasets/UNL_UM24_30July/stimuli  Q5 (localhost).png   \n",
       "1       Q5  datasets/UNL_UM24_30July/stimuli  Q5 (localhost).png   \n",
       "2       Q5  datasets/UNL_UM24_30July/stimuli  Q5 (localhost).png   \n",
       "3       Q5  datasets/UNL_UM24_30July/stimuli  Q5 (localhost).png   \n",
       "4       Q5  datasets/UNL_UM24_30July/stimuli  Q5 (localhost).png   \n",
       "\n",
       "   Recording timestamp Project name Export date  ...  \\\n",
       "0               237868    UNL-UM_UO    2025/3/7  ...   \n",
       "1               237875    UNL-UM_UO    2025/3/7  ...   \n",
       "2               237882    UNL-UM_UO    2025/3/7  ...   \n",
       "3               237883    UNL-UM_UO    2025/3/7  ...   \n",
       "4               237891    UNL-UM_UO    2025/3/7  ...   \n",
       "\n",
       "       Presented Media name  Presented Media width Presented Media height  \\\n",
       "0                       NaN                    NaN                    NaN   \n",
       "1  ProLabQs Recording40.mp4                 1920.0                 1080.0   \n",
       "2                       NaN                    NaN                    NaN   \n",
       "3  ProLabQs Recording40.mp4                 1920.0                 1080.0   \n",
       "4  ProLabQs Recording40.mp4                 1920.0                 1080.0   \n",
       "\n",
       "  Presented Media position X (DACSpx) Presented Media position Y (DACSpx)  \\\n",
       "0                                 NaN                                 NaN   \n",
       "1                                 0.0                                 0.0   \n",
       "2                                 NaN                                 NaN   \n",
       "3                                 0.0                                 0.0   \n",
       "4                                 0.0                                 0.0   \n",
       "\n",
       "  Original Media width Original Media height  Eye movement type  \\\n",
       "0                  NaN                   NaN           Fixation   \n",
       "1               1920.0                1080.0            Saccade   \n",
       "2                  NaN                   NaN            Saccade   \n",
       "3               1920.0                1080.0            Saccade   \n",
       "4               1920.0                1080.0            Saccade   \n",
       "\n",
       "  Gaze event duration Eye movement type index  \n",
       "0               567.0                   413.0  \n",
       "1                42.0                   655.0  \n",
       "2                42.0                   655.0  \n",
       "3                42.0                   655.0  \n",
       "4                42.0                   655.0  \n",
       "\n",
       "[5 rows x 79 columns]"
      ]
     },
     "execution_count": 27,
     "metadata": {},
     "output_type": "execute_result"
    }
   ],
   "source": [
    "samples.head()"
   ]
  },
  {
   "cell_type": "code",
   "execution_count": 28,
   "metadata": {},
   "outputs": [
    {
     "data": {
      "text/html": [
       "<div>\n",
       "<style scoped>\n",
       "    .dataframe tbody tr th:only-of-type {\n",
       "        vertical-align: middle;\n",
       "    }\n",
       "\n",
       "    .dataframe tbody tr th {\n",
       "        vertical-align: top;\n",
       "    }\n",
       "\n",
       "    .dataframe thead th {\n",
       "        text-align: right;\n",
       "    }\n",
       "</style>\n",
       "<table border=\"1\" class=\"dataframe\">\n",
       "  <thead>\n",
       "    <tr style=\"text-align: right;\">\n",
       "      <th></th>\n",
       "      <th>eye_tracker</th>\n",
       "      <th>experiment_id</th>\n",
       "      <th>participant_id</th>\n",
       "      <th>filename</th>\n",
       "      <th>trial_id</th>\n",
       "      <th>stimuli_module</th>\n",
       "      <th>stimuli_name</th>\n",
       "      <th>timestamp</th>\n",
       "      <th>duration</th>\n",
       "      <th>x0</th>\n",
       "      <th>y0</th>\n",
       "      <th>x1</th>\n",
       "      <th>y1</th>\n",
       "      <th>token</th>\n",
       "      <th>pupil_l</th>\n",
       "      <th>pupil_r</th>\n",
       "      <th>amplitude</th>\n",
       "      <th>peak_velocity</th>\n",
       "      <th>eye_event_type</th>\n",
       "    </tr>\n",
       "  </thead>\n",
       "  <tbody>\n",
       "    <tr>\n",
       "      <th>0</th>\n",
       "      <td>Tobii I-VT (Fixation)</td>\n",
       "      <td>17623623_P103</td>\n",
       "      <td>17623623_P103</td>\n",
       "      <td>UNL-UM_UO P103.tsv</td>\n",
       "      <td>Q5</td>\n",
       "      <td>datasets/UNL_UM24_30July/stimuli</td>\n",
       "      <td>Q5 (localhost).png</td>\n",
       "      <td>237868</td>\n",
       "      <td>567.0</td>\n",
       "      <td>718.0</td>\n",
       "      <td>346.0</td>\n",
       "      <td>NaN</td>\n",
       "      <td>NaN</td>\n",
       "      <td>None</td>\n",
       "      <td>NaN</td>\n",
       "      <td>NaN</td>\n",
       "      <td>NaN</td>\n",
       "      <td>NaN</td>\n",
       "      <td>fixation</td>\n",
       "    </tr>\n",
       "    <tr>\n",
       "      <th>1</th>\n",
       "      <td>Tobii I-VT (Fixation)</td>\n",
       "      <td>17623623_P103</td>\n",
       "      <td>17623623_P103</td>\n",
       "      <td>UNL-UM_UO P103.tsv</td>\n",
       "      <td>Q5</td>\n",
       "      <td>datasets/UNL_UM24_30July/stimuli</td>\n",
       "      <td>Q5 (localhost).png</td>\n",
       "      <td>237916</td>\n",
       "      <td>192.0</td>\n",
       "      <td>543.0</td>\n",
       "      <td>342.0</td>\n",
       "      <td>NaN</td>\n",
       "      <td>NaN</td>\n",
       "      <td>None</td>\n",
       "      <td>3.494</td>\n",
       "      <td>3.425</td>\n",
       "      <td>NaN</td>\n",
       "      <td>NaN</td>\n",
       "      <td>fixation</td>\n",
       "    </tr>\n",
       "    <tr>\n",
       "      <th>2</th>\n",
       "      <td>Tobii I-VT (Fixation)</td>\n",
       "      <td>17623623_P103</td>\n",
       "      <td>17623623_P103</td>\n",
       "      <td>UNL-UM_UO P103.tsv</td>\n",
       "      <td>Q5</td>\n",
       "      <td>datasets/UNL_UM24_30July/stimuli</td>\n",
       "      <td>Q5 (localhost).png</td>\n",
       "      <td>237925</td>\n",
       "      <td>192.0</td>\n",
       "      <td>543.0</td>\n",
       "      <td>342.0</td>\n",
       "      <td>NaN</td>\n",
       "      <td>NaN</td>\n",
       "      <td>None</td>\n",
       "      <td>3.491</td>\n",
       "      <td>3.422</td>\n",
       "      <td>NaN</td>\n",
       "      <td>NaN</td>\n",
       "      <td>fixation</td>\n",
       "    </tr>\n",
       "    <tr>\n",
       "      <th>3</th>\n",
       "      <td>Tobii I-VT (Fixation)</td>\n",
       "      <td>17623623_P103</td>\n",
       "      <td>17623623_P103</td>\n",
       "      <td>UNL-UM_UO P103.tsv</td>\n",
       "      <td>Q5</td>\n",
       "      <td>datasets/UNL_UM24_30July/stimuli</td>\n",
       "      <td>Q5 (localhost).png</td>\n",
       "      <td>237933</td>\n",
       "      <td>192.0</td>\n",
       "      <td>543.0</td>\n",
       "      <td>342.0</td>\n",
       "      <td>NaN</td>\n",
       "      <td>NaN</td>\n",
       "      <td>None</td>\n",
       "      <td>3.489</td>\n",
       "      <td>3.419</td>\n",
       "      <td>NaN</td>\n",
       "      <td>NaN</td>\n",
       "      <td>fixation</td>\n",
       "    </tr>\n",
       "    <tr>\n",
       "      <th>4</th>\n",
       "      <td>Tobii I-VT (Fixation)</td>\n",
       "      <td>17623623_P103</td>\n",
       "      <td>17623623_P103</td>\n",
       "      <td>UNL-UM_UO P103.tsv</td>\n",
       "      <td>Q5</td>\n",
       "      <td>datasets/UNL_UM24_30July/stimuli</td>\n",
       "      <td>Q5 (localhost).png</td>\n",
       "      <td>237941</td>\n",
       "      <td>192.0</td>\n",
       "      <td>543.0</td>\n",
       "      <td>342.0</td>\n",
       "      <td>NaN</td>\n",
       "      <td>NaN</td>\n",
       "      <td>None</td>\n",
       "      <td>3.485</td>\n",
       "      <td>3.421</td>\n",
       "      <td>NaN</td>\n",
       "      <td>NaN</td>\n",
       "      <td>fixation</td>\n",
       "    </tr>\n",
       "  </tbody>\n",
       "</table>\n",
       "</div>"
      ],
      "text/plain": [
       "             eye_tracker  experiment_id participant_id            filename  \\\n",
       "0  Tobii I-VT (Fixation)  17623623_P103  17623623_P103  UNL-UM_UO P103.tsv   \n",
       "1  Tobii I-VT (Fixation)  17623623_P103  17623623_P103  UNL-UM_UO P103.tsv   \n",
       "2  Tobii I-VT (Fixation)  17623623_P103  17623623_P103  UNL-UM_UO P103.tsv   \n",
       "3  Tobii I-VT (Fixation)  17623623_P103  17623623_P103  UNL-UM_UO P103.tsv   \n",
       "4  Tobii I-VT (Fixation)  17623623_P103  17623623_P103  UNL-UM_UO P103.tsv   \n",
       "\n",
       "  trial_id                    stimuli_module        stimuli_name  timestamp  \\\n",
       "0       Q5  datasets/UNL_UM24_30July/stimuli  Q5 (localhost).png     237868   \n",
       "1       Q5  datasets/UNL_UM24_30July/stimuli  Q5 (localhost).png     237916   \n",
       "2       Q5  datasets/UNL_UM24_30July/stimuli  Q5 (localhost).png     237925   \n",
       "3       Q5  datasets/UNL_UM24_30July/stimuli  Q5 (localhost).png     237933   \n",
       "4       Q5  datasets/UNL_UM24_30July/stimuli  Q5 (localhost).png     237941   \n",
       "\n",
       "   duration     x0     y0  x1  y1 token  pupil_l  pupil_r  amplitude  \\\n",
       "0     567.0  718.0  346.0 NaN NaN  None      NaN      NaN        NaN   \n",
       "1     192.0  543.0  342.0 NaN NaN  None    3.494    3.425        NaN   \n",
       "2     192.0  543.0  342.0 NaN NaN  None    3.491    3.422        NaN   \n",
       "3     192.0  543.0  342.0 NaN NaN  None    3.489    3.419        NaN   \n",
       "4     192.0  543.0  342.0 NaN NaN  None    3.485    3.421        NaN   \n",
       "\n",
       "   peak_velocity eye_event_type  \n",
       "0            NaN       fixation  \n",
       "1            NaN       fixation  \n",
       "2            NaN       fixation  \n",
       "3            NaN       fixation  \n",
       "4            NaN       fixation  "
      ]
     },
     "execution_count": 28,
     "metadata": {},
     "output_type": "execute_result"
    }
   ],
   "source": [
    "eye_events.head()"
   ]
  },
  {
   "cell_type": "code",
   "execution_count": 29,
   "metadata": {},
   "outputs": [
    {
     "data": {
      "text/plain": [
       "array(['17623623_P103', '75894071_P105', '73142188_P107', '95297148_P113',\n",
       "       '26355477_P124', '28464710_P127', '7792871_P132', '50508067_P135',\n",
       "       '98138536_P139', '67006224_P140', '57466117_P142', '48914592_P143',\n",
       "       '50725150_P147', '87467712_P149', '19942717_P152', '53504980_P154',\n",
       "       '68288415_P155', '8953417_P157', '93748365_P160', '35630584_P170',\n",
       "       '25899018_P174', '14117440_P181', '71261375_P183', '66742041_P192',\n",
       "       '67744331_P194', '31424792_P195', '45622102_P196', '6103787_P198',\n",
       "       '37714676_P202', '56897660_P220', '61922052_P223', '92561849_P224',\n",
       "       '87020395_P225', '86625353_P231', '67020883_P243', '65560620_P246',\n",
       "       '17281517_P247', '15631446_P248', '67306020_P250', '22713769_P252',\n",
       "       '15120427_P253', '79664715_P254', '37314099_P255', '52450561_P256',\n",
       "       '78499485_P257', '19050980_P260', '2128416_P262', '82886310_P266'],\n",
       "      dtype=object)"
      ]
     },
     "execution_count": 29,
     "metadata": {},
     "output_type": "execute_result"
    }
   ],
   "source": [
    "unique_experiment_ids_samples = samples['experiment_id'].unique()\n",
    "unique_experiment_ids_samples"
   ]
  },
  {
   "cell_type": "code",
   "execution_count": 30,
   "metadata": {},
   "outputs": [
    {
     "data": {
      "text/plain": [
       "array(['17623623_P103', '75894071_P105', '73142188_P107', '95297148_P113',\n",
       "       '26355477_P124', '28464710_P127', '7792871_P132', '50508067_P135',\n",
       "       '98138536_P139', '67006224_P140', '57466117_P142', '48914592_P143',\n",
       "       '50725150_P147', '87467712_P149', '19942717_P152', '53504980_P154',\n",
       "       '68288415_P155', '8953417_P157', '93748365_P160', '35630584_P170',\n",
       "       '25899018_P174', '14117440_P181', '71261375_P183', '66742041_P192',\n",
       "       '67744331_P194', '31424792_P195', '45622102_P196', '6103787_P198',\n",
       "       '37714676_P202', '56897660_P220', '61922052_P223', '92561849_P224',\n",
       "       '87020395_P225', '86625353_P231', '67020883_P243', '65560620_P246',\n",
       "       '17281517_P247', '15631446_P248', '67306020_P250', '22713769_P252',\n",
       "       '15120427_P253', '79664715_P254', '37314099_P255', '52450561_P256',\n",
       "       '78499485_P257', '19050980_P260', '2128416_P262', '82886310_P266'],\n",
       "      dtype=object)"
      ]
     },
     "execution_count": 30,
     "metadata": {},
     "output_type": "execute_result"
    }
   ],
   "source": [
    "unique_experiment_ids_eye_events = eye_events[\"experiment_id\"].unique()\n",
    "unique_experiment_ids_eye_events            "
   ]
  },
  {
   "cell_type": "markdown",
   "metadata": {},
   "source": [
    "# AOI Detector"
   ]
  },
  {
   "cell_type": "code",
   "execution_count": 85,
   "metadata": {},
   "outputs": [],
   "source": [
    "dir = \"datasets/UNL_UM24_30July/stimuli/\"\n",
    "trial_id = 'Q5'"
   ]
  },
  {
   "cell_type": "code",
   "execution_count": 86,
   "metadata": {},
   "outputs": [],
   "source": [
    "image_path = dir + trial_id + \" (localhost).png\""
   ]
  },
  {
   "cell_type": "code",
   "execution_count": 88,
   "metadata": {},
   "outputs": [
    {
     "data": {
      "image/png": "[encoded data removed]",
      "text/plain": [
       "<Figure size 1200x1200 with 1 Axes>"
      ]
     },
     "metadata": {},
     "output_type": "display_data"
    },
    {
     "name": "stdout",
     "output_type": "stream",
     "text": [
      "         kind            name trial_id     x    y  width  height  \\\n",
      "0    sub-line   line 2 part 1       Q5   118   62     23      19   \n",
      "1    sub-line   line 2 part 2       Q5   148   62     88      16   \n",
      "2    sub-line   line 2 part 3       Q5   244   62     41      16   \n",
      "3    sub-line   line 2 part 4       Q5   293   62     63      16   \n",
      "4    sub-line   line 2 part 5       Q5   363   62    113      16   \n",
      "..        ...             ...      ...   ...  ...    ...     ...   \n",
      "144  sub-line  line 22 part 7       Q5   748  750    119      16   \n",
      "145  sub-line  line 23 part 1       Q5   239  838    153      13   \n",
      "146  sub-line  line 23 part 2       Q5  1109  838     81      17   \n",
      "147  sub-line  line 24 part 1       Q5   239  890    153      22   \n",
      "148  sub-line  line 24 part 2       Q5  1109  892     81      18   \n",
      "\n",
      "             token                                              image  \n",
      "0               Q:  datasets/UNL_UM24_30July/stimuli/Q5 (localhost...  \n",
      "1           CHOOSE  datasets/UNL_UM24_30July/stimuli/Q5 (localhost...  \n",
      "2              THE  datasets/UNL_UM24_30July/stimuli/Q5 (localhost...  \n",
      "3             MOST  datasets/UNL_UM24_30July/stimuli/Q5 (localhost...  \n",
      "4         ACCURATE  datasets/UNL_UM24_30July/stimuli/Q5 (localhost...  \n",
      "..             ...                                                ...  \n",
      "144    number\\n\");  datasets/UNL_UM24_30July/stimuli/Q5 (localhost...  \n",
      "145  sum%factorial  datasets/UNL_UM24_30July/stimuli/Q5 (localhost...  \n",
      "146        temp%10  datasets/UNL_UM24_30July/stimuli/Q5 (localhost...  \n",
      "147  sum/factorial  datasets/UNL_UM24_30July/stimuli/Q5 (localhost...  \n",
      "148        temp/10  datasets/UNL_UM24_30July/stimuli/Q5 (localhost...  \n",
      "\n",
      "[149 rows x 9 columns]\n"
     ]
    }
   ],
   "source": [
    "# Example Usage\n",
    "# Run OCR detection with debugging enabled\n",
    "aoi_result_df =aoi.aoi_detector(image_path, \n",
    "                                scale_factor=2, debug=True, \n",
    "                                use_preprocessing=False, min_confidence=5,\n",
    "                                psm=1, oem=3)\n",
    "# Display detected text results\n",
    "print(aoi_result_df)"
   ]
  },
  {
   "cell_type": "markdown",
   "metadata": {},
   "source": [
    "# Save aoi tokens structure"
   ]
  },
  {
   "cell_type": "code",
   "execution_count": 47,
   "metadata": {},
   "outputs": [],
   "source": [
    "# file path\n",
    "file_path = \"output/unl_um-30July/aoi_tokens_structure/\""
   ]
  },
  {
   "cell_type": "code",
   "execution_count": 48,
   "metadata": {},
   "outputs": [
    {
     "name": "stderr",
     "output_type": "stream",
     "text": [
      "Saving AOI tokens structure: 100%|\u001b[32m██████████\u001b[0m| 149/149 [00:00<00:00, 74523.17it/s]"
     ]
    },
    {
     "name": "stdout",
     "output_type": "stream",
     "text": [
      "Completed! AOI tokens saved to ./output/unl_um-30July/aoi_tokens_structure//aoi_Q5_tokens_structrue.csv\n"
     ]
    },
    {
     "name": "stderr",
     "output_type": "stream",
     "text": [
      "\n"
     ]
    }
   ],
   "source": [
    "aoi.aoi_save_tokens_structure(aoi_result_df, file_path)"
   ]
  },
  {
   "cell_type": "markdown",
   "metadata": {},
   "source": [
    "# Maching aoi to trial_data"
   ]
  },
  {
   "cell_type": "markdown",
   "metadata": {},
   "source": [
    "### for individual partcipant"
   ]
  },
  {
   "cell_type": "code",
   "execution_count": 214,
   "metadata": {},
   "outputs": [
    {
     "data": {
      "text/plain": [
       "'output/unl_um/aoi_tokens_structure/aoi_Q1_tokens_structrue.csv'"
      ]
     },
     "execution_count": 214,
     "metadata": {},
     "output_type": "execute_result"
    }
   ],
   "source": [
    "experiment_id = '31424792_P195'\n",
    "trial_id = 'Q1'\n",
    "aoi_file_path = f\"output/unl_um/aoi_tokens_structure/aoi_{trial_id}_tokens_structrue.csv\"\n",
    "aoi_file_path"
   ]
  },
  {
   "cell_type": "code",
   "execution_count": 215,
   "metadata": {},
   "outputs": [
    {
     "data": {
      "text/html": [
       "<div>\n",
       "<style scoped>\n",
       "    .dataframe tbody tr th:only-of-type {\n",
       "        vertical-align: middle;\n",
       "    }\n",
       "\n",
       "    .dataframe tbody tr th {\n",
       "        vertical-align: top;\n",
       "    }\n",
       "\n",
       "    .dataframe thead th {\n",
       "        text-align: right;\n",
       "    }\n",
       "</style>\n",
       "<table border=\"1\" class=\"dataframe\">\n",
       "  <thead>\n",
       "    <tr style=\"text-align: right;\">\n",
       "      <th></th>\n",
       "      <th>eye_tracker</th>\n",
       "      <th>experiment_id</th>\n",
       "      <th>participant_id</th>\n",
       "      <th>filename</th>\n",
       "      <th>trial_id</th>\n",
       "      <th>stimuli_module</th>\n",
       "      <th>stimuli_name</th>\n",
       "      <th>timestamp</th>\n",
       "      <th>duration</th>\n",
       "      <th>x0</th>\n",
       "      <th>y0</th>\n",
       "      <th>x1</th>\n",
       "      <th>y1</th>\n",
       "      <th>token</th>\n",
       "      <th>pupil_l</th>\n",
       "      <th>pupil_r</th>\n",
       "      <th>amplitude</th>\n",
       "      <th>peak_velocity</th>\n",
       "      <th>eye_event_type</th>\n",
       "    </tr>\n",
       "  </thead>\n",
       "  <tbody>\n",
       "    <tr>\n",
       "      <th>64258</th>\n",
       "      <td>Tobii I-VT (Fixation)</td>\n",
       "      <td>31424792_P195</td>\n",
       "      <td>31424792_P195</td>\n",
       "      <td>UNL-UM_UO Recording10.tsv</td>\n",
       "      <td>Q1</td>\n",
       "      <td>datasets/UNL_UM24/stimuli</td>\n",
       "      <td>Q1 (localhost).png</td>\n",
       "      <td>1238696288</td>\n",
       "      <td>258.0</td>\n",
       "      <td>955.0</td>\n",
       "      <td>505.0</td>\n",
       "      <td>NaN</td>\n",
       "      <td>NaN</td>\n",
       "      <td>None</td>\n",
       "      <td>NaN</td>\n",
       "      <td>NaN</td>\n",
       "      <td>NaN</td>\n",
       "      <td>NaN</td>\n",
       "      <td>fixation</td>\n",
       "    </tr>\n",
       "    <tr>\n",
       "      <th>64259</th>\n",
       "      <td>Tobii I-VT (Fixation)</td>\n",
       "      <td>31424792_P195</td>\n",
       "      <td>31424792_P195</td>\n",
       "      <td>UNL-UM_UO Recording10.tsv</td>\n",
       "      <td>Q1</td>\n",
       "      <td>datasets/UNL_UM24/stimuli</td>\n",
       "      <td>Q1 (localhost).png</td>\n",
       "      <td>1238701653</td>\n",
       "      <td>258.0</td>\n",
       "      <td>955.0</td>\n",
       "      <td>505.0</td>\n",
       "      <td>NaN</td>\n",
       "      <td>NaN</td>\n",
       "      <td>None</td>\n",
       "      <td>2.968</td>\n",
       "      <td>3.022</td>\n",
       "      <td>NaN</td>\n",
       "      <td>NaN</td>\n",
       "      <td>fixation</td>\n",
       "    </tr>\n",
       "    <tr>\n",
       "      <th>64260</th>\n",
       "      <td>Tobii I-VT (Fixation)</td>\n",
       "      <td>31424792_P195</td>\n",
       "      <td>31424792_P195</td>\n",
       "      <td>UNL-UM_UO Recording10.tsv</td>\n",
       "      <td>Q1</td>\n",
       "      <td>datasets/UNL_UM24/stimuli</td>\n",
       "      <td>Q1 (localhost).png</td>\n",
       "      <td>1238709987</td>\n",
       "      <td>258.0</td>\n",
       "      <td>955.0</td>\n",
       "      <td>505.0</td>\n",
       "      <td>NaN</td>\n",
       "      <td>NaN</td>\n",
       "      <td>None</td>\n",
       "      <td>2.967</td>\n",
       "      <td>3.034</td>\n",
       "      <td>NaN</td>\n",
       "      <td>NaN</td>\n",
       "      <td>fixation</td>\n",
       "    </tr>\n",
       "    <tr>\n",
       "      <th>64261</th>\n",
       "      <td>Tobii I-VT (Fixation)</td>\n",
       "      <td>31424792_P195</td>\n",
       "      <td>31424792_P195</td>\n",
       "      <td>UNL-UM_UO Recording10.tsv</td>\n",
       "      <td>Q1</td>\n",
       "      <td>datasets/UNL_UM24/stimuli</td>\n",
       "      <td>Q1 (localhost).png</td>\n",
       "      <td>1238710363</td>\n",
       "      <td>258.0</td>\n",
       "      <td>955.0</td>\n",
       "      <td>505.0</td>\n",
       "      <td>NaN</td>\n",
       "      <td>NaN</td>\n",
       "      <td>None</td>\n",
       "      <td>NaN</td>\n",
       "      <td>NaN</td>\n",
       "      <td>NaN</td>\n",
       "      <td>NaN</td>\n",
       "      <td>fixation</td>\n",
       "    </tr>\n",
       "    <tr>\n",
       "      <th>64262</th>\n",
       "      <td>Tobii I-VT (Fixation)</td>\n",
       "      <td>31424792_P195</td>\n",
       "      <td>31424792_P195</td>\n",
       "      <td>UNL-UM_UO Recording10.tsv</td>\n",
       "      <td>Q1</td>\n",
       "      <td>datasets/UNL_UM24/stimuli</td>\n",
       "      <td>Q1 (localhost).png</td>\n",
       "      <td>1238718320</td>\n",
       "      <td>258.0</td>\n",
       "      <td>955.0</td>\n",
       "      <td>505.0</td>\n",
       "      <td>NaN</td>\n",
       "      <td>NaN</td>\n",
       "      <td>None</td>\n",
       "      <td>2.971</td>\n",
       "      <td>3.019</td>\n",
       "      <td>NaN</td>\n",
       "      <td>NaN</td>\n",
       "      <td>fixation</td>\n",
       "    </tr>\n",
       "  </tbody>\n",
       "</table>\n",
       "</div>"
      ],
      "text/plain": [
       "                 eye_tracker  experiment_id participant_id  \\\n",
       "64258  Tobii I-VT (Fixation)  31424792_P195  31424792_P195   \n",
       "64259  Tobii I-VT (Fixation)  31424792_P195  31424792_P195   \n",
       "64260  Tobii I-VT (Fixation)  31424792_P195  31424792_P195   \n",
       "64261  Tobii I-VT (Fixation)  31424792_P195  31424792_P195   \n",
       "64262  Tobii I-VT (Fixation)  31424792_P195  31424792_P195   \n",
       "\n",
       "                        filename trial_id             stimuli_module  \\\n",
       "64258  UNL-UM_UO Recording10.tsv       Q1  datasets/UNL_UM24/stimuli   \n",
       "64259  UNL-UM_UO Recording10.tsv       Q1  datasets/UNL_UM24/stimuli   \n",
       "64260  UNL-UM_UO Recording10.tsv       Q1  datasets/UNL_UM24/stimuli   \n",
       "64261  UNL-UM_UO Recording10.tsv       Q1  datasets/UNL_UM24/stimuli   \n",
       "64262  UNL-UM_UO Recording10.tsv       Q1  datasets/UNL_UM24/stimuli   \n",
       "\n",
       "             stimuli_name   timestamp  duration     x0     y0  x1  y1 token  \\\n",
       "64258  Q1 (localhost).png  1238696288     258.0  955.0  505.0 NaN NaN  None   \n",
       "64259  Q1 (localhost).png  1238701653     258.0  955.0  505.0 NaN NaN  None   \n",
       "64260  Q1 (localhost).png  1238709987     258.0  955.0  505.0 NaN NaN  None   \n",
       "64261  Q1 (localhost).png  1238710363     258.0  955.0  505.0 NaN NaN  None   \n",
       "64262  Q1 (localhost).png  1238718320     258.0  955.0  505.0 NaN NaN  None   \n",
       "\n",
       "       pupil_l  pupil_r  amplitude  peak_velocity eye_event_type  \n",
       "64258      NaN      NaN        NaN            NaN       fixation  \n",
       "64259    2.968    3.022        NaN            NaN       fixation  \n",
       "64260    2.967    3.034        NaN            NaN       fixation  \n",
       "64261      NaN      NaN        NaN            NaN       fixation  \n",
       "64262    2.971    3.019        NaN            NaN       fixation  "
      ]
     },
     "execution_count": 215,
     "metadata": {},
     "output_type": "execute_result"
    }
   ],
   "source": [
    "trial_data = eye_events[(eye_events['experiment_id'] == experiment_id) &\n",
    "                        (eye_events['trial_id'] == trial_id)]\n",
    "\n",
    "trial_data.head()"
   ]
  },
  {
   "cell_type": "code",
   "execution_count": null,
   "metadata": {},
   "outputs": [
    {
     "name": "stderr",
     "output_type": "stream",
     "text": [
      "Matching fixations to AOIs: 100%|\u001b[32m██████████\u001b[0m| 13094/13094 [02:55<00:00, 74.60fixation/s]\n"
     ]
    },
    {
     "data": {
      "text/html": [
       "<div>\n",
       "<style scoped>\n",
       "    .dataframe tbody tr th:only-of-type {\n",
       "        vertical-align: middle;\n",
       "    }\n",
       "\n",
       "    .dataframe tbody tr th {\n",
       "        vertical-align: top;\n",
       "    }\n",
       "\n",
       "    .dataframe thead th {\n",
       "        text-align: right;\n",
       "    }\n",
       "</style>\n",
       "<table border=\"1\" class=\"dataframe\">\n",
       "  <thead>\n",
       "    <tr style=\"text-align: right;\">\n",
       "      <th></th>\n",
       "      <th>eye_tracker</th>\n",
       "      <th>experiment_id</th>\n",
       "      <th>participant_id</th>\n",
       "      <th>filename</th>\n",
       "      <th>trial_id</th>\n",
       "      <th>stimuli_module</th>\n",
       "      <th>stimuli_name</th>\n",
       "      <th>timestamp</th>\n",
       "      <th>duration</th>\n",
       "      <th>x0</th>\n",
       "      <th>...</th>\n",
       "      <th>pupil_right</th>\n",
       "      <th>aoi_kind</th>\n",
       "      <th>aoi_name</th>\n",
       "      <th>aoi_token</th>\n",
       "      <th>aoi_x</th>\n",
       "      <th>aoi_y</th>\n",
       "      <th>aoi_width</th>\n",
       "      <th>aoi_height</th>\n",
       "      <th>image</th>\n",
       "      <th>eye_event_type</th>\n",
       "    </tr>\n",
       "  </thead>\n",
       "  <tbody>\n",
       "    <tr>\n",
       "      <th>0</th>\n",
       "      <td>Tobii I-VT (Fixation)</td>\n",
       "      <td>31424792_P195</td>\n",
       "      <td>31424792_P195</td>\n",
       "      <td>UNL-UM_UO Recording10.tsv</td>\n",
       "      <td>Q1</td>\n",
       "      <td>datasets/UNL_UM24/stimuli</td>\n",
       "      <td>Q1 (localhost).png</td>\n",
       "      <td>1240101621</td>\n",
       "      <td>342.0</td>\n",
       "      <td>1161.0</td>\n",
       "      <td>...</td>\n",
       "      <td>2.967</td>\n",
       "      <td>sub-line</td>\n",
       "      <td>line 31 part 11</td>\n",
       "      <td>hello</td>\n",
       "      <td>1137</td>\n",
       "      <td>820</td>\n",
       "      <td>41</td>\n",
       "      <td>14</td>\n",
       "      <td>datasets/UNL_UM24/stimuli/Q1 (localhost).png</td>\n",
       "      <td>fixation</td>\n",
       "    </tr>\n",
       "    <tr>\n",
       "      <th>1</th>\n",
       "      <td>Tobii I-VT (Fixation)</td>\n",
       "      <td>31424792_P195</td>\n",
       "      <td>31424792_P195</td>\n",
       "      <td>UNL-UM_UO Recording10.tsv</td>\n",
       "      <td>Q1</td>\n",
       "      <td>datasets/UNL_UM24/stimuli</td>\n",
       "      <td>Q1 (localhost).png</td>\n",
       "      <td>1240109954</td>\n",
       "      <td>342.0</td>\n",
       "      <td>1161.0</td>\n",
       "      <td>...</td>\n",
       "      <td>2.960</td>\n",
       "      <td>sub-line</td>\n",
       "      <td>line 31 part 11</td>\n",
       "      <td>hello</td>\n",
       "      <td>1137</td>\n",
       "      <td>820</td>\n",
       "      <td>41</td>\n",
       "      <td>14</td>\n",
       "      <td>datasets/UNL_UM24/stimuli/Q1 (localhost).png</td>\n",
       "      <td>fixation</td>\n",
       "    </tr>\n",
       "    <tr>\n",
       "      <th>2</th>\n",
       "      <td>Tobii I-VT (Fixation)</td>\n",
       "      <td>31424792_P195</td>\n",
       "      <td>31424792_P195</td>\n",
       "      <td>UNL-UM_UO Recording10.tsv</td>\n",
       "      <td>Q1</td>\n",
       "      <td>datasets/UNL_UM24/stimuli</td>\n",
       "      <td>Q1 (localhost).png</td>\n",
       "      <td>1240118286</td>\n",
       "      <td>342.0</td>\n",
       "      <td>1161.0</td>\n",
       "      <td>...</td>\n",
       "      <td>2.972</td>\n",
       "      <td>sub-line</td>\n",
       "      <td>line 31 part 11</td>\n",
       "      <td>hello</td>\n",
       "      <td>1137</td>\n",
       "      <td>820</td>\n",
       "      <td>41</td>\n",
       "      <td>14</td>\n",
       "      <td>datasets/UNL_UM24/stimuli/Q1 (localhost).png</td>\n",
       "      <td>fixation</td>\n",
       "    </tr>\n",
       "    <tr>\n",
       "      <th>3</th>\n",
       "      <td>Tobii I-VT (Fixation)</td>\n",
       "      <td>31424792_P195</td>\n",
       "      <td>31424792_P195</td>\n",
       "      <td>UNL-UM_UO Recording10.tsv</td>\n",
       "      <td>Q1</td>\n",
       "      <td>datasets/UNL_UM24/stimuli</td>\n",
       "      <td>Q1 (localhost).png</td>\n",
       "      <td>1240126618</td>\n",
       "      <td>342.0</td>\n",
       "      <td>1161.0</td>\n",
       "      <td>...</td>\n",
       "      <td>2.964</td>\n",
       "      <td>sub-line</td>\n",
       "      <td>line 31 part 11</td>\n",
       "      <td>hello</td>\n",
       "      <td>1137</td>\n",
       "      <td>820</td>\n",
       "      <td>41</td>\n",
       "      <td>14</td>\n",
       "      <td>datasets/UNL_UM24/stimuli/Q1 (localhost).png</td>\n",
       "      <td>fixation</td>\n",
       "    </tr>\n",
       "    <tr>\n",
       "      <th>4</th>\n",
       "      <td>Tobii I-VT (Fixation)</td>\n",
       "      <td>31424792_P195</td>\n",
       "      <td>31424792_P195</td>\n",
       "      <td>UNL-UM_UO Recording10.tsv</td>\n",
       "      <td>Q1</td>\n",
       "      <td>datasets/UNL_UM24/stimuli</td>\n",
       "      <td>Q1 (localhost).png</td>\n",
       "      <td>1240134951</td>\n",
       "      <td>342.0</td>\n",
       "      <td>1161.0</td>\n",
       "      <td>...</td>\n",
       "      <td>2.966</td>\n",
       "      <td>sub-line</td>\n",
       "      <td>line 31 part 11</td>\n",
       "      <td>hello</td>\n",
       "      <td>1137</td>\n",
       "      <td>820</td>\n",
       "      <td>41</td>\n",
       "      <td>14</td>\n",
       "      <td>datasets/UNL_UM24/stimuli/Q1 (localhost).png</td>\n",
       "      <td>fixation</td>\n",
       "    </tr>\n",
       "  </tbody>\n",
       "</table>\n",
       "<p>5 rows × 22 columns</p>\n",
       "</div>"
      ],
      "text/plain": [
       "             eye_tracker  experiment_id participant_id  \\\n",
       "0  Tobii I-VT (Fixation)  31424792_P195  31424792_P195   \n",
       "1  Tobii I-VT (Fixation)  31424792_P195  31424792_P195   \n",
       "2  Tobii I-VT (Fixation)  31424792_P195  31424792_P195   \n",
       "3  Tobii I-VT (Fixation)  31424792_P195  31424792_P195   \n",
       "4  Tobii I-VT (Fixation)  31424792_P195  31424792_P195   \n",
       "\n",
       "                    filename trial_id             stimuli_module  \\\n",
       "0  UNL-UM_UO Recording10.tsv       Q1  datasets/UNL_UM24/stimuli   \n",
       "1  UNL-UM_UO Recording10.tsv       Q1  datasets/UNL_UM24/stimuli   \n",
       "2  UNL-UM_UO Recording10.tsv       Q1  datasets/UNL_UM24/stimuli   \n",
       "3  UNL-UM_UO Recording10.tsv       Q1  datasets/UNL_UM24/stimuli   \n",
       "4  UNL-UM_UO Recording10.tsv       Q1  datasets/UNL_UM24/stimuli   \n",
       "\n",
       "         stimuli_name   timestamp  duration      x0  ...  pupil_right  \\\n",
       "0  Q1 (localhost).png  1240101621     342.0  1161.0  ...        2.967   \n",
       "1  Q1 (localhost).png  1240109954     342.0  1161.0  ...        2.960   \n",
       "2  Q1 (localhost).png  1240118286     342.0  1161.0  ...        2.972   \n",
       "3  Q1 (localhost).png  1240126618     342.0  1161.0  ...        2.964   \n",
       "4  Q1 (localhost).png  1240134951     342.0  1161.0  ...        2.966   \n",
       "\n",
       "   aoi_kind         aoi_name aoi_token aoi_x aoi_y  aoi_width  aoi_height  \\\n",
       "0  sub-line  line 31 part 11     hello  1137   820         41          14   \n",
       "1  sub-line  line 31 part 11     hello  1137   820         41          14   \n",
       "2  sub-line  line 31 part 11     hello  1137   820         41          14   \n",
       "3  sub-line  line 31 part 11     hello  1137   820         41          14   \n",
       "4  sub-line  line 31 part 11     hello  1137   820         41          14   \n",
       "\n",
       "                                          image  eye_event_type  \n",
       "0  datasets/UNL_UM24/stimuli/Q1 (localhost).png        fixation  \n",
       "1  datasets/UNL_UM24/stimuli/Q1 (localhost).png        fixation  \n",
       "2  datasets/UNL_UM24/stimuli/Q1 (localhost).png        fixation  \n",
       "3  datasets/UNL_UM24/stimuli/Q1 (localhost).png        fixation  \n",
       "4  datasets/UNL_UM24/stimuli/Q1 (localhost).png        fixation  \n",
       "\n",
       "[5 rows x 22 columns]"
      ]
     },
     "execution_count": 216,
     "metadata": {},
     "output_type": "execute_result"
    }
   ],
   "source": [
    "aoi_fixations = aoi.aoi_tokens_matcher(aoi_file_path, trial_data, trial_id, redius=25)\n",
    "\n",
    "aoi_fixations.head()\n"
   ]
  },
  {
   "cell_type": "markdown",
   "metadata": {},
   "source": [
    "### save aoi_df"
   ]
  },
  {
   "cell_type": "code",
   "execution_count": 49,
   "metadata": {},
   "outputs": [],
   "source": [
    "file_path = \"output/unl_um-30July\""
   ]
  },
  {
   "cell_type": "markdown",
   "metadata": {},
   "source": [
    "### for task"
   ]
  },
  {
   "cell_type": "code",
   "execution_count": 50,
   "metadata": {},
   "outputs": [
    {
     "data": {
      "text/plain": [
       "'output/unl_um-30July/aoi_tokens_structure/aoi_Q5_tokens_structure.csv'"
      ]
     },
     "execution_count": 50,
     "metadata": {},
     "output_type": "execute_result"
    }
   ],
   "source": [
    "trial_id = 'Q5'\n",
    "aoi_file_path = f\"output/unl_um-30July/aoi_tokens_structure/aoi_{trial_id}_tokens_structure.csv\"\n",
    "aoi_file_path"
   ]
  },
  {
   "cell_type": "code",
   "execution_count": 51,
   "metadata": {},
   "outputs": [
    {
     "data": {
      "text/html": [
       "<div>\n",
       "<style scoped>\n",
       "    .dataframe tbody tr th:only-of-type {\n",
       "        vertical-align: middle;\n",
       "    }\n",
       "\n",
       "    .dataframe tbody tr th {\n",
       "        vertical-align: top;\n",
       "    }\n",
       "\n",
       "    .dataframe thead th {\n",
       "        text-align: right;\n",
       "    }\n",
       "</style>\n",
       "<table border=\"1\" class=\"dataframe\">\n",
       "  <thead>\n",
       "    <tr style=\"text-align: right;\">\n",
       "      <th></th>\n",
       "      <th>eye_tracker</th>\n",
       "      <th>experiment_id</th>\n",
       "      <th>participant_id</th>\n",
       "      <th>filename</th>\n",
       "      <th>trial_id</th>\n",
       "      <th>stimuli_module</th>\n",
       "      <th>stimuli_name</th>\n",
       "      <th>timestamp</th>\n",
       "      <th>duration</th>\n",
       "      <th>x0</th>\n",
       "      <th>y0</th>\n",
       "      <th>x1</th>\n",
       "      <th>y1</th>\n",
       "      <th>token</th>\n",
       "      <th>pupil_l</th>\n",
       "      <th>pupil_r</th>\n",
       "      <th>amplitude</th>\n",
       "      <th>peak_velocity</th>\n",
       "      <th>eye_event_type</th>\n",
       "    </tr>\n",
       "  </thead>\n",
       "  <tbody>\n",
       "    <tr>\n",
       "      <th>0</th>\n",
       "      <td>Tobii I-VT (Fixation)</td>\n",
       "      <td>17623623_P103</td>\n",
       "      <td>17623623_P103</td>\n",
       "      <td>UNL-UM_UO P103.tsv</td>\n",
       "      <td>Q5</td>\n",
       "      <td>datasets/UNL_UM24_30July/stimuli</td>\n",
       "      <td>Q5 (localhost).png</td>\n",
       "      <td>237868</td>\n",
       "      <td>567.0</td>\n",
       "      <td>718.0</td>\n",
       "      <td>346.0</td>\n",
       "      <td>NaN</td>\n",
       "      <td>NaN</td>\n",
       "      <td>None</td>\n",
       "      <td>NaN</td>\n",
       "      <td>NaN</td>\n",
       "      <td>NaN</td>\n",
       "      <td>NaN</td>\n",
       "      <td>fixation</td>\n",
       "    </tr>\n",
       "    <tr>\n",
       "      <th>1</th>\n",
       "      <td>Tobii I-VT (Fixation)</td>\n",
       "      <td>17623623_P103</td>\n",
       "      <td>17623623_P103</td>\n",
       "      <td>UNL-UM_UO P103.tsv</td>\n",
       "      <td>Q5</td>\n",
       "      <td>datasets/UNL_UM24_30July/stimuli</td>\n",
       "      <td>Q5 (localhost).png</td>\n",
       "      <td>237916</td>\n",
       "      <td>192.0</td>\n",
       "      <td>543.0</td>\n",
       "      <td>342.0</td>\n",
       "      <td>NaN</td>\n",
       "      <td>NaN</td>\n",
       "      <td>None</td>\n",
       "      <td>3.494</td>\n",
       "      <td>3.425</td>\n",
       "      <td>NaN</td>\n",
       "      <td>NaN</td>\n",
       "      <td>fixation</td>\n",
       "    </tr>\n",
       "    <tr>\n",
       "      <th>2</th>\n",
       "      <td>Tobii I-VT (Fixation)</td>\n",
       "      <td>17623623_P103</td>\n",
       "      <td>17623623_P103</td>\n",
       "      <td>UNL-UM_UO P103.tsv</td>\n",
       "      <td>Q5</td>\n",
       "      <td>datasets/UNL_UM24_30July/stimuli</td>\n",
       "      <td>Q5 (localhost).png</td>\n",
       "      <td>237925</td>\n",
       "      <td>192.0</td>\n",
       "      <td>543.0</td>\n",
       "      <td>342.0</td>\n",
       "      <td>NaN</td>\n",
       "      <td>NaN</td>\n",
       "      <td>None</td>\n",
       "      <td>3.491</td>\n",
       "      <td>3.422</td>\n",
       "      <td>NaN</td>\n",
       "      <td>NaN</td>\n",
       "      <td>fixation</td>\n",
       "    </tr>\n",
       "    <tr>\n",
       "      <th>3</th>\n",
       "      <td>Tobii I-VT (Fixation)</td>\n",
       "      <td>17623623_P103</td>\n",
       "      <td>17623623_P103</td>\n",
       "      <td>UNL-UM_UO P103.tsv</td>\n",
       "      <td>Q5</td>\n",
       "      <td>datasets/UNL_UM24_30July/stimuli</td>\n",
       "      <td>Q5 (localhost).png</td>\n",
       "      <td>237933</td>\n",
       "      <td>192.0</td>\n",
       "      <td>543.0</td>\n",
       "      <td>342.0</td>\n",
       "      <td>NaN</td>\n",
       "      <td>NaN</td>\n",
       "      <td>None</td>\n",
       "      <td>3.489</td>\n",
       "      <td>3.419</td>\n",
       "      <td>NaN</td>\n",
       "      <td>NaN</td>\n",
       "      <td>fixation</td>\n",
       "    </tr>\n",
       "    <tr>\n",
       "      <th>4</th>\n",
       "      <td>Tobii I-VT (Fixation)</td>\n",
       "      <td>17623623_P103</td>\n",
       "      <td>17623623_P103</td>\n",
       "      <td>UNL-UM_UO P103.tsv</td>\n",
       "      <td>Q5</td>\n",
       "      <td>datasets/UNL_UM24_30July/stimuli</td>\n",
       "      <td>Q5 (localhost).png</td>\n",
       "      <td>237941</td>\n",
       "      <td>192.0</td>\n",
       "      <td>543.0</td>\n",
       "      <td>342.0</td>\n",
       "      <td>NaN</td>\n",
       "      <td>NaN</td>\n",
       "      <td>None</td>\n",
       "      <td>3.485</td>\n",
       "      <td>3.421</td>\n",
       "      <td>NaN</td>\n",
       "      <td>NaN</td>\n",
       "      <td>fixation</td>\n",
       "    </tr>\n",
       "  </tbody>\n",
       "</table>\n",
       "</div>"
      ],
      "text/plain": [
       "             eye_tracker  experiment_id participant_id            filename  \\\n",
       "0  Tobii I-VT (Fixation)  17623623_P103  17623623_P103  UNL-UM_UO P103.tsv   \n",
       "1  Tobii I-VT (Fixation)  17623623_P103  17623623_P103  UNL-UM_UO P103.tsv   \n",
       "2  Tobii I-VT (Fixation)  17623623_P103  17623623_P103  UNL-UM_UO P103.tsv   \n",
       "3  Tobii I-VT (Fixation)  17623623_P103  17623623_P103  UNL-UM_UO P103.tsv   \n",
       "4  Tobii I-VT (Fixation)  17623623_P103  17623623_P103  UNL-UM_UO P103.tsv   \n",
       "\n",
       "  trial_id                    stimuli_module        stimuli_name  timestamp  \\\n",
       "0       Q5  datasets/UNL_UM24_30July/stimuli  Q5 (localhost).png     237868   \n",
       "1       Q5  datasets/UNL_UM24_30July/stimuli  Q5 (localhost).png     237916   \n",
       "2       Q5  datasets/UNL_UM24_30July/stimuli  Q5 (localhost).png     237925   \n",
       "3       Q5  datasets/UNL_UM24_30July/stimuli  Q5 (localhost).png     237933   \n",
       "4       Q5  datasets/UNL_UM24_30July/stimuli  Q5 (localhost).png     237941   \n",
       "\n",
       "   duration     x0     y0  x1  y1 token  pupil_l  pupil_r  amplitude  \\\n",
       "0     567.0  718.0  346.0 NaN NaN  None      NaN      NaN        NaN   \n",
       "1     192.0  543.0  342.0 NaN NaN  None    3.494    3.425        NaN   \n",
       "2     192.0  543.0  342.0 NaN NaN  None    3.491    3.422        NaN   \n",
       "3     192.0  543.0  342.0 NaN NaN  None    3.489    3.419        NaN   \n",
       "4     192.0  543.0  342.0 NaN NaN  None    3.485    3.421        NaN   \n",
       "\n",
       "   peak_velocity eye_event_type  \n",
       "0            NaN       fixation  \n",
       "1            NaN       fixation  \n",
       "2            NaN       fixation  \n",
       "3            NaN       fixation  \n",
       "4            NaN       fixation  "
      ]
     },
     "execution_count": 51,
     "metadata": {},
     "output_type": "execute_result"
    }
   ],
   "source": [
    "trial_data = eye_events[eye_events['trial_id'] == trial_id]\n",
    "\n",
    "trial_data.head()"
   ]
  },
  {
   "cell_type": "code",
   "execution_count": 52,
   "metadata": {},
   "outputs": [
    {
     "data": {
      "text/html": [
       "<div>\n",
       "<style scoped>\n",
       "    .dataframe tbody tr th:only-of-type {\n",
       "        vertical-align: middle;\n",
       "    }\n",
       "\n",
       "    .dataframe tbody tr th {\n",
       "        vertical-align: top;\n",
       "    }\n",
       "\n",
       "    .dataframe thead th {\n",
       "        text-align: right;\n",
       "    }\n",
       "</style>\n",
       "<table border=\"1\" class=\"dataframe\">\n",
       "  <thead>\n",
       "    <tr style=\"text-align: right;\">\n",
       "      <th></th>\n",
       "      <th>eye_tracker</th>\n",
       "      <th>experiment_id</th>\n",
       "      <th>participant_id</th>\n",
       "      <th>filename</th>\n",
       "      <th>trial_id</th>\n",
       "      <th>stimuli_module</th>\n",
       "      <th>stimuli_name</th>\n",
       "      <th>timestamp</th>\n",
       "      <th>duration</th>\n",
       "      <th>x0</th>\n",
       "      <th>y0</th>\n",
       "      <th>x1</th>\n",
       "      <th>y1</th>\n",
       "      <th>token</th>\n",
       "      <th>pupil_l</th>\n",
       "      <th>pupil_r</th>\n",
       "      <th>amplitude</th>\n",
       "      <th>peak_velocity</th>\n",
       "      <th>eye_event_type</th>\n",
       "    </tr>\n",
       "  </thead>\n",
       "  <tbody>\n",
       "    <tr>\n",
       "      <th>0</th>\n",
       "      <td>Tobii I-VT (Fixation)</td>\n",
       "      <td>17623623_P103</td>\n",
       "      <td>17623623_P103</td>\n",
       "      <td>UNL-UM_UO P103.tsv</td>\n",
       "      <td>Q5</td>\n",
       "      <td>datasets/UNL_UM24_30July/stimuli</td>\n",
       "      <td>Q5 (localhost).png</td>\n",
       "      <td>237868</td>\n",
       "      <td>567.0</td>\n",
       "      <td>718.0</td>\n",
       "      <td>346.0</td>\n",
       "      <td>NaN</td>\n",
       "      <td>NaN</td>\n",
       "      <td>None</td>\n",
       "      <td>NaN</td>\n",
       "      <td>NaN</td>\n",
       "      <td>NaN</td>\n",
       "      <td>NaN</td>\n",
       "      <td>fixation</td>\n",
       "    </tr>\n",
       "    <tr>\n",
       "      <th>1</th>\n",
       "      <td>Tobii I-VT (Fixation)</td>\n",
       "      <td>17623623_P103</td>\n",
       "      <td>17623623_P103</td>\n",
       "      <td>UNL-UM_UO P103.tsv</td>\n",
       "      <td>Q5</td>\n",
       "      <td>datasets/UNL_UM24_30July/stimuli</td>\n",
       "      <td>Q5 (localhost).png</td>\n",
       "      <td>237916</td>\n",
       "      <td>192.0</td>\n",
       "      <td>543.0</td>\n",
       "      <td>342.0</td>\n",
       "      <td>NaN</td>\n",
       "      <td>NaN</td>\n",
       "      <td>None</td>\n",
       "      <td>3.494</td>\n",
       "      <td>3.425</td>\n",
       "      <td>NaN</td>\n",
       "      <td>NaN</td>\n",
       "      <td>fixation</td>\n",
       "    </tr>\n",
       "    <tr>\n",
       "      <th>2</th>\n",
       "      <td>Tobii I-VT (Fixation)</td>\n",
       "      <td>17623623_P103</td>\n",
       "      <td>17623623_P103</td>\n",
       "      <td>UNL-UM_UO P103.tsv</td>\n",
       "      <td>Q5</td>\n",
       "      <td>datasets/UNL_UM24_30July/stimuli</td>\n",
       "      <td>Q5 (localhost).png</td>\n",
       "      <td>237925</td>\n",
       "      <td>192.0</td>\n",
       "      <td>543.0</td>\n",
       "      <td>342.0</td>\n",
       "      <td>NaN</td>\n",
       "      <td>NaN</td>\n",
       "      <td>None</td>\n",
       "      <td>3.491</td>\n",
       "      <td>3.422</td>\n",
       "      <td>NaN</td>\n",
       "      <td>NaN</td>\n",
       "      <td>fixation</td>\n",
       "    </tr>\n",
       "    <tr>\n",
       "      <th>3</th>\n",
       "      <td>Tobii I-VT (Fixation)</td>\n",
       "      <td>17623623_P103</td>\n",
       "      <td>17623623_P103</td>\n",
       "      <td>UNL-UM_UO P103.tsv</td>\n",
       "      <td>Q5</td>\n",
       "      <td>datasets/UNL_UM24_30July/stimuli</td>\n",
       "      <td>Q5 (localhost).png</td>\n",
       "      <td>237933</td>\n",
       "      <td>192.0</td>\n",
       "      <td>543.0</td>\n",
       "      <td>342.0</td>\n",
       "      <td>NaN</td>\n",
       "      <td>NaN</td>\n",
       "      <td>None</td>\n",
       "      <td>3.489</td>\n",
       "      <td>3.419</td>\n",
       "      <td>NaN</td>\n",
       "      <td>NaN</td>\n",
       "      <td>fixation</td>\n",
       "    </tr>\n",
       "    <tr>\n",
       "      <th>4</th>\n",
       "      <td>Tobii I-VT (Fixation)</td>\n",
       "      <td>17623623_P103</td>\n",
       "      <td>17623623_P103</td>\n",
       "      <td>UNL-UM_UO P103.tsv</td>\n",
       "      <td>Q5</td>\n",
       "      <td>datasets/UNL_UM24_30July/stimuli</td>\n",
       "      <td>Q5 (localhost).png</td>\n",
       "      <td>237941</td>\n",
       "      <td>192.0</td>\n",
       "      <td>543.0</td>\n",
       "      <td>342.0</td>\n",
       "      <td>NaN</td>\n",
       "      <td>NaN</td>\n",
       "      <td>None</td>\n",
       "      <td>3.485</td>\n",
       "      <td>3.421</td>\n",
       "      <td>NaN</td>\n",
       "      <td>NaN</td>\n",
       "      <td>fixation</td>\n",
       "    </tr>\n",
       "  </tbody>\n",
       "</table>\n",
       "</div>"
      ],
      "text/plain": [
       "             eye_tracker  experiment_id participant_id            filename  \\\n",
       "0  Tobii I-VT (Fixation)  17623623_P103  17623623_P103  UNL-UM_UO P103.tsv   \n",
       "1  Tobii I-VT (Fixation)  17623623_P103  17623623_P103  UNL-UM_UO P103.tsv   \n",
       "2  Tobii I-VT (Fixation)  17623623_P103  17623623_P103  UNL-UM_UO P103.tsv   \n",
       "3  Tobii I-VT (Fixation)  17623623_P103  17623623_P103  UNL-UM_UO P103.tsv   \n",
       "4  Tobii I-VT (Fixation)  17623623_P103  17623623_P103  UNL-UM_UO P103.tsv   \n",
       "\n",
       "  trial_id                    stimuli_module        stimuli_name  timestamp  \\\n",
       "0       Q5  datasets/UNL_UM24_30July/stimuli  Q5 (localhost).png     237868   \n",
       "1       Q5  datasets/UNL_UM24_30July/stimuli  Q5 (localhost).png     237916   \n",
       "2       Q5  datasets/UNL_UM24_30July/stimuli  Q5 (localhost).png     237925   \n",
       "3       Q5  datasets/UNL_UM24_30July/stimuli  Q5 (localhost).png     237933   \n",
       "4       Q5  datasets/UNL_UM24_30July/stimuli  Q5 (localhost).png     237941   \n",
       "\n",
       "   duration     x0     y0  x1  y1 token  pupil_l  pupil_r  amplitude  \\\n",
       "0     567.0  718.0  346.0 NaN NaN  None      NaN      NaN        NaN   \n",
       "1     192.0  543.0  342.0 NaN NaN  None    3.494    3.425        NaN   \n",
       "2     192.0  543.0  342.0 NaN NaN  None    3.491    3.422        NaN   \n",
       "3     192.0  543.0  342.0 NaN NaN  None    3.489    3.419        NaN   \n",
       "4     192.0  543.0  342.0 NaN NaN  None    3.485    3.421        NaN   \n",
       "\n",
       "   peak_velocity eye_event_type  \n",
       "0            NaN       fixation  \n",
       "1            NaN       fixation  \n",
       "2            NaN       fixation  \n",
       "3            NaN       fixation  \n",
       "4            NaN       fixation  "
      ]
     },
     "execution_count": 52,
     "metadata": {},
     "output_type": "execute_result"
    }
   ],
   "source": [
    "trial_data = eye_events[eye_events['trial_id'] == trial_id]\n",
    "\n",
    "trial_data.head()"
   ]
  },
  {
   "cell_type": "code",
   "execution_count": 53,
   "metadata": {},
   "outputs": [
    {
     "name": "stderr",
     "output_type": "stream",
     "text": [
      "Matching fixations to AOIs: 100%|\u001b[32m██████████\u001b[0m| 794798/794798 [53:39<00:00, 246.89fixation/s]\n"
     ]
    },
    {
     "data": {
      "text/html": [
       "<div>\n",
       "<style scoped>\n",
       "    .dataframe tbody tr th:only-of-type {\n",
       "        vertical-align: middle;\n",
       "    }\n",
       "\n",
       "    .dataframe tbody tr th {\n",
       "        vertical-align: top;\n",
       "    }\n",
       "\n",
       "    .dataframe thead th {\n",
       "        text-align: right;\n",
       "    }\n",
       "</style>\n",
       "<table border=\"1\" class=\"dataframe\">\n",
       "  <thead>\n",
       "    <tr style=\"text-align: right;\">\n",
       "      <th></th>\n",
       "      <th>eye_tracker</th>\n",
       "      <th>experiment_id</th>\n",
       "      <th>participant_id</th>\n",
       "      <th>filename</th>\n",
       "      <th>trial_id</th>\n",
       "      <th>stimuli_module</th>\n",
       "      <th>stimuli_name</th>\n",
       "      <th>timestamp</th>\n",
       "      <th>duration</th>\n",
       "      <th>x0</th>\n",
       "      <th>...</th>\n",
       "      <th>pupil_right</th>\n",
       "      <th>aoi_kind</th>\n",
       "      <th>aoi_name</th>\n",
       "      <th>aoi_token</th>\n",
       "      <th>aoi_x</th>\n",
       "      <th>aoi_y</th>\n",
       "      <th>aoi_width</th>\n",
       "      <th>aoi_height</th>\n",
       "      <th>image</th>\n",
       "      <th>eye_event_type</th>\n",
       "    </tr>\n",
       "  </thead>\n",
       "  <tbody>\n",
       "    <tr>\n",
       "      <th>0</th>\n",
       "      <td>Tobii I-VT (Fixation)</td>\n",
       "      <td>17623623_P103</td>\n",
       "      <td>17623623_P103</td>\n",
       "      <td>UNL-UM_UO P103.tsv</td>\n",
       "      <td>Q5</td>\n",
       "      <td>datasets/UNL_UM24_30July/stimuli</td>\n",
       "      <td>Q5 (localhost).png</td>\n",
       "      <td>239183</td>\n",
       "      <td>183.0</td>\n",
       "      <td>193.0</td>\n",
       "      <td>...</td>\n",
       "      <td>3.632</td>\n",
       "      <td>sub-line</td>\n",
       "      <td>line 5 part 1</td>\n",
       "      <td>public</td>\n",
       "      <td>184</td>\n",
       "      <td>189</td>\n",
       "      <td>68</td>\n",
       "      <td>16</td>\n",
       "      <td>datasets/UNL_UM24_30July/stimuli/Q5 (localhost...</td>\n",
       "      <td>fixation</td>\n",
       "    </tr>\n",
       "    <tr>\n",
       "      <th>1</th>\n",
       "      <td>Tobii I-VT (Fixation)</td>\n",
       "      <td>17623623_P103</td>\n",
       "      <td>17623623_P103</td>\n",
       "      <td>UNL-UM_UO P103.tsv</td>\n",
       "      <td>Q5</td>\n",
       "      <td>datasets/UNL_UM24_30July/stimuli</td>\n",
       "      <td>Q5 (localhost).png</td>\n",
       "      <td>239191</td>\n",
       "      <td>183.0</td>\n",
       "      <td>193.0</td>\n",
       "      <td>...</td>\n",
       "      <td>3.645</td>\n",
       "      <td>sub-line</td>\n",
       "      <td>line 5 part 1</td>\n",
       "      <td>public</td>\n",
       "      <td>184</td>\n",
       "      <td>189</td>\n",
       "      <td>68</td>\n",
       "      <td>16</td>\n",
       "      <td>datasets/UNL_UM24_30July/stimuli/Q5 (localhost...</td>\n",
       "      <td>fixation</td>\n",
       "    </tr>\n",
       "    <tr>\n",
       "      <th>2</th>\n",
       "      <td>Tobii I-VT (Fixation)</td>\n",
       "      <td>17623623_P103</td>\n",
       "      <td>17623623_P103</td>\n",
       "      <td>UNL-UM_UO P103.tsv</td>\n",
       "      <td>Q5</td>\n",
       "      <td>datasets/UNL_UM24_30July/stimuli</td>\n",
       "      <td>Q5 (localhost).png</td>\n",
       "      <td>239200</td>\n",
       "      <td>183.0</td>\n",
       "      <td>193.0</td>\n",
       "      <td>...</td>\n",
       "      <td>3.634</td>\n",
       "      <td>sub-line</td>\n",
       "      <td>line 5 part 1</td>\n",
       "      <td>public</td>\n",
       "      <td>184</td>\n",
       "      <td>189</td>\n",
       "      <td>68</td>\n",
       "      <td>16</td>\n",
       "      <td>datasets/UNL_UM24_30July/stimuli/Q5 (localhost...</td>\n",
       "      <td>fixation</td>\n",
       "    </tr>\n",
       "    <tr>\n",
       "      <th>3</th>\n",
       "      <td>Tobii I-VT (Fixation)</td>\n",
       "      <td>17623623_P103</td>\n",
       "      <td>17623623_P103</td>\n",
       "      <td>UNL-UM_UO P103.tsv</td>\n",
       "      <td>Q5</td>\n",
       "      <td>datasets/UNL_UM24_30July/stimuli</td>\n",
       "      <td>Q5 (localhost).png</td>\n",
       "      <td>239208</td>\n",
       "      <td>183.0</td>\n",
       "      <td>193.0</td>\n",
       "      <td>...</td>\n",
       "      <td>3.634</td>\n",
       "      <td>sub-line</td>\n",
       "      <td>line 5 part 1</td>\n",
       "      <td>public</td>\n",
       "      <td>184</td>\n",
       "      <td>189</td>\n",
       "      <td>68</td>\n",
       "      <td>16</td>\n",
       "      <td>datasets/UNL_UM24_30July/stimuli/Q5 (localhost...</td>\n",
       "      <td>fixation</td>\n",
       "    </tr>\n",
       "    <tr>\n",
       "      <th>4</th>\n",
       "      <td>Tobii I-VT (Fixation)</td>\n",
       "      <td>17623623_P103</td>\n",
       "      <td>17623623_P103</td>\n",
       "      <td>UNL-UM_UO P103.tsv</td>\n",
       "      <td>Q5</td>\n",
       "      <td>datasets/UNL_UM24_30July/stimuli</td>\n",
       "      <td>Q5 (localhost).png</td>\n",
       "      <td>239216</td>\n",
       "      <td>183.0</td>\n",
       "      <td>193.0</td>\n",
       "      <td>...</td>\n",
       "      <td>3.629</td>\n",
       "      <td>sub-line</td>\n",
       "      <td>line 5 part 1</td>\n",
       "      <td>public</td>\n",
       "      <td>184</td>\n",
       "      <td>189</td>\n",
       "      <td>68</td>\n",
       "      <td>16</td>\n",
       "      <td>datasets/UNL_UM24_30July/stimuli/Q5 (localhost...</td>\n",
       "      <td>fixation</td>\n",
       "    </tr>\n",
       "  </tbody>\n",
       "</table>\n",
       "<p>5 rows × 22 columns</p>\n",
       "</div>"
      ],
      "text/plain": [
       "             eye_tracker  experiment_id participant_id            filename  \\\n",
       "0  Tobii I-VT (Fixation)  17623623_P103  17623623_P103  UNL-UM_UO P103.tsv   \n",
       "1  Tobii I-VT (Fixation)  17623623_P103  17623623_P103  UNL-UM_UO P103.tsv   \n",
       "2  Tobii I-VT (Fixation)  17623623_P103  17623623_P103  UNL-UM_UO P103.tsv   \n",
       "3  Tobii I-VT (Fixation)  17623623_P103  17623623_P103  UNL-UM_UO P103.tsv   \n",
       "4  Tobii I-VT (Fixation)  17623623_P103  17623623_P103  UNL-UM_UO P103.tsv   \n",
       "\n",
       "  trial_id                    stimuli_module        stimuli_name  timestamp  \\\n",
       "0       Q5  datasets/UNL_UM24_30July/stimuli  Q5 (localhost).png     239183   \n",
       "1       Q5  datasets/UNL_UM24_30July/stimuli  Q5 (localhost).png     239191   \n",
       "2       Q5  datasets/UNL_UM24_30July/stimuli  Q5 (localhost).png     239200   \n",
       "3       Q5  datasets/UNL_UM24_30July/stimuli  Q5 (localhost).png     239208   \n",
       "4       Q5  datasets/UNL_UM24_30July/stimuli  Q5 (localhost).png     239216   \n",
       "\n",
       "   duration     x0  ...  pupil_right  aoi_kind       aoi_name aoi_token aoi_x  \\\n",
       "0     183.0  193.0  ...        3.632  sub-line  line 5 part 1    public   184   \n",
       "1     183.0  193.0  ...        3.645  sub-line  line 5 part 1    public   184   \n",
       "2     183.0  193.0  ...        3.634  sub-line  line 5 part 1    public   184   \n",
       "3     183.0  193.0  ...        3.634  sub-line  line 5 part 1    public   184   \n",
       "4     183.0  193.0  ...        3.629  sub-line  line 5 part 1    public   184   \n",
       "\n",
       "  aoi_y  aoi_width  aoi_height  \\\n",
       "0   189         68          16   \n",
       "1   189         68          16   \n",
       "2   189         68          16   \n",
       "3   189         68          16   \n",
       "4   189         68          16   \n",
       "\n",
       "                                               image  eye_event_type  \n",
       "0  datasets/UNL_UM24_30July/stimuli/Q5 (localhost...        fixation  \n",
       "1  datasets/UNL_UM24_30July/stimuli/Q5 (localhost...        fixation  \n",
       "2  datasets/UNL_UM24_30July/stimuli/Q5 (localhost...        fixation  \n",
       "3  datasets/UNL_UM24_30July/stimuli/Q5 (localhost...        fixation  \n",
       "4  datasets/UNL_UM24_30July/stimuli/Q5 (localhost...        fixation  \n",
       "\n",
       "[5 rows x 22 columns]"
      ]
     },
     "execution_count": 53,
     "metadata": {},
     "output_type": "execute_result"
    }
   ],
   "source": [
    "aoi_fixations = aoi.aoi_tokens_matcher(aoi_file_path, trial_data, trial_id, redius=25)\n",
    "\n",
    "aoi_fixations.head()\n"
   ]
  },
  {
   "cell_type": "code",
   "execution_count": 44,
   "metadata": {},
   "outputs": [
    {
     "data": {
      "text/plain": [
       "'output/unl_um-30July'"
      ]
     },
     "execution_count": 44,
     "metadata": {},
     "output_type": "execute_result"
    }
   ],
   "source": [
    "file_path"
   ]
  },
  {
   "cell_type": "code",
   "execution_count": 45,
   "metadata": {},
   "outputs": [],
   "source": [
    "# save aoi_fixations\n",
    "aoi_fixations.to_csv(f\"{file_path}/group/aoi/aoi_fixations_{trial_id}_nonopt.csv\", index=False)"
   ]
  }
 ],
 "metadata": {
  "kernelspec": {
   "display_name": "g2c",
   "language": "python",
   "name": "python3"
  },
  "language_info": {
   "codemirror_mode": {
    "name": "ipython",
    "version": 3
   },
   "file_extension": ".py",
   "mimetype": "text/x-python",
   "name": "python",
   "nbconvert_exporter": "python",
   "pygments_lexer": "ipython3",
   "version": "3.10.16"
  }
 },
 "nbformat": 4,
 "nbformat_minor": 2
}
