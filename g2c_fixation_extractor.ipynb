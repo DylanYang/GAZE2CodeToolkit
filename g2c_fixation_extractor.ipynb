{
 "cells": [
  {
   "cell_type": "markdown",
   "metadata": {},
   "source": [
    "# Getting started with gaze dataset "
   ]
  },
  {
   "cell_type": "markdown",
   "metadata": {},
   "source": [
    "In this example, we will show examples of the main functionalities included in the emtk.\n",
    "\n",
    "This includes:\n",
    "- Parsing raw data from the gaze dataset to pandas dataframe.\n",
    "- Visualizing raw data, filtered fixation, saccades, and AOIs visualization.\n",
    "- Applying fixation correction through setting offset.\n",
    "- Generating AOIs for any gaze stimuli.\n",
    "- Adding text tokens to generated AOIs.\n",
    "- Adding srcML tags to AOIs and tokens.\n",
    "- Performing hit test between fixations and AOIs. "
   ]
  },
  {
   "cell_type": "code",
   "execution_count": 22,
   "metadata": {},
   "outputs": [
    {
     "name": "stdout",
     "output_type": "stream",
     "text": [
      "The autoreload extension is already loaded. To reload it, use:\n",
      "  %reload_ext autoreload\n"
     ]
    }
   ],
   "source": [
    "%load_ext autoreload\n",
    "%autoreload 2  "
   ]
  },
  {
   "cell_type": "markdown",
   "metadata": {},
   "source": [
    "# Importing the tool"
   ]
  },
  {
   "cell_type": "code",
   "execution_count": 23,
   "metadata": {},
   "outputs": [],
   "source": [
    "import pandas as pd\n",
    "from g2c import parsers, visualization, util, aoi\n",
    "\n",
    "# ignore warnings\n",
    "import warnings\n",
    "warnings.filterwarnings('ignore')"
   ]
  },
  {
   "cell_type": "markdown",
   "metadata": {},
   "source": [
    "# Parsing raw data from the UNL dataset"
   ]
  },
  {
   "cell_type": "code",
   "execution_count": 6,
   "metadata": {},
   "outputs": [
    {
     "name": "stderr",
     "output_type": "stream",
     "text": [
      "Processing files:   0%|\u001b[32m          \u001b[0m| 0/48 [00:00<?, ?file/s]"
     ]
    },
    {
     "name": "stderr",
     "output_type": "stream",
     "text": [
      "Processing files:   2%|\u001b[32m▏         \u001b[0m| 1/48 [00:02<01:38,  2.09s/file]"
     ]
    },
    {
     "name": "stdout",
     "output_type": "stream",
     "text": [
      "Processed file: UNL-UM_UO P103.tsv\n"
     ]
    },
    {
     "name": "stderr",
     "output_type": "stream",
     "text": [
      "Processing files:   4%|\u001b[32m▍         \u001b[0m| 2/48 [00:03<01:28,  1.93s/file]"
     ]
    },
    {
     "name": "stdout",
     "output_type": "stream",
     "text": [
      "Processed file: UNL-UM_UO P105.tsv\n"
     ]
    },
    {
     "name": "stderr",
     "output_type": "stream",
     "text": [
      "Processing files:   6%|\u001b[32m▋         \u001b[0m| 3/48 [00:06<01:46,  2.36s/file]"
     ]
    },
    {
     "name": "stdout",
     "output_type": "stream",
     "text": [
      "Processed file: UNL-UM_UO P107.tsv\n"
     ]
    },
    {
     "name": "stderr",
     "output_type": "stream",
     "text": [
      "Processing files:   8%|\u001b[32m▊         \u001b[0m| 4/48 [00:09<01:58,  2.70s/file]"
     ]
    },
    {
     "name": "stdout",
     "output_type": "stream",
     "text": [
      "Processed file: UNL-UM_UO P113.tsv\n"
     ]
    },
    {
     "name": "stderr",
     "output_type": "stream",
     "text": [
      "Processing files:  10%|\u001b[32m█         \u001b[0m| 5/48 [00:14<02:18,  3.23s/file]"
     ]
    },
    {
     "name": "stdout",
     "output_type": "stream",
     "text": [
      "Processed file: UNL-UM_UO P124.tsv\n"
     ]
    },
    {
     "name": "stderr",
     "output_type": "stream",
     "text": [
      "Processing files:  12%|\u001b[32m█▎        \u001b[0m| 6/48 [00:19<02:39,  3.80s/file]"
     ]
    },
    {
     "name": "stdout",
     "output_type": "stream",
     "text": [
      "Processed file: UNL-UM_UO P127.tsv\n"
     ]
    },
    {
     "name": "stderr",
     "output_type": "stream",
     "text": [
      "Processing files:  15%|\u001b[32m█▍        \u001b[0m| 7/48 [00:24<02:53,  4.23s/file]"
     ]
    },
    {
     "name": "stdout",
     "output_type": "stream",
     "text": [
      "Processed file: UNL-UM_UO P132.tsv\n"
     ]
    },
    {
     "name": "stderr",
     "output_type": "stream",
     "text": [
      "Processing files:  17%|\u001b[32m█▋        \u001b[0m| 8/48 [00:31<03:24,  5.12s/file]"
     ]
    },
    {
     "name": "stdout",
     "output_type": "stream",
     "text": [
      "Processed file: UNL-UM_UO P135.tsv\n"
     ]
    },
    {
     "name": "stderr",
     "output_type": "stream",
     "text": [
      "Processing files:  19%|\u001b[32m█▉        \u001b[0m| 9/48 [00:38<03:49,  5.88s/file]"
     ]
    },
    {
     "name": "stdout",
     "output_type": "stream",
     "text": [
      "Processed file: UNL-UM_UO P139.tsv\n"
     ]
    },
    {
     "name": "stderr",
     "output_type": "stream",
     "text": [
      "Processing files:  21%|\u001b[32m██        \u001b[0m| 10/48 [00:45<03:57,  6.25s/file]"
     ]
    },
    {
     "name": "stdout",
     "output_type": "stream",
     "text": [
      "Processed file: UNL-UM_UO P140.tsv\n"
     ]
    },
    {
     "name": "stderr",
     "output_type": "stream",
     "text": [
      "Processing files:  23%|\u001b[32m██▎       \u001b[0m| 11/48 [00:53<04:12,  6.81s/file]"
     ]
    },
    {
     "name": "stdout",
     "output_type": "stream",
     "text": [
      "Processed file: UNL-UM_UO P142.tsv\n"
     ]
    },
    {
     "name": "stderr",
     "output_type": "stream",
     "text": [
      "Processing files:  25%|\u001b[32m██▌       \u001b[0m| 12/48 [01:02<04:25,  7.38s/file]"
     ]
    },
    {
     "name": "stdout",
     "output_type": "stream",
     "text": [
      "Processed file: UNL-UM_UO P143.tsv\n"
     ]
    },
    {
     "name": "stderr",
     "output_type": "stream",
     "text": [
      "Processing files:  27%|\u001b[32m██▋       \u001b[0m| 13/48 [01:11<04:35,  7.86s/file]"
     ]
    },
    {
     "name": "stdout",
     "output_type": "stream",
     "text": [
      "Processed file: UNL-UM_UO P147.tsv\n"
     ]
    },
    {
     "name": "stderr",
     "output_type": "stream",
     "text": [
      "Processing files:  29%|\u001b[32m██▉       \u001b[0m| 14/48 [01:22<04:57,  8.76s/file]"
     ]
    },
    {
     "name": "stdout",
     "output_type": "stream",
     "text": [
      "Processed file: UNL-UM_UO P149.tsv\n"
     ]
    },
    {
     "name": "stderr",
     "output_type": "stream",
     "text": [
      "Processing files:  31%|\u001b[32m███▏      \u001b[0m| 15/48 [01:32<05:05,  9.26s/file]"
     ]
    },
    {
     "name": "stdout",
     "output_type": "stream",
     "text": [
      "Processed file: UNL-UM_UO P152.tsv\n"
     ]
    },
    {
     "name": "stderr",
     "output_type": "stream",
     "text": [
      "Processing files:  33%|\u001b[32m███▎      \u001b[0m| 16/48 [01:43<05:09,  9.68s/file]"
     ]
    },
    {
     "name": "stdout",
     "output_type": "stream",
     "text": [
      "Processed file: UNL-UM_UO P154.tsv\n"
     ]
    },
    {
     "name": "stderr",
     "output_type": "stream",
     "text": [
      "Processing files:  35%|\u001b[32m███▌      \u001b[0m| 17/48 [01:54<05:13, 10.12s/file]"
     ]
    },
    {
     "name": "stdout",
     "output_type": "stream",
     "text": [
      "Processed file: UNL-UM_UO P155.tsv\n"
     ]
    },
    {
     "name": "stderr",
     "output_type": "stream",
     "text": [
      "Processing files:  38%|\u001b[32m███▊      \u001b[0m| 18/48 [02:07<05:24, 10.81s/file]"
     ]
    },
    {
     "name": "stdout",
     "output_type": "stream",
     "text": [
      "Processed file: UNL-UM_UO P157.tsv\n"
     ]
    },
    {
     "name": "stderr",
     "output_type": "stream",
     "text": [
      "Processing files:  40%|\u001b[32m███▉      \u001b[0m| 19/48 [02:20<05:32, 11.48s/file]"
     ]
    },
    {
     "name": "stdout",
     "output_type": "stream",
     "text": [
      "Processed file: UNL-UM_UO P160.tsv\n"
     ]
    },
    {
     "name": "stderr",
     "output_type": "stream",
     "text": [
      "Processing files:  42%|\u001b[32m████▏     \u001b[0m| 20/48 [02:33<05:34, 11.94s/file]"
     ]
    },
    {
     "name": "stdout",
     "output_type": "stream",
     "text": [
      "Processed file: UNL-UM_UO P170.tsv\n"
     ]
    },
    {
     "name": "stderr",
     "output_type": "stream",
     "text": [
      "Processing files:  44%|\u001b[32m████▍     \u001b[0m| 21/48 [02:47<05:40, 12.61s/file]"
     ]
    },
    {
     "name": "stdout",
     "output_type": "stream",
     "text": [
      "Processed file: UNL-UM_UO P174.tsv\n"
     ]
    },
    {
     "name": "stderr",
     "output_type": "stream",
     "text": [
      "Processing files:  46%|\u001b[32m████▌     \u001b[0m| 22/48 [03:00<05:35, 12.92s/file]"
     ]
    },
    {
     "name": "stdout",
     "output_type": "stream",
     "text": [
      "Processed file: UNL-UM_UO P181.tsv\n"
     ]
    },
    {
     "name": "stderr",
     "output_type": "stream",
     "text": [
      "Processing files:  48%|\u001b[32m████▊     \u001b[0m| 23/48 [03:15<05:35, 13.41s/file]"
     ]
    },
    {
     "name": "stdout",
     "output_type": "stream",
     "text": [
      "Processed file: UNL-UM_UO P183.tsv\n"
     ]
    },
    {
     "name": "stderr",
     "output_type": "stream",
     "text": [
      "Processing files:  50%|\u001b[32m█████     \u001b[0m| 24/48 [03:29<05:29, 13.73s/file]"
     ]
    },
    {
     "name": "stdout",
     "output_type": "stream",
     "text": [
      "Processed file: UNL-UM_UO P192.tsv\n"
     ]
    },
    {
     "name": "stderr",
     "output_type": "stream",
     "text": [
      "Processing files:  52%|\u001b[32m█████▏    \u001b[0m| 25/48 [03:44<05:24, 14.10s/file]"
     ]
    },
    {
     "name": "stdout",
     "output_type": "stream",
     "text": [
      "Processed file: UNL-UM_UO P194.tsv\n"
     ]
    },
    {
     "name": "stderr",
     "output_type": "stream",
     "text": [
      "Processing files:  54%|\u001b[32m█████▍    \u001b[0m| 26/48 [04:00<05:22, 14.65s/file]"
     ]
    },
    {
     "name": "stdout",
     "output_type": "stream",
     "text": [
      "Processed file: UNL-UM_UO P195.tsv\n"
     ]
    },
    {
     "name": "stderr",
     "output_type": "stream",
     "text": [
      "Processing files:  56%|\u001b[32m█████▋    \u001b[0m| 27/48 [04:17<05:19, 15.23s/file]"
     ]
    },
    {
     "name": "stdout",
     "output_type": "stream",
     "text": [
      "Processed file: UNL-UM_UO P196.tsv\n"
     ]
    },
    {
     "name": "stderr",
     "output_type": "stream",
     "text": [
      "Processing files:  58%|\u001b[32m█████▊    \u001b[0m| 28/48 [04:33<05:10, 15.53s/file]"
     ]
    },
    {
     "name": "stdout",
     "output_type": "stream",
     "text": [
      "Processed file: UNL-UM_UO P198.tsv\n"
     ]
    },
    {
     "name": "stderr",
     "output_type": "stream",
     "text": [
      "Processing files:  60%|\u001b[32m██████    \u001b[0m| 29/48 [04:50<05:02, 15.94s/file]"
     ]
    },
    {
     "name": "stdout",
     "output_type": "stream",
     "text": [
      "Processed file: UNL-UM_UO P202.tsv\n"
     ]
    },
    {
     "name": "stderr",
     "output_type": "stream",
     "text": [
      "Processing files:  62%|\u001b[32m██████▎   \u001b[0m| 30/48 [05:07<04:53, 16.33s/file]"
     ]
    },
    {
     "name": "stdout",
     "output_type": "stream",
     "text": [
      "Processed file: UNL-UM_UO P220.tsv\n"
     ]
    },
    {
     "name": "stderr",
     "output_type": "stream",
     "text": [
      "Processing files:  65%|\u001b[32m██████▍   \u001b[0m| 31/48 [05:25<04:46, 16.83s/file]"
     ]
    },
    {
     "name": "stdout",
     "output_type": "stream",
     "text": [
      "Processed file: UNL-UM_UO P223.tsv\n"
     ]
    },
    {
     "name": "stderr",
     "output_type": "stream",
     "text": [
      "Processing files:  67%|\u001b[32m██████▋   \u001b[0m| 32/48 [05:44<04:36, 17.25s/file]"
     ]
    },
    {
     "name": "stdout",
     "output_type": "stream",
     "text": [
      "Processed file: UNL-UM_UO P224.tsv\n"
     ]
    },
    {
     "name": "stderr",
     "output_type": "stream",
     "text": [
      "Processing files:  69%|\u001b[32m██████▉   \u001b[0m| 33/48 [06:02<04:25, 17.72s/file]"
     ]
    },
    {
     "name": "stdout",
     "output_type": "stream",
     "text": [
      "Processed file: UNL-UM_UO P225.tsv\n"
     ]
    },
    {
     "name": "stderr",
     "output_type": "stream",
     "text": [
      "Processing files:  71%|\u001b[32m███████   \u001b[0m| 34/48 [06:22<04:17, 18.39s/file]"
     ]
    },
    {
     "name": "stdout",
     "output_type": "stream",
     "text": [
      "Processed file: UNL-UM_UO P231.tsv\n"
     ]
    },
    {
     "name": "stderr",
     "output_type": "stream",
     "text": [
      "Processing files:  73%|\u001b[32m███████▎  \u001b[0m| 35/48 [06:41<04:01, 18.59s/file]"
     ]
    },
    {
     "name": "stdout",
     "output_type": "stream",
     "text": [
      "Processed file: UNL-UM_UO P243.tsv\n"
     ]
    },
    {
     "name": "stderr",
     "output_type": "stream",
     "text": [
      "Processing files:  75%|\u001b[32m███████▌  \u001b[0m| 36/48 [07:01<03:48, 19.03s/file]"
     ]
    },
    {
     "name": "stdout",
     "output_type": "stream",
     "text": [
      "Processed file: UNL-UM_UO P246.tsv\n"
     ]
    },
    {
     "name": "stderr",
     "output_type": "stream",
     "text": [
      "Processing files:  77%|\u001b[32m███████▋  \u001b[0m| 37/48 [07:22<03:33, 19.42s/file]"
     ]
    },
    {
     "name": "stdout",
     "output_type": "stream",
     "text": [
      "Processed file: UNL-UM_UO P247.tsv\n"
     ]
    },
    {
     "name": "stderr",
     "output_type": "stream",
     "text": [
      "Processing files:  79%|\u001b[32m███████▉  \u001b[0m| 38/48 [07:44<03:22, 20.24s/file]"
     ]
    },
    {
     "name": "stdout",
     "output_type": "stream",
     "text": [
      "Processed file: UNL-UM_UO P248.tsv\n"
     ]
    },
    {
     "name": "stderr",
     "output_type": "stream",
     "text": [
      "Processing files:  81%|\u001b[32m████████▏ \u001b[0m| 39/48 [08:07<03:09, 21.11s/file]"
     ]
    },
    {
     "name": "stdout",
     "output_type": "stream",
     "text": [
      "Processed file: UNL-UM_UO P250.tsv\n"
     ]
    },
    {
     "name": "stderr",
     "output_type": "stream",
     "text": [
      "Processing files:  83%|\u001b[32m████████▎ \u001b[0m| 40/48 [08:30<02:52, 21.58s/file]"
     ]
    },
    {
     "name": "stdout",
     "output_type": "stream",
     "text": [
      "Processed file: UNL-UM_UO P252.tsv\n"
     ]
    },
    {
     "name": "stderr",
     "output_type": "stream",
     "text": [
      "Processing files:  85%|\u001b[32m████████▌ \u001b[0m| 41/48 [08:53<02:33, 21.98s/file]"
     ]
    },
    {
     "name": "stdout",
     "output_type": "stream",
     "text": [
      "Processed file: UNL-UM_UO P253.tsv\n"
     ]
    },
    {
     "name": "stderr",
     "output_type": "stream",
     "text": [
      "Processing files:  88%|\u001b[32m████████▊ \u001b[0m| 42/48 [09:17<02:16, 22.68s/file]"
     ]
    },
    {
     "name": "stdout",
     "output_type": "stream",
     "text": [
      "Processed file: UNL-UM_UO P254.tsv\n"
     ]
    },
    {
     "name": "stderr",
     "output_type": "stream",
     "text": [
      "Processing files:  90%|\u001b[32m████████▉ \u001b[0m| 43/48 [09:41<01:54, 22.95s/file]"
     ]
    },
    {
     "name": "stdout",
     "output_type": "stream",
     "text": [
      "Processed file: UNL-UM_UO P255.tsv\n"
     ]
    },
    {
     "name": "stderr",
     "output_type": "stream",
     "text": [
      "Processing files:  92%|\u001b[32m█████████▏\u001b[0m| 44/48 [10:05<01:33, 23.46s/file]"
     ]
    },
    {
     "name": "stdout",
     "output_type": "stream",
     "text": [
      "Processed file: UNL-UM_UO P256.tsv\n"
     ]
    },
    {
     "name": "stderr",
     "output_type": "stream",
     "text": [
      "Processing files:  94%|\u001b[32m█████████▍\u001b[0m| 45/48 [10:30<01:11, 23.97s/file]"
     ]
    },
    {
     "name": "stdout",
     "output_type": "stream",
     "text": [
      "Processed file: UNL-UM_UO P257.tsv\n"
     ]
    },
    {
     "name": "stderr",
     "output_type": "stream",
     "text": [
      "Processing files:  96%|\u001b[32m█████████▌\u001b[0m| 46/48 [10:56<00:49, 24.53s/file]"
     ]
    },
    {
     "name": "stdout",
     "output_type": "stream",
     "text": [
      "Processed file: UNL-UM_UO P260.tsv\n"
     ]
    },
    {
     "name": "stderr",
     "output_type": "stream",
     "text": [
      "Processing files:  98%|\u001b[32m█████████▊\u001b[0m| 47/48 [11:23<00:25, 25.29s/file]"
     ]
    },
    {
     "name": "stdout",
     "output_type": "stream",
     "text": [
      "Processed file: UNL-UM_UO P262.tsv\n"
     ]
    },
    {
     "name": "stderr",
     "output_type": "stream",
     "text": [
      "Processing files: 100%|\u001b[32m██████████\u001b[0m| 48/48 [11:51<00:00, 14.82s/file]"
     ]
    },
    {
     "name": "stdout",
     "output_type": "stream",
     "text": [
      "Processed file: UNL-UM_UO P266.tsv\n"
     ]
    },
    {
     "name": "stderr",
     "output_type": "stream",
     "text": [
      "\n"
     ]
    }
   ],
   "source": [
    "eye_events, samples = parsers.UNL_UM(sample_size = 50)"
   ]
  },
  {
   "cell_type": "code",
   "execution_count": 8,
   "metadata": {},
   "outputs": [
    {
     "data": {
      "text/html": [
       "<div>\n",
       "<style scoped>\n",
       "    .dataframe tbody tr th:only-of-type {\n",
       "        vertical-align: middle;\n",
       "    }\n",
       "\n",
       "    .dataframe tbody tr th {\n",
       "        vertical-align: top;\n",
       "    }\n",
       "\n",
       "    .dataframe thead th {\n",
       "        text-align: right;\n",
       "    }\n",
       "</style>\n",
       "<table border=\"1\" class=\"dataframe\">\n",
       "  <thead>\n",
       "    <tr style=\"text-align: right;\">\n",
       "      <th></th>\n",
       "      <th>eye_tracker</th>\n",
       "      <th>experiment_id</th>\n",
       "      <th>participant_id</th>\n",
       "      <th>filename</th>\n",
       "      <th>trial_id</th>\n",
       "      <th>stimuli_module</th>\n",
       "      <th>stimuli_name</th>\n",
       "      <th>Recording timestamp</th>\n",
       "      <th>Project name</th>\n",
       "      <th>Export date</th>\n",
       "      <th>...</th>\n",
       "      <th>Presented Media name</th>\n",
       "      <th>Presented Media width</th>\n",
       "      <th>Presented Media height</th>\n",
       "      <th>Presented Media position X (DACSpx)</th>\n",
       "      <th>Presented Media position Y (DACSpx)</th>\n",
       "      <th>Original Media width</th>\n",
       "      <th>Original Media height</th>\n",
       "      <th>Eye movement type</th>\n",
       "      <th>Gaze event duration</th>\n",
       "      <th>Eye movement type index</th>\n",
       "    </tr>\n",
       "  </thead>\n",
       "  <tbody>\n",
       "    <tr>\n",
       "      <th>0</th>\n",
       "      <td>Tobii I-VT (Fixation)</td>\n",
       "      <td>17623623_P103</td>\n",
       "      <td>17623623_P103</td>\n",
       "      <td>UNL-UM_UO P103.tsv</td>\n",
       "      <td>Q5</td>\n",
       "      <td>datasets/UNL_UM24_30July/stimuli</td>\n",
       "      <td>Q5 (localhost).png</td>\n",
       "      <td>237868</td>\n",
       "      <td>UNL-UM_UO</td>\n",
       "      <td>2025/3/7</td>\n",
       "      <td>...</td>\n",
       "      <td>NaN</td>\n",
       "      <td>NaN</td>\n",
       "      <td>NaN</td>\n",
       "      <td>NaN</td>\n",
       "      <td>NaN</td>\n",
       "      <td>NaN</td>\n",
       "      <td>NaN</td>\n",
       "      <td>Fixation</td>\n",
       "      <td>567.0</td>\n",
       "      <td>413.0</td>\n",
       "    </tr>\n",
       "    <tr>\n",
       "      <th>1</th>\n",
       "      <td>Tobii I-VT (Fixation)</td>\n",
       "      <td>17623623_P103</td>\n",
       "      <td>17623623_P103</td>\n",
       "      <td>UNL-UM_UO P103.tsv</td>\n",
       "      <td>Q5</td>\n",
       "      <td>datasets/UNL_UM24_30July/stimuli</td>\n",
       "      <td>Q5 (localhost).png</td>\n",
       "      <td>237875</td>\n",
       "      <td>UNL-UM_UO</td>\n",
       "      <td>2025/3/7</td>\n",
       "      <td>...</td>\n",
       "      <td>ProLabQs Recording40.mp4</td>\n",
       "      <td>1920.0</td>\n",
       "      <td>1080.0</td>\n",
       "      <td>0.0</td>\n",
       "      <td>0.0</td>\n",
       "      <td>1920.0</td>\n",
       "      <td>1080.0</td>\n",
       "      <td>Saccade</td>\n",
       "      <td>42.0</td>\n",
       "      <td>655.0</td>\n",
       "    </tr>\n",
       "    <tr>\n",
       "      <th>2</th>\n",
       "      <td>Tobii I-VT (Fixation)</td>\n",
       "      <td>17623623_P103</td>\n",
       "      <td>17623623_P103</td>\n",
       "      <td>UNL-UM_UO P103.tsv</td>\n",
       "      <td>Q5</td>\n",
       "      <td>datasets/UNL_UM24_30July/stimuli</td>\n",
       "      <td>Q5 (localhost).png</td>\n",
       "      <td>237882</td>\n",
       "      <td>UNL-UM_UO</td>\n",
       "      <td>2025/3/7</td>\n",
       "      <td>...</td>\n",
       "      <td>NaN</td>\n",
       "      <td>NaN</td>\n",
       "      <td>NaN</td>\n",
       "      <td>NaN</td>\n",
       "      <td>NaN</td>\n",
       "      <td>NaN</td>\n",
       "      <td>NaN</td>\n",
       "      <td>Saccade</td>\n",
       "      <td>42.0</td>\n",
       "      <td>655.0</td>\n",
       "    </tr>\n",
       "    <tr>\n",
       "      <th>3</th>\n",
       "      <td>Tobii I-VT (Fixation)</td>\n",
       "      <td>17623623_P103</td>\n",
       "      <td>17623623_P103</td>\n",
       "      <td>UNL-UM_UO P103.tsv</td>\n",
       "      <td>Q5</td>\n",
       "      <td>datasets/UNL_UM24_30July/stimuli</td>\n",
       "      <td>Q5 (localhost).png</td>\n",
       "      <td>237883</td>\n",
       "      <td>UNL-UM_UO</td>\n",
       "      <td>2025/3/7</td>\n",
       "      <td>...</td>\n",
       "      <td>ProLabQs Recording40.mp4</td>\n",
       "      <td>1920.0</td>\n",
       "      <td>1080.0</td>\n",
       "      <td>0.0</td>\n",
       "      <td>0.0</td>\n",
       "      <td>1920.0</td>\n",
       "      <td>1080.0</td>\n",
       "      <td>Saccade</td>\n",
       "      <td>42.0</td>\n",
       "      <td>655.0</td>\n",
       "    </tr>\n",
       "    <tr>\n",
       "      <th>4</th>\n",
       "      <td>Tobii I-VT (Fixation)</td>\n",
       "      <td>17623623_P103</td>\n",
       "      <td>17623623_P103</td>\n",
       "      <td>UNL-UM_UO P103.tsv</td>\n",
       "      <td>Q5</td>\n",
       "      <td>datasets/UNL_UM24_30July/stimuli</td>\n",
       "      <td>Q5 (localhost).png</td>\n",
       "      <td>237891</td>\n",
       "      <td>UNL-UM_UO</td>\n",
       "      <td>2025/3/7</td>\n",
       "      <td>...</td>\n",
       "      <td>ProLabQs Recording40.mp4</td>\n",
       "      <td>1920.0</td>\n",
       "      <td>1080.0</td>\n",
       "      <td>0.0</td>\n",
       "      <td>0.0</td>\n",
       "      <td>1920.0</td>\n",
       "      <td>1080.0</td>\n",
       "      <td>Saccade</td>\n",
       "      <td>42.0</td>\n",
       "      <td>655.0</td>\n",
       "    </tr>\n",
       "  </tbody>\n",
       "</table>\n",
       "<p>5 rows × 79 columns</p>\n",
       "</div>"
      ],
      "text/plain": [
       "             eye_tracker  experiment_id participant_id            filename  \\\n",
       "0  Tobii I-VT (Fixation)  17623623_P103  17623623_P103  UNL-UM_UO P103.tsv   \n",
       "1  Tobii I-VT (Fixation)  17623623_P103  17623623_P103  UNL-UM_UO P103.tsv   \n",
       "2  Tobii I-VT (Fixation)  17623623_P103  17623623_P103  UNL-UM_UO P103.tsv   \n",
       "3  Tobii I-VT (Fixation)  17623623_P103  17623623_P103  UNL-UM_UO P103.tsv   \n",
       "4  Tobii I-VT (Fixation)  17623623_P103  17623623_P103  UNL-UM_UO P103.tsv   \n",
       "\n",
       "  trial_id                    stimuli_module        stimuli_name  \\\n",
       "0       Q5  datasets/UNL_UM24_30July/stimuli  Q5 (localhost).png   \n",
       "1       Q5  datasets/UNL_UM24_30July/stimuli  Q5 (localhost).png   \n",
       "2       Q5  datasets/UNL_UM24_30July/stimuli  Q5 (localhost).png   \n",
       "3       Q5  datasets/UNL_UM24_30July/stimuli  Q5 (localhost).png   \n",
       "4       Q5  datasets/UNL_UM24_30July/stimuli  Q5 (localhost).png   \n",
       "\n",
       "   Recording timestamp Project name Export date  ...  \\\n",
       "0               237868    UNL-UM_UO    2025/3/7  ...   \n",
       "1               237875    UNL-UM_UO    2025/3/7  ...   \n",
       "2               237882    UNL-UM_UO    2025/3/7  ...   \n",
       "3               237883    UNL-UM_UO    2025/3/7  ...   \n",
       "4               237891    UNL-UM_UO    2025/3/7  ...   \n",
       "\n",
       "       Presented Media name  Presented Media width Presented Media height  \\\n",
       "0                       NaN                    NaN                    NaN   \n",
       "1  ProLabQs Recording40.mp4                 1920.0                 1080.0   \n",
       "2                       NaN                    NaN                    NaN   \n",
       "3  ProLabQs Recording40.mp4                 1920.0                 1080.0   \n",
       "4  ProLabQs Recording40.mp4                 1920.0                 1080.0   \n",
       "\n",
       "  Presented Media position X (DACSpx) Presented Media position Y (DACSpx)  \\\n",
       "0                                 NaN                                 NaN   \n",
       "1                                 0.0                                 0.0   \n",
       "2                                 NaN                                 NaN   \n",
       "3                                 0.0                                 0.0   \n",
       "4                                 0.0                                 0.0   \n",
       "\n",
       "  Original Media width Original Media height  Eye movement type  \\\n",
       "0                  NaN                   NaN           Fixation   \n",
       "1               1920.0                1080.0            Saccade   \n",
       "2                  NaN                   NaN            Saccade   \n",
       "3               1920.0                1080.0            Saccade   \n",
       "4               1920.0                1080.0            Saccade   \n",
       "\n",
       "  Gaze event duration Eye movement type index  \n",
       "0               567.0                   413.0  \n",
       "1                42.0                   655.0  \n",
       "2                42.0                   655.0  \n",
       "3                42.0                   655.0  \n",
       "4                42.0                   655.0  \n",
       "\n",
       "[5 rows x 79 columns]"
      ]
     },
     "execution_count": 8,
     "metadata": {},
     "output_type": "execute_result"
    }
   ],
   "source": [
    "samples.head()"
   ]
  },
  {
   "cell_type": "code",
   "execution_count": 9,
   "metadata": {},
   "outputs": [
    {
     "data": {
      "text/html": [
       "<div>\n",
       "<style scoped>\n",
       "    .dataframe tbody tr th:only-of-type {\n",
       "        vertical-align: middle;\n",
       "    }\n",
       "\n",
       "    .dataframe tbody tr th {\n",
       "        vertical-align: top;\n",
       "    }\n",
       "\n",
       "    .dataframe thead th {\n",
       "        text-align: right;\n",
       "    }\n",
       "</style>\n",
       "<table border=\"1\" class=\"dataframe\">\n",
       "  <thead>\n",
       "    <tr style=\"text-align: right;\">\n",
       "      <th></th>\n",
       "      <th>eye_tracker</th>\n",
       "      <th>experiment_id</th>\n",
       "      <th>participant_id</th>\n",
       "      <th>filename</th>\n",
       "      <th>trial_id</th>\n",
       "      <th>stimuli_module</th>\n",
       "      <th>stimuli_name</th>\n",
       "      <th>timestamp</th>\n",
       "      <th>duration</th>\n",
       "      <th>x0</th>\n",
       "      <th>y0</th>\n",
       "      <th>x1</th>\n",
       "      <th>y1</th>\n",
       "      <th>token</th>\n",
       "      <th>pupil_l</th>\n",
       "      <th>pupil_r</th>\n",
       "      <th>amplitude</th>\n",
       "      <th>peak_velocity</th>\n",
       "      <th>eye_event_type</th>\n",
       "    </tr>\n",
       "  </thead>\n",
       "  <tbody>\n",
       "    <tr>\n",
       "      <th>0</th>\n",
       "      <td>Tobii I-VT (Fixation)</td>\n",
       "      <td>17623623_P103</td>\n",
       "      <td>17623623_P103</td>\n",
       "      <td>UNL-UM_UO P103.tsv</td>\n",
       "      <td>Q5</td>\n",
       "      <td>datasets/UNL_UM24_30July/stimuli</td>\n",
       "      <td>Q5 (localhost).png</td>\n",
       "      <td>237868</td>\n",
       "      <td>567.0</td>\n",
       "      <td>718.0</td>\n",
       "      <td>346.0</td>\n",
       "      <td>NaN</td>\n",
       "      <td>NaN</td>\n",
       "      <td>None</td>\n",
       "      <td>NaN</td>\n",
       "      <td>NaN</td>\n",
       "      <td>NaN</td>\n",
       "      <td>NaN</td>\n",
       "      <td>fixation</td>\n",
       "    </tr>\n",
       "    <tr>\n",
       "      <th>1</th>\n",
       "      <td>Tobii I-VT (Fixation)</td>\n",
       "      <td>17623623_P103</td>\n",
       "      <td>17623623_P103</td>\n",
       "      <td>UNL-UM_UO P103.tsv</td>\n",
       "      <td>Q5</td>\n",
       "      <td>datasets/UNL_UM24_30July/stimuli</td>\n",
       "      <td>Q5 (localhost).png</td>\n",
       "      <td>237916</td>\n",
       "      <td>192.0</td>\n",
       "      <td>543.0</td>\n",
       "      <td>342.0</td>\n",
       "      <td>NaN</td>\n",
       "      <td>NaN</td>\n",
       "      <td>None</td>\n",
       "      <td>3.494</td>\n",
       "      <td>3.425</td>\n",
       "      <td>NaN</td>\n",
       "      <td>NaN</td>\n",
       "      <td>fixation</td>\n",
       "    </tr>\n",
       "    <tr>\n",
       "      <th>2</th>\n",
       "      <td>Tobii I-VT (Fixation)</td>\n",
       "      <td>17623623_P103</td>\n",
       "      <td>17623623_P103</td>\n",
       "      <td>UNL-UM_UO P103.tsv</td>\n",
       "      <td>Q5</td>\n",
       "      <td>datasets/UNL_UM24_30July/stimuli</td>\n",
       "      <td>Q5 (localhost).png</td>\n",
       "      <td>237925</td>\n",
       "      <td>192.0</td>\n",
       "      <td>543.0</td>\n",
       "      <td>342.0</td>\n",
       "      <td>NaN</td>\n",
       "      <td>NaN</td>\n",
       "      <td>None</td>\n",
       "      <td>3.491</td>\n",
       "      <td>3.422</td>\n",
       "      <td>NaN</td>\n",
       "      <td>NaN</td>\n",
       "      <td>fixation</td>\n",
       "    </tr>\n",
       "    <tr>\n",
       "      <th>3</th>\n",
       "      <td>Tobii I-VT (Fixation)</td>\n",
       "      <td>17623623_P103</td>\n",
       "      <td>17623623_P103</td>\n",
       "      <td>UNL-UM_UO P103.tsv</td>\n",
       "      <td>Q5</td>\n",
       "      <td>datasets/UNL_UM24_30July/stimuli</td>\n",
       "      <td>Q5 (localhost).png</td>\n",
       "      <td>237933</td>\n",
       "      <td>192.0</td>\n",
       "      <td>543.0</td>\n",
       "      <td>342.0</td>\n",
       "      <td>NaN</td>\n",
       "      <td>NaN</td>\n",
       "      <td>None</td>\n",
       "      <td>3.489</td>\n",
       "      <td>3.419</td>\n",
       "      <td>NaN</td>\n",
       "      <td>NaN</td>\n",
       "      <td>fixation</td>\n",
       "    </tr>\n",
       "    <tr>\n",
       "      <th>4</th>\n",
       "      <td>Tobii I-VT (Fixation)</td>\n",
       "      <td>17623623_P103</td>\n",
       "      <td>17623623_P103</td>\n",
       "      <td>UNL-UM_UO P103.tsv</td>\n",
       "      <td>Q5</td>\n",
       "      <td>datasets/UNL_UM24_30July/stimuli</td>\n",
       "      <td>Q5 (localhost).png</td>\n",
       "      <td>237941</td>\n",
       "      <td>192.0</td>\n",
       "      <td>543.0</td>\n",
       "      <td>342.0</td>\n",
       "      <td>NaN</td>\n",
       "      <td>NaN</td>\n",
       "      <td>None</td>\n",
       "      <td>3.485</td>\n",
       "      <td>3.421</td>\n",
       "      <td>NaN</td>\n",
       "      <td>NaN</td>\n",
       "      <td>fixation</td>\n",
       "    </tr>\n",
       "  </tbody>\n",
       "</table>\n",
       "</div>"
      ],
      "text/plain": [
       "             eye_tracker  experiment_id participant_id            filename  \\\n",
       "0  Tobii I-VT (Fixation)  17623623_P103  17623623_P103  UNL-UM_UO P103.tsv   \n",
       "1  Tobii I-VT (Fixation)  17623623_P103  17623623_P103  UNL-UM_UO P103.tsv   \n",
       "2  Tobii I-VT (Fixation)  17623623_P103  17623623_P103  UNL-UM_UO P103.tsv   \n",
       "3  Tobii I-VT (Fixation)  17623623_P103  17623623_P103  UNL-UM_UO P103.tsv   \n",
       "4  Tobii I-VT (Fixation)  17623623_P103  17623623_P103  UNL-UM_UO P103.tsv   \n",
       "\n",
       "  trial_id                    stimuli_module        stimuli_name  timestamp  \\\n",
       "0       Q5  datasets/UNL_UM24_30July/stimuli  Q5 (localhost).png     237868   \n",
       "1       Q5  datasets/UNL_UM24_30July/stimuli  Q5 (localhost).png     237916   \n",
       "2       Q5  datasets/UNL_UM24_30July/stimuli  Q5 (localhost).png     237925   \n",
       "3       Q5  datasets/UNL_UM24_30July/stimuli  Q5 (localhost).png     237933   \n",
       "4       Q5  datasets/UNL_UM24_30July/stimuli  Q5 (localhost).png     237941   \n",
       "\n",
       "   duration     x0     y0  x1  y1 token  pupil_l  pupil_r  amplitude  \\\n",
       "0     567.0  718.0  346.0 NaN NaN  None      NaN      NaN        NaN   \n",
       "1     192.0  543.0  342.0 NaN NaN  None    3.494    3.425        NaN   \n",
       "2     192.0  543.0  342.0 NaN NaN  None    3.491    3.422        NaN   \n",
       "3     192.0  543.0  342.0 NaN NaN  None    3.489    3.419        NaN   \n",
       "4     192.0  543.0  342.0 NaN NaN  None    3.485    3.421        NaN   \n",
       "\n",
       "   peak_velocity eye_event_type  \n",
       "0            NaN       fixation  \n",
       "1            NaN       fixation  \n",
       "2            NaN       fixation  \n",
       "3            NaN       fixation  \n",
       "4            NaN       fixation  "
      ]
     },
     "execution_count": 9,
     "metadata": {},
     "output_type": "execute_result"
    }
   ],
   "source": [
    "eye_events.head()"
   ]
  },
  {
   "cell_type": "code",
   "execution_count": null,
   "metadata": {},
   "outputs": [],
   "source": [
    "# save the data\n",
    "# samples.to_csv('samples.csv', index = False)\n",
    "# eye_events.to_csv('eye_events.csv', index = False)"
   ]
  },
  {
   "cell_type": "code",
   "execution_count": 10,
   "metadata": {},
   "outputs": [
    {
     "data": {
      "text/plain": [
       "array(['Q5', 'Q1', 'Q2A', 'Q2B', 'Q4A', 'Q4B', 'Q3'], dtype=object)"
      ]
     },
     "execution_count": 10,
     "metadata": {},
     "output_type": "execute_result"
    }
   ],
   "source": [
    "unique_trials = samples['trial_id'].unique()\n",
    "unique_trials"
   ]
  },
  {
   "cell_type": "code",
   "execution_count": 11,
   "metadata": {},
   "outputs": [
    {
     "data": {
      "text/plain": [
       "array(['17623623_P103', '75894071_P105', '73142188_P107', '95297148_P113',\n",
       "       '26355477_P124', '28464710_P127', '7792871_P132', '50508067_P135',\n",
       "       '98138536_P139', '67006224_P140', '57466117_P142', '48914592_P143',\n",
       "       '50725150_P147', '87467712_P149', '19942717_P152', '53504980_P154',\n",
       "       '68288415_P155', '8953417_P157', '93748365_P160', '35630584_P170',\n",
       "       '25899018_P174', '14117440_P181', '71261375_P183', '66742041_P192',\n",
       "       '67744331_P194', '31424792_P195', '45622102_P196', '6103787_P198',\n",
       "       '37714676_P202', '56897660_P220', '61922052_P223', '92561849_P224',\n",
       "       '87020395_P225', '86625353_P231', '67020883_P243', '65560620_P246',\n",
       "       '17281517_P247', '15631446_P248', '67306020_P250', '22713769_P252',\n",
       "       '15120427_P253', '79664715_P254', '37314099_P255', '52450561_P256',\n",
       "       '78499485_P257', '19050980_P260', '2128416_P262', '82886310_P266'],\n",
       "      dtype=object)"
      ]
     },
     "execution_count": 11,
     "metadata": {},
     "output_type": "execute_result"
    }
   ],
   "source": [
    "unique_experiment_ids_samples = samples['experiment_id'].unique()\n",
    "unique_experiment_ids_samples"
   ]
  },
  {
   "cell_type": "code",
   "execution_count": 12,
   "metadata": {},
   "outputs": [
    {
     "data": {
      "text/plain": [
       "array(['17623623_P103', '75894071_P105', '73142188_P107', '95297148_P113',\n",
       "       '26355477_P124', '28464710_P127', '7792871_P132', '50508067_P135',\n",
       "       '98138536_P139', '67006224_P140', '57466117_P142', '48914592_P143',\n",
       "       '50725150_P147', '87467712_P149', '19942717_P152', '53504980_P154',\n",
       "       '68288415_P155', '8953417_P157', '93748365_P160', '35630584_P170',\n",
       "       '25899018_P174', '14117440_P181', '71261375_P183', '66742041_P192',\n",
       "       '67744331_P194', '31424792_P195', '45622102_P196', '6103787_P198',\n",
       "       '37714676_P202', '56897660_P220', '61922052_P223', '92561849_P224',\n",
       "       '87020395_P225', '86625353_P231', '67020883_P243', '65560620_P246',\n",
       "       '17281517_P247', '15631446_P248', '67306020_P250', '22713769_P252',\n",
       "       '15120427_P253', '79664715_P254', '37314099_P255', '52450561_P256',\n",
       "       '78499485_P257', '19050980_P260', '2128416_P262', '82886310_P266'],\n",
       "      dtype=object)"
      ]
     },
     "execution_count": 12,
     "metadata": {},
     "output_type": "execute_result"
    }
   ],
   "source": [
    "unique_experiment_ids_eye_events = eye_events[\"experiment_id\"].unique()\n",
    "unique_experiment_ids_eye_events            "
   ]
  },
  {
   "cell_type": "markdown",
   "metadata": {},
   "source": [
    "# Fixation Extraction"
   ]
  },
  {
   "cell_type": "markdown",
   "metadata": {},
   "source": [
    "### Extract one individual participant"
   ]
  },
  {
   "cell_type": "code",
   "execution_count": 16,
   "metadata": {},
   "outputs": [],
   "source": [
    "# difine the experiment_id and trial_id\n",
    "experiment_id = \"28464710_P127\"\n",
    "trial_id = 'Q1'"
   ]
  },
  {
   "cell_type": "code",
   "execution_count": 17,
   "metadata": {},
   "outputs": [
    {
     "data": {
      "text/html": [
       "<div>\n",
       "<style scoped>\n",
       "    .dataframe tbody tr th:only-of-type {\n",
       "        vertical-align: middle;\n",
       "    }\n",
       "\n",
       "    .dataframe tbody tr th {\n",
       "        vertical-align: top;\n",
       "    }\n",
       "\n",
       "    .dataframe thead th {\n",
       "        text-align: right;\n",
       "    }\n",
       "</style>\n",
       "<table border=\"1\" class=\"dataframe\">\n",
       "  <thead>\n",
       "    <tr style=\"text-align: right;\">\n",
       "      <th></th>\n",
       "      <th>eye_tracker</th>\n",
       "      <th>experiment_id</th>\n",
       "      <th>participant_id</th>\n",
       "      <th>filename</th>\n",
       "      <th>trial_id</th>\n",
       "      <th>stimuli_module</th>\n",
       "      <th>stimuli_name</th>\n",
       "      <th>timestamp</th>\n",
       "      <th>duration</th>\n",
       "      <th>x0</th>\n",
       "      <th>y0</th>\n",
       "      <th>x1</th>\n",
       "      <th>y1</th>\n",
       "      <th>token</th>\n",
       "      <th>pupil_l</th>\n",
       "      <th>pupil_r</th>\n",
       "      <th>amplitude</th>\n",
       "      <th>peak_velocity</th>\n",
       "      <th>eye_event_type</th>\n",
       "    </tr>\n",
       "  </thead>\n",
       "  <tbody>\n",
       "    <tr>\n",
       "      <th>359670</th>\n",
       "      <td>Tobii I-VT (Fixation)</td>\n",
       "      <td>28464710_P127</td>\n",
       "      <td>28464710_P127</td>\n",
       "      <td>UNL-UM_UO P127.tsv</td>\n",
       "      <td>Q1</td>\n",
       "      <td>datasets/UNL_UM24_30July/stimuli</td>\n",
       "      <td>Q1 (localhost).png</td>\n",
       "      <td>527928</td>\n",
       "      <td>258.0</td>\n",
       "      <td>951.0</td>\n",
       "      <td>518.0</td>\n",
       "      <td>NaN</td>\n",
       "      <td>NaN</td>\n",
       "      <td>None</td>\n",
       "      <td>NaN</td>\n",
       "      <td>NaN</td>\n",
       "      <td>NaN</td>\n",
       "      <td>NaN</td>\n",
       "      <td>fixation</td>\n",
       "    </tr>\n",
       "    <tr>\n",
       "      <th>359671</th>\n",
       "      <td>Tobii I-VT (Fixation)</td>\n",
       "      <td>28464710_P127</td>\n",
       "      <td>28464710_P127</td>\n",
       "      <td>UNL-UM_UO P127.tsv</td>\n",
       "      <td>Q1</td>\n",
       "      <td>datasets/UNL_UM24_30July/stimuli</td>\n",
       "      <td>Q1 (localhost).png</td>\n",
       "      <td>527931</td>\n",
       "      <td>258.0</td>\n",
       "      <td>951.0</td>\n",
       "      <td>518.0</td>\n",
       "      <td>NaN</td>\n",
       "      <td>NaN</td>\n",
       "      <td>None</td>\n",
       "      <td>2.779</td>\n",
       "      <td>2.908</td>\n",
       "      <td>NaN</td>\n",
       "      <td>NaN</td>\n",
       "      <td>fixation</td>\n",
       "    </tr>\n",
       "    <tr>\n",
       "      <th>359672</th>\n",
       "      <td>Tobii I-VT (Fixation)</td>\n",
       "      <td>28464710_P127</td>\n",
       "      <td>28464710_P127</td>\n",
       "      <td>UNL-UM_UO P127.tsv</td>\n",
       "      <td>Q1</td>\n",
       "      <td>datasets/UNL_UM24_30July/stimuli</td>\n",
       "      <td>Q1 (localhost).png</td>\n",
       "      <td>527939</td>\n",
       "      <td>258.0</td>\n",
       "      <td>951.0</td>\n",
       "      <td>518.0</td>\n",
       "      <td>NaN</td>\n",
       "      <td>NaN</td>\n",
       "      <td>None</td>\n",
       "      <td>2.771</td>\n",
       "      <td>2.916</td>\n",
       "      <td>NaN</td>\n",
       "      <td>NaN</td>\n",
       "      <td>fixation</td>\n",
       "    </tr>\n",
       "    <tr>\n",
       "      <th>359673</th>\n",
       "      <td>Tobii I-VT (Fixation)</td>\n",
       "      <td>28464710_P127</td>\n",
       "      <td>28464710_P127</td>\n",
       "      <td>UNL-UM_UO P127.tsv</td>\n",
       "      <td>Q1</td>\n",
       "      <td>datasets/UNL_UM24_30July/stimuli</td>\n",
       "      <td>Q1 (localhost).png</td>\n",
       "      <td>527944</td>\n",
       "      <td>258.0</td>\n",
       "      <td>951.0</td>\n",
       "      <td>518.0</td>\n",
       "      <td>NaN</td>\n",
       "      <td>NaN</td>\n",
       "      <td>None</td>\n",
       "      <td>NaN</td>\n",
       "      <td>NaN</td>\n",
       "      <td>NaN</td>\n",
       "      <td>NaN</td>\n",
       "      <td>fixation</td>\n",
       "    </tr>\n",
       "    <tr>\n",
       "      <th>359674</th>\n",
       "      <td>Tobii I-VT (Fixation)</td>\n",
       "      <td>28464710_P127</td>\n",
       "      <td>28464710_P127</td>\n",
       "      <td>UNL-UM_UO P127.tsv</td>\n",
       "      <td>Q1</td>\n",
       "      <td>datasets/UNL_UM24_30July/stimuli</td>\n",
       "      <td>Q1 (localhost).png</td>\n",
       "      <td>527948</td>\n",
       "      <td>258.0</td>\n",
       "      <td>951.0</td>\n",
       "      <td>518.0</td>\n",
       "      <td>NaN</td>\n",
       "      <td>NaN</td>\n",
       "      <td>None</td>\n",
       "      <td>2.769</td>\n",
       "      <td>2.913</td>\n",
       "      <td>NaN</td>\n",
       "      <td>NaN</td>\n",
       "      <td>fixation</td>\n",
       "    </tr>\n",
       "  </tbody>\n",
       "</table>\n",
       "</div>"
      ],
      "text/plain": [
       "                  eye_tracker  experiment_id participant_id  \\\n",
       "359670  Tobii I-VT (Fixation)  28464710_P127  28464710_P127   \n",
       "359671  Tobii I-VT (Fixation)  28464710_P127  28464710_P127   \n",
       "359672  Tobii I-VT (Fixation)  28464710_P127  28464710_P127   \n",
       "359673  Tobii I-VT (Fixation)  28464710_P127  28464710_P127   \n",
       "359674  Tobii I-VT (Fixation)  28464710_P127  28464710_P127   \n",
       "\n",
       "                  filename trial_id                    stimuli_module  \\\n",
       "359670  UNL-UM_UO P127.tsv       Q1  datasets/UNL_UM24_30July/stimuli   \n",
       "359671  UNL-UM_UO P127.tsv       Q1  datasets/UNL_UM24_30July/stimuli   \n",
       "359672  UNL-UM_UO P127.tsv       Q1  datasets/UNL_UM24_30July/stimuli   \n",
       "359673  UNL-UM_UO P127.tsv       Q1  datasets/UNL_UM24_30July/stimuli   \n",
       "359674  UNL-UM_UO P127.tsv       Q1  datasets/UNL_UM24_30July/stimuli   \n",
       "\n",
       "              stimuli_name  timestamp  duration     x0     y0  x1  y1 token  \\\n",
       "359670  Q1 (localhost).png     527928     258.0  951.0  518.0 NaN NaN  None   \n",
       "359671  Q1 (localhost).png     527931     258.0  951.0  518.0 NaN NaN  None   \n",
       "359672  Q1 (localhost).png     527939     258.0  951.0  518.0 NaN NaN  None   \n",
       "359673  Q1 (localhost).png     527944     258.0  951.0  518.0 NaN NaN  None   \n",
       "359674  Q1 (localhost).png     527948     258.0  951.0  518.0 NaN NaN  None   \n",
       "\n",
       "        pupil_l  pupil_r  amplitude  peak_velocity eye_event_type  \n",
       "359670      NaN      NaN        NaN            NaN       fixation  \n",
       "359671    2.779    2.908        NaN            NaN       fixation  \n",
       "359672    2.771    2.916        NaN            NaN       fixation  \n",
       "359673      NaN      NaN        NaN            NaN       fixation  \n",
       "359674    2.769    2.913        NaN            NaN       fixation  "
      ]
     },
     "execution_count": 17,
     "metadata": {},
     "output_type": "execute_result"
    }
   ],
   "source": [
    "# get the events samples for the experiment_id and trial_id\n",
    "trial_data = eye_events.loc[(eye_events['experiment_id'] == experiment_id) & \n",
    "                            (eye_events['trial_id'] == trial_id)]\n",
    "\n",
    "trial_data.head()"
   ]
  },
  {
   "cell_type": "code",
   "execution_count": 18,
   "metadata": {},
   "outputs": [
    {
     "ename": "OSError",
     "evalue": "Cannot save file into a non-existent directory: 'output\\unl_um\\individual\\fixations\\Q1'",
     "output_type": "error",
     "traceback": [
      "\u001b[1;31m---------------------------------------------------------------------------\u001b[0m",
      "\u001b[1;31mOSError\u001b[0m                                   Traceback (most recent call last)",
      "Cell \u001b[1;32mIn[18], line 2\u001b[0m\n\u001b[0;32m      1\u001b[0m \u001b[38;5;66;03m# save the data\u001b[39;00m\n\u001b[1;32m----> 2\u001b[0m \u001b[43mtrial_data\u001b[49m\u001b[38;5;241;43m.\u001b[39;49m\u001b[43mto_csv\u001b[49m\u001b[43m(\u001b[49m\u001b[38;5;124;43mf\u001b[39;49m\u001b[38;5;124;43m'\u001b[39;49m\u001b[38;5;124;43moutput/unl_um/individual/fixations/\u001b[39;49m\u001b[38;5;132;43;01m{\u001b[39;49;00m\u001b[43mtrial_id\u001b[49m\u001b[38;5;132;43;01m}\u001b[39;49;00m\u001b[38;5;124;43m/fixations_\u001b[39;49m\u001b[38;5;132;43;01m{\u001b[39;49;00m\u001b[43mtrial_id\u001b[49m\u001b[38;5;132;43;01m}\u001b[39;49;00m\u001b[38;5;124;43m_\u001b[39;49m\u001b[38;5;132;43;01m{\u001b[39;49;00m\u001b[43mexperiment_id\u001b[49m\u001b[38;5;132;43;01m}\u001b[39;49;00m\u001b[38;5;124;43m.csv\u001b[39;49m\u001b[38;5;124;43m'\u001b[39;49m\u001b[43m,\u001b[49m\u001b[43m \u001b[49m\u001b[43mindex\u001b[49m\u001b[43m \u001b[49m\u001b[38;5;241;43m=\u001b[39;49m\u001b[43m \u001b[49m\u001b[38;5;28;43;01mFalse\u001b[39;49;00m\u001b[43m)\u001b[49m\n",
      "File \u001b[1;32mc:\\Users\\Administrator\\miniconda3\\envs\\g2c\\lib\\site-packages\\pandas\\util\\_decorators.py:333\u001b[0m, in \u001b[0;36mdeprecate_nonkeyword_arguments.<locals>.decorate.<locals>.wrapper\u001b[1;34m(*args, **kwargs)\u001b[0m\n\u001b[0;32m    327\u001b[0m \u001b[38;5;28;01mif\u001b[39;00m \u001b[38;5;28mlen\u001b[39m(args) \u001b[38;5;241m>\u001b[39m num_allow_args:\n\u001b[0;32m    328\u001b[0m     warnings\u001b[38;5;241m.\u001b[39mwarn(\n\u001b[0;32m    329\u001b[0m         msg\u001b[38;5;241m.\u001b[39mformat(arguments\u001b[38;5;241m=\u001b[39m_format_argument_list(allow_args)),\n\u001b[0;32m    330\u001b[0m         \u001b[38;5;167;01mFutureWarning\u001b[39;00m,\n\u001b[0;32m    331\u001b[0m         stacklevel\u001b[38;5;241m=\u001b[39mfind_stack_level(),\n\u001b[0;32m    332\u001b[0m     )\n\u001b[1;32m--> 333\u001b[0m \u001b[38;5;28;01mreturn\u001b[39;00m func(\u001b[38;5;241m*\u001b[39margs, \u001b[38;5;241m*\u001b[39m\u001b[38;5;241m*\u001b[39mkwargs)\n",
      "File \u001b[1;32mc:\\Users\\Administrator\\miniconda3\\envs\\g2c\\lib\\site-packages\\pandas\\core\\generic.py:3967\u001b[0m, in \u001b[0;36mNDFrame.to_csv\u001b[1;34m(self, path_or_buf, sep, na_rep, float_format, columns, header, index, index_label, mode, encoding, compression, quoting, quotechar, lineterminator, chunksize, date_format, doublequote, escapechar, decimal, errors, storage_options)\u001b[0m\n\u001b[0;32m   3956\u001b[0m df \u001b[38;5;241m=\u001b[39m \u001b[38;5;28mself\u001b[39m \u001b[38;5;28;01mif\u001b[39;00m \u001b[38;5;28misinstance\u001b[39m(\u001b[38;5;28mself\u001b[39m, ABCDataFrame) \u001b[38;5;28;01melse\u001b[39;00m \u001b[38;5;28mself\u001b[39m\u001b[38;5;241m.\u001b[39mto_frame()\n\u001b[0;32m   3958\u001b[0m formatter \u001b[38;5;241m=\u001b[39m DataFrameFormatter(\n\u001b[0;32m   3959\u001b[0m     frame\u001b[38;5;241m=\u001b[39mdf,\n\u001b[0;32m   3960\u001b[0m     header\u001b[38;5;241m=\u001b[39mheader,\n\u001b[1;32m   (...)\u001b[0m\n\u001b[0;32m   3964\u001b[0m     decimal\u001b[38;5;241m=\u001b[39mdecimal,\n\u001b[0;32m   3965\u001b[0m )\n\u001b[1;32m-> 3967\u001b[0m \u001b[38;5;28;01mreturn\u001b[39;00m \u001b[43mDataFrameRenderer\u001b[49m\u001b[43m(\u001b[49m\u001b[43mformatter\u001b[49m\u001b[43m)\u001b[49m\u001b[38;5;241;43m.\u001b[39;49m\u001b[43mto_csv\u001b[49m\u001b[43m(\u001b[49m\n\u001b[0;32m   3968\u001b[0m \u001b[43m    \u001b[49m\u001b[43mpath_or_buf\u001b[49m\u001b[43m,\u001b[49m\n\u001b[0;32m   3969\u001b[0m \u001b[43m    \u001b[49m\u001b[43mlineterminator\u001b[49m\u001b[38;5;241;43m=\u001b[39;49m\u001b[43mlineterminator\u001b[49m\u001b[43m,\u001b[49m\n\u001b[0;32m   3970\u001b[0m \u001b[43m    \u001b[49m\u001b[43msep\u001b[49m\u001b[38;5;241;43m=\u001b[39;49m\u001b[43msep\u001b[49m\u001b[43m,\u001b[49m\n\u001b[0;32m   3971\u001b[0m \u001b[43m    \u001b[49m\u001b[43mencoding\u001b[49m\u001b[38;5;241;43m=\u001b[39;49m\u001b[43mencoding\u001b[49m\u001b[43m,\u001b[49m\n\u001b[0;32m   3972\u001b[0m \u001b[43m    \u001b[49m\u001b[43merrors\u001b[49m\u001b[38;5;241;43m=\u001b[39;49m\u001b[43merrors\u001b[49m\u001b[43m,\u001b[49m\n\u001b[0;32m   3973\u001b[0m \u001b[43m    \u001b[49m\u001b[43mcompression\u001b[49m\u001b[38;5;241;43m=\u001b[39;49m\u001b[43mcompression\u001b[49m\u001b[43m,\u001b[49m\n\u001b[0;32m   3974\u001b[0m \u001b[43m    \u001b[49m\u001b[43mquoting\u001b[49m\u001b[38;5;241;43m=\u001b[39;49m\u001b[43mquoting\u001b[49m\u001b[43m,\u001b[49m\n\u001b[0;32m   3975\u001b[0m \u001b[43m    \u001b[49m\u001b[43mcolumns\u001b[49m\u001b[38;5;241;43m=\u001b[39;49m\u001b[43mcolumns\u001b[49m\u001b[43m,\u001b[49m\n\u001b[0;32m   3976\u001b[0m \u001b[43m    \u001b[49m\u001b[43mindex_label\u001b[49m\u001b[38;5;241;43m=\u001b[39;49m\u001b[43mindex_label\u001b[49m\u001b[43m,\u001b[49m\n\u001b[0;32m   3977\u001b[0m \u001b[43m    \u001b[49m\u001b[43mmode\u001b[49m\u001b[38;5;241;43m=\u001b[39;49m\u001b[43mmode\u001b[49m\u001b[43m,\u001b[49m\n\u001b[0;32m   3978\u001b[0m \u001b[43m    \u001b[49m\u001b[43mchunksize\u001b[49m\u001b[38;5;241;43m=\u001b[39;49m\u001b[43mchunksize\u001b[49m\u001b[43m,\u001b[49m\n\u001b[0;32m   3979\u001b[0m \u001b[43m    \u001b[49m\u001b[43mquotechar\u001b[49m\u001b[38;5;241;43m=\u001b[39;49m\u001b[43mquotechar\u001b[49m\u001b[43m,\u001b[49m\n\u001b[0;32m   3980\u001b[0m \u001b[43m    \u001b[49m\u001b[43mdate_format\u001b[49m\u001b[38;5;241;43m=\u001b[39;49m\u001b[43mdate_format\u001b[49m\u001b[43m,\u001b[49m\n\u001b[0;32m   3981\u001b[0m \u001b[43m    \u001b[49m\u001b[43mdoublequote\u001b[49m\u001b[38;5;241;43m=\u001b[39;49m\u001b[43mdoublequote\u001b[49m\u001b[43m,\u001b[49m\n\u001b[0;32m   3982\u001b[0m \u001b[43m    \u001b[49m\u001b[43mescapechar\u001b[49m\u001b[38;5;241;43m=\u001b[39;49m\u001b[43mescapechar\u001b[49m\u001b[43m,\u001b[49m\n\u001b[0;32m   3983\u001b[0m \u001b[43m    \u001b[49m\u001b[43mstorage_options\u001b[49m\u001b[38;5;241;43m=\u001b[39;49m\u001b[43mstorage_options\u001b[49m\u001b[43m,\u001b[49m\n\u001b[0;32m   3984\u001b[0m \u001b[43m\u001b[49m\u001b[43m)\u001b[49m\n",
      "File \u001b[1;32mc:\\Users\\Administrator\\miniconda3\\envs\\g2c\\lib\\site-packages\\pandas\\io\\formats\\format.py:1014\u001b[0m, in \u001b[0;36mDataFrameRenderer.to_csv\u001b[1;34m(self, path_or_buf, encoding, sep, columns, index_label, mode, compression, quoting, quotechar, lineterminator, chunksize, date_format, doublequote, escapechar, errors, storage_options)\u001b[0m\n\u001b[0;32m    993\u001b[0m     created_buffer \u001b[38;5;241m=\u001b[39m \u001b[38;5;28;01mFalse\u001b[39;00m\n\u001b[0;32m    995\u001b[0m csv_formatter \u001b[38;5;241m=\u001b[39m CSVFormatter(\n\u001b[0;32m    996\u001b[0m     path_or_buf\u001b[38;5;241m=\u001b[39mpath_or_buf,\n\u001b[0;32m    997\u001b[0m     lineterminator\u001b[38;5;241m=\u001b[39mlineterminator,\n\u001b[1;32m   (...)\u001b[0m\n\u001b[0;32m   1012\u001b[0m     formatter\u001b[38;5;241m=\u001b[39m\u001b[38;5;28mself\u001b[39m\u001b[38;5;241m.\u001b[39mfmt,\n\u001b[0;32m   1013\u001b[0m )\n\u001b[1;32m-> 1014\u001b[0m \u001b[43mcsv_formatter\u001b[49m\u001b[38;5;241;43m.\u001b[39;49m\u001b[43msave\u001b[49m\u001b[43m(\u001b[49m\u001b[43m)\u001b[49m\n\u001b[0;32m   1016\u001b[0m \u001b[38;5;28;01mif\u001b[39;00m created_buffer:\n\u001b[0;32m   1017\u001b[0m     \u001b[38;5;28;01massert\u001b[39;00m \u001b[38;5;28misinstance\u001b[39m(path_or_buf, StringIO)\n",
      "File \u001b[1;32mc:\\Users\\Administrator\\miniconda3\\envs\\g2c\\lib\\site-packages\\pandas\\io\\formats\\csvs.py:251\u001b[0m, in \u001b[0;36mCSVFormatter.save\u001b[1;34m(self)\u001b[0m\n\u001b[0;32m    247\u001b[0m \u001b[38;5;250m\u001b[39m\u001b[38;5;124;03m\"\"\"\u001b[39;00m\n\u001b[0;32m    248\u001b[0m \u001b[38;5;124;03mCreate the writer & save.\u001b[39;00m\n\u001b[0;32m    249\u001b[0m \u001b[38;5;124;03m\"\"\"\u001b[39;00m\n\u001b[0;32m    250\u001b[0m \u001b[38;5;66;03m# apply compression and byte/text conversion\u001b[39;00m\n\u001b[1;32m--> 251\u001b[0m \u001b[38;5;28;01mwith\u001b[39;00m \u001b[43mget_handle\u001b[49m\u001b[43m(\u001b[49m\n\u001b[0;32m    252\u001b[0m \u001b[43m    \u001b[49m\u001b[38;5;28;43mself\u001b[39;49m\u001b[38;5;241;43m.\u001b[39;49m\u001b[43mfilepath_or_buffer\u001b[49m\u001b[43m,\u001b[49m\n\u001b[0;32m    253\u001b[0m \u001b[43m    \u001b[49m\u001b[38;5;28;43mself\u001b[39;49m\u001b[38;5;241;43m.\u001b[39;49m\u001b[43mmode\u001b[49m\u001b[43m,\u001b[49m\n\u001b[0;32m    254\u001b[0m \u001b[43m    \u001b[49m\u001b[43mencoding\u001b[49m\u001b[38;5;241;43m=\u001b[39;49m\u001b[38;5;28;43mself\u001b[39;49m\u001b[38;5;241;43m.\u001b[39;49m\u001b[43mencoding\u001b[49m\u001b[43m,\u001b[49m\n\u001b[0;32m    255\u001b[0m \u001b[43m    \u001b[49m\u001b[43merrors\u001b[49m\u001b[38;5;241;43m=\u001b[39;49m\u001b[38;5;28;43mself\u001b[39;49m\u001b[38;5;241;43m.\u001b[39;49m\u001b[43merrors\u001b[49m\u001b[43m,\u001b[49m\n\u001b[0;32m    256\u001b[0m \u001b[43m    \u001b[49m\u001b[43mcompression\u001b[49m\u001b[38;5;241;43m=\u001b[39;49m\u001b[38;5;28;43mself\u001b[39;49m\u001b[38;5;241;43m.\u001b[39;49m\u001b[43mcompression\u001b[49m\u001b[43m,\u001b[49m\n\u001b[0;32m    257\u001b[0m \u001b[43m    \u001b[49m\u001b[43mstorage_options\u001b[49m\u001b[38;5;241;43m=\u001b[39;49m\u001b[38;5;28;43mself\u001b[39;49m\u001b[38;5;241;43m.\u001b[39;49m\u001b[43mstorage_options\u001b[49m\u001b[43m,\u001b[49m\n\u001b[0;32m    258\u001b[0m \u001b[43m\u001b[49m\u001b[43m)\u001b[49m \u001b[38;5;28;01mas\u001b[39;00m handles:\n\u001b[0;32m    259\u001b[0m     \u001b[38;5;66;03m# Note: self.encoding is irrelevant here\u001b[39;00m\n\u001b[0;32m    260\u001b[0m     \u001b[38;5;28mself\u001b[39m\u001b[38;5;241m.\u001b[39mwriter \u001b[38;5;241m=\u001b[39m csvlib\u001b[38;5;241m.\u001b[39mwriter(\n\u001b[0;32m    261\u001b[0m         handles\u001b[38;5;241m.\u001b[39mhandle,\n\u001b[0;32m    262\u001b[0m         lineterminator\u001b[38;5;241m=\u001b[39m\u001b[38;5;28mself\u001b[39m\u001b[38;5;241m.\u001b[39mlineterminator,\n\u001b[1;32m   (...)\u001b[0m\n\u001b[0;32m    267\u001b[0m         quotechar\u001b[38;5;241m=\u001b[39m\u001b[38;5;28mself\u001b[39m\u001b[38;5;241m.\u001b[39mquotechar,\n\u001b[0;32m    268\u001b[0m     )\n\u001b[0;32m    270\u001b[0m     \u001b[38;5;28mself\u001b[39m\u001b[38;5;241m.\u001b[39m_save()\n",
      "File \u001b[1;32mc:\\Users\\Administrator\\miniconda3\\envs\\g2c\\lib\\site-packages\\pandas\\io\\common.py:749\u001b[0m, in \u001b[0;36mget_handle\u001b[1;34m(path_or_buf, mode, encoding, compression, memory_map, is_text, errors, storage_options)\u001b[0m\n\u001b[0;32m    747\u001b[0m \u001b[38;5;66;03m# Only for write methods\u001b[39;00m\n\u001b[0;32m    748\u001b[0m \u001b[38;5;28;01mif\u001b[39;00m \u001b[38;5;124m\"\u001b[39m\u001b[38;5;124mr\u001b[39m\u001b[38;5;124m\"\u001b[39m \u001b[38;5;129;01mnot\u001b[39;00m \u001b[38;5;129;01min\u001b[39;00m mode \u001b[38;5;129;01mand\u001b[39;00m is_path:\n\u001b[1;32m--> 749\u001b[0m     \u001b[43mcheck_parent_directory\u001b[49m\u001b[43m(\u001b[49m\u001b[38;5;28;43mstr\u001b[39;49m\u001b[43m(\u001b[49m\u001b[43mhandle\u001b[49m\u001b[43m)\u001b[49m\u001b[43m)\u001b[49m\n\u001b[0;32m    751\u001b[0m \u001b[38;5;28;01mif\u001b[39;00m compression:\n\u001b[0;32m    752\u001b[0m     \u001b[38;5;28;01mif\u001b[39;00m compression \u001b[38;5;241m!=\u001b[39m \u001b[38;5;124m\"\u001b[39m\u001b[38;5;124mzstd\u001b[39m\u001b[38;5;124m\"\u001b[39m:\n\u001b[0;32m    753\u001b[0m         \u001b[38;5;66;03m# compression libraries do not like an explicit text-mode\u001b[39;00m\n",
      "File \u001b[1;32mc:\\Users\\Administrator\\miniconda3\\envs\\g2c\\lib\\site-packages\\pandas\\io\\common.py:616\u001b[0m, in \u001b[0;36mcheck_parent_directory\u001b[1;34m(path)\u001b[0m\n\u001b[0;32m    614\u001b[0m parent \u001b[38;5;241m=\u001b[39m Path(path)\u001b[38;5;241m.\u001b[39mparent\n\u001b[0;32m    615\u001b[0m \u001b[38;5;28;01mif\u001b[39;00m \u001b[38;5;129;01mnot\u001b[39;00m parent\u001b[38;5;241m.\u001b[39mis_dir():\n\u001b[1;32m--> 616\u001b[0m     \u001b[38;5;28;01mraise\u001b[39;00m \u001b[38;5;167;01mOSError\u001b[39;00m(\u001b[38;5;124mrf\u001b[39m\u001b[38;5;124m\"\u001b[39m\u001b[38;5;124mCannot save file into a non-existent directory: \u001b[39m\u001b[38;5;124m'\u001b[39m\u001b[38;5;132;01m{\u001b[39;00mparent\u001b[38;5;132;01m}\u001b[39;00m\u001b[38;5;124m'\u001b[39m\u001b[38;5;124m\"\u001b[39m)\n",
      "\u001b[1;31mOSError\u001b[0m: Cannot save file into a non-existent directory: 'output\\unl_um\\individual\\fixations\\Q1'"
     ]
    }
   ],
   "source": [
    "# save the data\n",
    "trial_data.to_csv(f'output/unl_um/individual/fixations/{trial_id}/fixations_{trial_id}_{experiment_id}.csv', index = False)"
   ]
  },
  {
   "cell_type": "markdown",
   "metadata": {},
   "source": [
    "### Extract all the fixations for each participant by trial id"
   ]
  },
  {
   "cell_type": "code",
   "execution_count": 19,
   "metadata": {},
   "outputs": [
    {
     "data": {
      "text/plain": [
       "0     Q5\n",
       "1     Q1\n",
       "2    Q2A\n",
       "3    Q2B\n",
       "4    Q4A\n",
       "5    Q4B\n",
       "6     Q3\n",
       "dtype: object"
      ]
     },
     "execution_count": 19,
     "metadata": {},
     "output_type": "execute_result"
    }
   ],
   "source": [
    "# get the samples for the experiment_id and trial_id\n",
    "experiment_range = pd.Series(unique_experiment_ids_eye_events)\n",
    "# get the samples for the experiment_id and trial_id\n",
    "trial_range = pd.Series(unique_trials)\n",
    "experiment_range\n",
    "trial_range"
   ]
  },
  {
   "cell_type": "markdown",
   "metadata": {},
   "source": [
    "### Batch Export each individual fixations one by one "
   ]
  },
  {
   "cell_type": "code",
   "execution_count": 20,
   "metadata": {},
   "outputs": [],
   "source": [
    "# file path\n",
    "file_path = f'output/unl_um-30July/individual/fixations'"
   ]
  },
  {
   "cell_type": "code",
   "execution_count": 15,
   "metadata": {},
   "outputs": [
    {
     "name": "stderr",
     "output_type": "stream",
     "text": [
      "Processing experiment_id: 100%|\u001b[32m██████████\u001b[0m| 48/48 [03:32<00:00,  4.43s/it]"
     ]
    },
    {
     "name": "stdout",
     "output_type": "stream",
     "text": [
      "completed\n"
     ]
    },
    {
     "name": "stderr",
     "output_type": "stream",
     "text": [
      "\n"
     ]
    }
   ],
   "source": [
    "util.export_fixations(eye_events, samples, experiment_range, trial_range, file_path)"
   ]
  },
  {
   "cell_type": "markdown",
   "metadata": {},
   "source": [
    "### Extract Fixations for tasks by trial range"
   ]
  },
  {
   "cell_type": "code",
   "execution_count": 12,
   "metadata": {},
   "outputs": [],
   "source": [
    "# file path\n",
    "file_path = f'output/unl_um-30July/group/fixations'"
   ]
  },
  {
   "cell_type": "code",
   "execution_count": 13,
   "metadata": {},
   "outputs": [
    {
     "name": "stderr",
     "output_type": "stream",
     "text": [
      "Processing trial_id: 100%|\u001b[32m██████████\u001b[0m| 7/7 [00:21<00:00,  3.09s/it]"
     ]
    },
    {
     "name": "stdout",
     "output_type": "stream",
     "text": [
      "completed\n"
     ]
    },
    {
     "name": "stderr",
     "output_type": "stream",
     "text": [
      "\n"
     ]
    }
   ],
   "source": [
    "util.export_fixations(eye_events, samples, experiment_range, trial_range, file_path, bytask=True)"
   ]
  },
  {
   "cell_type": "markdown",
   "metadata": {},
   "source": [
    "### Extract Group by all combinatioin"
   ]
  },
  {
   "cell_type": "code",
   "execution_count": 16,
   "metadata": {},
   "outputs": [],
   "source": [
    "file_path = f'output/unl_um/all/fixations'"
   ]
  },
  {
   "cell_type": "code",
   "execution_count": 17,
   "metadata": {},
   "outputs": [
    {
     "name": "stderr",
     "output_type": "stream",
     "text": [
      "Processing eye events: 100%|██████████| 3819687/3819687 [00:10<00:00, 368548.43it/s]\n"
     ]
    },
    {
     "name": "stdout",
     "output_type": "stream",
     "text": [
      "Export completed successfully.\n"
     ]
    }
   ],
   "source": [
    "util.export_fixations(eye_events, samples, experiment_range, trial_range, \n",
    "                      file_path, byall=True)"
   ]
  }
 ],
 "metadata": {
  "kernelspec": {
   "display_name": "g2c",
   "language": "python",
   "name": "python3"
  },
  "language_info": {
   "codemirror_mode": {
    "name": "ipython",
    "version": 3
   },
   "file_extension": ".py",
   "mimetype": "text/x-python",
   "name": "python",
   "nbconvert_exporter": "python",
   "pygments_lexer": "ipython3",
   "version": "3.10.16"
  }
 },
 "nbformat": 4,
 "nbformat_minor": 2
}
